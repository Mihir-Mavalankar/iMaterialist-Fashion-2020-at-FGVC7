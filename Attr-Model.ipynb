{
 "cells": [
  {
   "cell_type": "code",
   "execution_count": 1,
   "metadata": {
    "ExecuteTime": {
     "end_time": "2020-05-22T01:28:49.136146Z",
     "start_time": "2020-05-22T01:28:45.715973Z"
    }
   },
   "outputs": [],
   "source": [
    "import os\n",
    "import math\n",
    "import torchvision \n",
    "import torch.nn as nn\n",
    "import torch\n",
    "import cv2\n",
    "from tqdm.notebook import tqdm\n",
    "import numpy as np # linear algebra\n",
    "import pandas as pd\n",
    "import gc"
   ]
  },
  {
   "cell_type": "code",
   "execution_count": 2,
   "metadata": {
    "ExecuteTime": {
     "end_time": "2020-05-22T01:29:08.865146Z",
     "start_time": "2020-05-22T01:28:49.268104Z"
    }
   },
   "outputs": [],
   "source": [
    "import pandas as pd\n",
    "train_df = pd.read_csv('data/imaterialist-fashion-2020-fgvc7/train.csv')"
   ]
  },
  {
   "cell_type": "code",
   "execution_count": 3,
   "metadata": {
    "ExecuteTime": {
     "end_time": "2020-05-22T01:29:16.126542Z",
     "start_time": "2020-05-22T01:29:09.035027Z"
    }
   },
   "outputs": [],
   "source": [
    "attr = train_df.AttributesIds\n",
    "clss = train_df.ClassId\n",
    "not_exist = attr.isna()\n",
    "non_nan_classes=[]\n",
    "for i in range(len(not_exist)):\n",
    "    if not not_exist[i]:\n",
    "        if clss[i] not in non_nan_classes:\n",
    "            non_nan_classes.append(clss[i])\n",
    "            \n",
    "non_nan_classes.sort()"
   ]
  },
  {
   "cell_type": "code",
   "execution_count": 7,
   "metadata": {
    "ExecuteTime": {
     "end_time": "2020-05-22T01:29:52.962067Z",
     "start_time": "2020-05-22T01:29:52.832109Z"
    }
   },
   "outputs": [],
   "source": [
    "filtered_df = pd.DataFrame(train_df[train_df.ClassId.isin(non_nan_classes)])"
   ]
  },
  {
   "cell_type": "code",
   "execution_count": 8,
   "metadata": {
    "ExecuteTime": {
     "end_time": "2020-05-22T01:29:53.706033Z",
     "start_time": "2020-05-22T01:29:53.701033Z"
    }
   },
   "outputs": [],
   "source": [
    "class CONFIG():\n",
    "    LABELS_LENGTH = 294"
   ]
  },
  {
   "cell_type": "code",
   "execution_count": 9,
   "metadata": {
    "ExecuteTime": {
     "end_time": "2020-05-22T01:29:54.413322Z",
     "start_time": "2020-05-22T01:29:54.404316Z"
    }
   },
   "outputs": [
    {
     "data": {
      "text/plain": [
       "'class AttrModel(nn.Module):\\n    def __init__(self, num_classes=294):\\n        super(AttrModel, self).__init__()\\n        self.num_classes = num_classes\\n        Base_Model = torchvision.models.resnet18(pretrained=True)\\n        \\n        children = list(Base_Model.children())\\n        \\n        self.conv = children[0]\\n        self.batch_norm = children[1]\\n        self.relu = children[2]\\n        self.maxpool = children[3]\\n        self.blocks1 = children[4]\\n        self.blocks2 = children[5]\\n        self.blocks3 = children[6]\\n        self.blocks4 = children[7]\\n        self.adp_avg_pool = children[8]\\n        self.fc = nn.Linear(children[9].in_features, self.num_classes)\\n        \\n        \\n    def forward(self, x):\\n        x = self.conv(x)\\n        x = self.batch_norm(x)\\n        x = self.relu(x)\\n        x = self.maxpool(x)\\n        x = self.blocks1(x)\\n        x = self.blocks2(x)\\n        x = self.blocks3(x)\\n        x = self.blocks4(x)\\n        x = self.adp_avg_pool(x)\\n        x = self.fc(x)\\n        x = torch.nn.functional.sigmoid(x)\\n        return x'"
      ]
     },
     "execution_count": 9,
     "metadata": {},
     "output_type": "execute_result"
    }
   ],
   "source": [
    "'''class AttrModel(nn.Module):\n",
    "    def __init__(self, num_classes=294):\n",
    "        super(AttrModel, self).__init__()\n",
    "        self.num_classes = num_classes\n",
    "        Base_Model = torchvision.models.resnet18(pretrained=True)\n",
    "        \n",
    "        children = list(Base_Model.children())\n",
    "        \n",
    "        self.conv = children[0]\n",
    "        self.batch_norm = children[1]\n",
    "        self.relu = children[2]\n",
    "        self.maxpool = children[3]\n",
    "        self.blocks1 = children[4]\n",
    "        self.blocks2 = children[5]\n",
    "        self.blocks3 = children[6]\n",
    "        self.blocks4 = children[7]\n",
    "        self.adp_avg_pool = children[8]\n",
    "        self.fc = nn.Linear(children[9].in_features, self.num_classes)\n",
    "        \n",
    "        \n",
    "    def forward(self, x):\n",
    "        x = self.conv(x)\n",
    "        x = self.batch_norm(x)\n",
    "        x = self.relu(x)\n",
    "        x = self.maxpool(x)\n",
    "        x = self.blocks1(x)\n",
    "        x = self.blocks2(x)\n",
    "        x = self.blocks3(x)\n",
    "        x = self.blocks4(x)\n",
    "        x = self.adp_avg_pool(x)\n",
    "        x = self.fc(x)\n",
    "        x = torch.nn.functional.sigmoid(x)\n",
    "        return x'''"
   ]
  },
  {
   "cell_type": "code",
   "execution_count": 10,
   "metadata": {
    "ExecuteTime": {
     "end_time": "2020-05-22T01:29:56.752921Z",
     "start_time": "2020-05-22T01:29:56.703936Z"
    },
    "scrolled": true
   },
   "outputs": [],
   "source": [
    "class Attr_Dataset(torch.utils.data.Dataset):\n",
    "    def __init__(self, config,  df):\n",
    "        self.IMGS = list(filtered_df.ImageId)\n",
    "        self.config = config\n",
    "        self.df = df\n",
    "        \n",
    "        self.Enc = list(self.df.EncodedPixels)\n",
    "        self.H = list(self.df.Height)\n",
    "        self.W = list(self.df.Width)\n",
    "        self.Attr = list(self.df.AttributesIds)\n",
    "        \n",
    "    def vectorize_labels(self, labels):\n",
    "        vector = np.array([0]*self.config.LABELS_LENGTH)\n",
    "        for idx in labels:\n",
    "            vector[idx]=1\n",
    "        return vector\n",
    "            \n",
    "    def change_label_indices(self, labels):\n",
    "        for i in range(len(labels)):\n",
    "            if labels[i]>234:\n",
    "                labels[i]-=47\n",
    "        return labels\n",
    "    \n",
    "    def make_single_mask(self, encoded_string, height, width):\n",
    "        splitted_string = np.array(list(map(int, encoded_string.split()))).reshape(-1,2)\n",
    "        mask = np.zeros((height*width), dtype=np.uint8)\n",
    "        for start_indice, run_length in splitted_string:\n",
    "            start_indice-=1\n",
    "            mask[start_indice:start_indice+run_length] = 1\n",
    "        return mask.reshape((height, width), order='F')\n",
    "        \n",
    "        \n",
    "    def __getitem__(self, idx):\n",
    "        img = np.array(cv2.cvtColor(cv2.imread('data/imaterialist-fashion-2020-fgvc7/train/' + self.IMGS[idx] + '.jpg'), cv2.COLOR_BGR2RGB)/255, dtype=np.float32)\n",
    "        mask = self.make_single_mask(self.Enc[idx], self.H[idx], self.W[idx])\n",
    "        mask_ = np.stack((mask,mask,mask), axis=-1)\n",
    "        img = img*mask_\n",
    "        img = cv2.resize(img, (1024, 1024), interpolation = cv2.INTER_AREA)\n",
    "        labels = self.Attr[idx]\n",
    "        if not (labels!=labels):        \n",
    "            labels = self.change_label_indices(list(map(int, labels.split(','))))\n",
    "        else:\n",
    "            labels=[]\n",
    "        label_vector = self.vectorize_labels(labels)\n",
    "        \n",
    "        \n",
    "        return np.moveaxis(img, -1, 0), label_vector\n",
    "    \n",
    "    def __len__(self):\n",
    "        return len(self.IMGS)\n",
    "\n",
    "def collate_fn(batch):\n",
    "    return tuple(zip(*batch))"
   ]
  },
  {
   "cell_type": "code",
   "execution_count": 11,
   "metadata": {
    "ExecuteTime": {
     "end_time": "2020-05-22T01:29:59.047407Z",
     "start_time": "2020-05-22T01:29:59.032412Z"
    }
   },
   "outputs": [],
   "source": [
    "class AttrModel(nn.Module):\n",
    "    def __init__(self, num_classes=294):\n",
    "        super(AttrModel, self).__init__()\n",
    "        self.num_classes = num_classes\n",
    "        Base_Model = torchvision.models.resnet18(pretrained=True, progress=True)\n",
    "        Base_Model.fc = nn.Linear(Base_Model.fc.in_features, num_classes)\n",
    "        self.Model_Backend = Base_Model\n",
    "        \n",
    "        self.sigmoid = torch.nn.Sigmoid()\n",
    "    def forward(self, x):\n",
    "        x = self.Model_Backend(x)\n",
    "        x = self.sigmoid(x)\n",
    "        return x"
   ]
  },
  {
   "cell_type": "code",
   "execution_count": 12,
   "metadata": {
    "ExecuteTime": {
     "end_time": "2020-05-22T01:30:01.400018Z",
     "start_time": "2020-05-22T01:30:01.392018Z"
    }
   },
   "outputs": [],
   "source": [
    "saving_steps = 200\n",
    "epoch=0\n",
    "batch_size=12\n",
    "last = 672"
   ]
  },
  {
   "cell_type": "code",
   "execution_count": 13,
   "metadata": {
    "ExecuteTime": {
     "end_time": "2020-05-22T01:30:03.231801Z",
     "start_time": "2020-05-22T01:30:02.146322Z"
    }
   },
   "outputs": [],
   "source": [
    "#AttrM = AttrModel()\n",
    "AttrM = torch.load('models/Base.pt')   \n",
    "conf = CONFIG()\n",
    "Attr_dataset = Attr_Dataset(conf, filtered_df)\n",
    "Attr_data_loader = torch.utils.data.DataLoader(Attr_dataset, batch_size=8, shuffle=True)"
   ]
  },
  {
   "cell_type": "code",
   "execution_count": 14,
   "metadata": {
    "ExecuteTime": {
     "end_time": "2020-05-22T01:30:08.391797Z",
     "start_time": "2020-05-22T01:30:04.406213Z"
    }
   },
   "outputs": [],
   "source": [
    "criterion = nn.BCELoss()\n",
    "params = [p for p in AttrM.parameters() if p.requires_grad]\n",
    "optimizer = torch.optim.SGD(params, lr=0.005,momentum=0.9, weight_decay=0.0005)\n",
    "DEVICE = torch.device('cuda:1')\n",
    "_ = AttrM.to(DEVICE)\n",
    "_ = AttrM.train()"
   ]
  },
  {
   "cell_type": "code",
   "execution_count": null,
   "metadata": {
    "ExecuteTime": {
     "start_time": "2020-05-22T01:30:09.882Z"
    },
    "scrolled": true
   },
   "outputs": [
    {
     "data": {
      "application/vnd.jupyter.widget-view+json": {
       "model_id": "bb2b6a6204d44df482f0885e843ed470",
       "version_major": 2,
       "version_minor": 0
      },
      "text/plain": [
       "HBox(children=(IntProgress(value=0, max=19013), HTML(value='')))"
      ]
     },
     "metadata": {},
     "output_type": "display_data"
    },
    {
     "name": "stdout",
     "output_type": "stream",
     "text": [
      "loss at step  672 is 0.05351759493350983\n",
      "loss at step  673 is 0.05278264358639717\n",
      "loss at step  674 is 0.0606030598282814\n",
      "loss at step  675 is 0.048182904720306396\n",
      "loss at step  676 is 0.06026555597782135\n",
      "loss at step  677 is 0.04453951492905617\n",
      "loss at step  678 is 0.0445040799677372\n",
      "loss at step  679 is 0.0501612164080143\n",
      "loss at step  680 is 0.050962407141923904\n",
      "loss at step  681 is 0.056361038237810135\n",
      "loss at step  682 is 0.05171194300055504\n",
      "loss at step  683 is 0.049835916608572006\n",
      "loss at step  684 is 0.054386772215366364\n",
      "loss at step  685 is 0.05372697114944458\n",
      "loss at step  686 is 0.050018180161714554\n",
      "loss at step  687 is 0.061788804829120636\n",
      "loss at step  688 is 0.04037660360336304\n",
      "loss at step  689 is 0.056798990815877914\n",
      "loss at step  690 is 0.04131759703159332\n",
      "loss at step  691 is 0.05348939076066017\n",
      "loss at step  692 is 0.04956731200218201\n",
      "loss at step  693 is 0.04834343120455742\n",
      "loss at step  694 is 0.04926472529768944\n",
      "loss at step  695 is 0.056187793612480164\n",
      "loss at step  696 is 0.04895782470703125\n",
      "loss at step  697 is 0.04403551295399666\n",
      "loss at step  698 is 0.05854795128107071\n",
      "loss at step  699 is 0.05384967476129532\n",
      "loss at step  700 is 0.04509377107024193\n",
      "loss at step  701 is 0.047353312373161316\n",
      "loss at step  702 is 0.046865325421094894\n",
      "loss at step  703 is 0.059234075248241425\n",
      "loss at step  704 is 0.047682151198387146\n",
      "loss at step  705 is 0.056945424526929855\n",
      "loss at step  706 is 0.04976845160126686\n",
      "loss at step  707 is 0.051027920097112656\n",
      "loss at step  708 is 0.06402398645877838\n",
      "loss at step  709 is 0.0455387718975544\n",
      "loss at step  710 is 0.0444490984082222\n",
      "loss at step  711 is 0.05623789131641388\n",
      "loss at step  712 is 0.05294814705848694\n",
      "loss at step  713 is 0.0477103590965271\n",
      "loss at step  714 is 0.0455436110496521\n",
      "loss at step  715 is 0.0608719140291214\n",
      "loss at step  716 is 0.060250069946050644\n",
      "loss at step  717 is 0.0492415577173233\n",
      "loss at step  718 is 0.04307233542203903\n",
      "loss at step  719 is 0.05063288286328316\n",
      "loss at step  720 is 0.055007439106702805\n",
      "loss at step  721 is 0.03757930174469948\n",
      "loss at step  722 is 0.053496699780225754\n",
      "loss at step  723 is 0.04705014079809189\n",
      "loss at step  724 is 0.045681364834308624\n",
      "loss at step  725 is 0.04478883743286133\n",
      "loss at step  726 is 0.05585574358701706\n",
      "loss at step  727 is 0.05284490808844566\n",
      "loss at step  728 is 0.05258208140730858\n",
      "loss at step  729 is 0.04694662243127823\n",
      "loss at step  730 is 0.05355934053659439\n",
      "loss at step  731 is 0.04794573783874512\n",
      "loss at step  732 is 0.056536756455898285\n",
      "loss at step  733 is 0.05413184314966202\n",
      "loss at step  734 is 0.056192170828580856\n",
      "loss at step  735 is 0.056713469326496124\n",
      "loss at step  736 is 0.045531585812568665\n",
      "loss at step  737 is 0.05336650833487511\n",
      "loss at step  738 is 0.0579574853181839\n",
      "loss at step  739 is 0.04824578016996384\n",
      "loss at step  740 is 0.049953825771808624\n",
      "loss at step  741 is 0.04532461240887642\n",
      "loss at step  742 is 0.046935681253671646\n",
      "loss at step  743 is 0.05481206253170967\n",
      "loss at step  744 is 0.03601500764489174\n",
      "loss at step  745 is 0.047795627266168594\n",
      "loss at step  746 is 0.042912594974040985\n",
      "loss at step  747 is 0.05109613016247749\n",
      "loss at step  748 is 0.04278741031885147\n",
      "loss at step  749 is 0.0577201247215271\n",
      "loss at step  750 is 0.04644908383488655\n",
      "loss at step  751 is 0.06590835750102997\n",
      "loss at step  752 is 0.0415908508002758\n",
      "loss at step  753 is 0.05809413269162178\n",
      "loss at step  754 is 0.04538239166140556\n",
      "loss at step  755 is 0.04416606202721596\n",
      "loss at step  756 is 0.056664180010557175\n",
      "loss at step  757 is 0.05563407763838768\n",
      "loss at step  758 is 0.048587873578071594\n",
      "loss at step  759 is 0.046875961124897\n",
      "loss at step  760 is 0.05004410445690155\n",
      "loss at step  761 is 0.05231286957859993\n",
      "loss at step  762 is 0.04856843128800392\n",
      "loss at step  763 is 0.04693906009197235\n",
      "loss at step  764 is 0.04854976385831833\n",
      "loss at step  765 is 0.0318155474960804\n",
      "loss at step  766 is 0.0564655177295208\n",
      "loss at step  767 is 0.048748258501291275\n",
      "loss at step  768 is 0.05277945101261139\n",
      "loss at step  769 is 0.051032327115535736\n",
      "loss at step  770 is 0.04557914659380913\n",
      "loss at step  771 is 0.05924557149410248\n",
      "loss at step  772 is 0.04869447648525238\n",
      "loss at step  773 is 0.05502789840102196\n",
      "loss at step  774 is 0.05125368386507034\n",
      "loss at step  775 is 0.04380391165614128\n",
      "loss at step  776 is 0.052128106355667114\n",
      "loss at step  777 is 0.05470810830593109\n",
      "loss at step  778 is 0.047983165830373764\n",
      "loss at step  779 is 0.034704867750406265\n",
      "loss at step  780 is 0.04794996976852417\n",
      "loss at step  781 is 0.04837654531002045\n"
     ]
    }
   ],
   "source": [
    "\n",
    "loss_tracking=0\n",
    "for i in tqdm(range(last, len(Attr_dataset)//batch_size, 1)):\n",
    "    images = []\n",
    "    targets = []\n",
    "    \n",
    "    for j in range(batch_size):\n",
    "        I, T = Attr_dataset[i*batch_size+j]\n",
    "        images.append(I)\n",
    "        targets.append(T)\n",
    "        \n",
    "    images = torch.tensor(images, dtype=torch.float32).to(DEVICE)\n",
    "    targets = torch.tensor(targets, dtype=torch.float32).to(DEVICE)\n",
    "    \n",
    "    out = AttrM(images)\n",
    "    loss =  criterion(out, targets)\n",
    "    \n",
    "    optimizer.zero_grad()\n",
    "    loss.backward()\n",
    "    optimizer.step()\n",
    "    print('loss at step ', i, 'is', loss.item())\n",
    "    loss_tracking+=loss.item()\n",
    "    \n",
    "    if i%saving_steps==0:\n",
    "        print('================================  Model Saved  ================================')\n",
    "        torch.save(AttrM, 'models/Attr_epoch_'+str(epoch)+'_step_'+str(i)+'_Loss_'+str(loss_tracking/(i+1-last)))\n",
    "        torch.cuda.empty_cache()\n",
    "        gc.collect()\n"
   ]
  },
  {
   "cell_type": "code",
   "execution_count": null,
   "metadata": {},
   "outputs": [],
   "source": [
    "o"
   ]
  }
 ],
 "metadata": {
  "kernelspec": {
   "display_name": "Python 3",
   "language": "python",
   "name": "python3"
  },
  "language_info": {
   "codemirror_mode": {
    "name": "ipython",
    "version": 3
   },
   "file_extension": ".py",
   "mimetype": "text/x-python",
   "name": "python",
   "nbconvert_exporter": "python",
   "pygments_lexer": "ipython3",
   "version": "3.7.4"
  },
  "toc": {
   "base_numbering": 1,
   "nav_menu": {},
   "number_sections": true,
   "sideBar": true,
   "skip_h1_title": false,
   "title_cell": "Table of Contents",
   "title_sidebar": "Contents",
   "toc_cell": false,
   "toc_position": {},
   "toc_section_display": true,
   "toc_window_display": false
  },
  "varInspector": {
   "cols": {
    "lenName": 16,
    "lenType": 16,
    "lenVar": 40
   },
   "kernels_config": {
    "python": {
     "delete_cmd_postfix": "",
     "delete_cmd_prefix": "del ",
     "library": "var_list.py",
     "varRefreshCmd": "print(var_dic_list())"
    },
    "r": {
     "delete_cmd_postfix": ") ",
     "delete_cmd_prefix": "rm(",
     "library": "var_list.r",
     "varRefreshCmd": "cat(var_dic_list()) "
    }
   },
   "types_to_exclude": [
    "module",
    "function",
    "builtin_function_or_method",
    "instance",
    "_Feature"
   ],
   "window_display": false
  }
 },
 "nbformat": 4,
 "nbformat_minor": 2
}
