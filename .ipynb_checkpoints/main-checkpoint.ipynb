{
 "cells": [
  {
   "cell_type": "code",
   "execution_count": 41,
   "metadata": {
    "ExecuteTime": {
     "end_time": "2020-05-01T21:04:33.898704Z",
     "start_time": "2020-05-01T21:04:33.886703Z"
    }
   },
   "outputs": [],
   "source": [
    "import pandas as pd\n",
    "import numpy as np\n",
    "import json\n",
    "import os\n",
    "from multiprocessing import Pool\n",
    "from tqdm.notebook import tqdm\n",
    "import gc\n",
    "import pickle\n",
    "import joblib\n",
    "import cv2\n",
    "#import bz2\n",
    "from PIL import Image\n",
    "import matplotlib.pyplot as plt\n",
    "import matplotlib.image as mpimg\n",
    "#import config\n"
   ]
  },
  {
   "cell_type": "code",
   "execution_count": 104,
   "metadata": {
    "ExecuteTime": {
     "end_time": "2020-05-01T22:01:18.608095Z",
     "start_time": "2020-05-01T22:01:18.598098Z"
    }
   },
   "outputs": [],
   "source": [
    "class Config(object):\n",
    "    DATA_PATH = 'data/imaterialist-fashion-2020-fgvc7'\n",
    "    IMAGE_SIZE = 256\n",
    "    NO_OF_CLASSES = 46\n",
    "    BATCH_SIZE = 8\n",
    "    OUTPUT_MASK_SIZE=256\n",
    "    RESIZE=True\n",
    "    \n",
    "        "
   ]
  },
  {
   "cell_type": "code",
   "execution_count": 143,
   "metadata": {
    "ExecuteTime": {
     "end_time": "2020-05-01T22:12:19.109132Z",
     "start_time": "2020-05-01T22:12:19.045153Z"
    }
   },
   "outputs": [],
   "source": [
    "class Dataset():\n",
    "    def __init__ (self, config, df, random_seed=0):\n",
    "        self.CONFIG = config\n",
    "        self.TRAINING_DATA_PATH = self.CONFIG.DATA_PATH + '/train/'\n",
    "        self.TRAINING_DATA_FRAME = df\n",
    "        self.DATASET_IDXS = self.TRAINING_DATA_FRAME.ImageId.unique()\n",
    "        self.DATASET_SIZE = self.DATASET_IDXS.shape[0]\n",
    "        \n",
    "        np.random.seed(random_seed)\n",
    "        np.random.shuffle(self.DATASET_IDXS)\n",
    "        self.CURRENT_IDX=0\n",
    "        \n",
    "    def get_image(self, image_id, resize=True):\n",
    "        img = cv2.cvtColor( cv2.imread(self.TRAINING_DATA_PATH+image_id+'.jpg'), cv2.COLOR_BGR2RGB)\n",
    "        if resize:\n",
    "            return cv2.resize(img, \n",
    "                              (self.CONFIG.IMAGE_SIZE, self.CONFIG.IMAGE_SIZE), \n",
    "                              interpolation = cv2.INTER_NEAREST)\n",
    "        else:\n",
    "            return img\n",
    "        \n",
    "    def make_single_mask(self, encoded_string, height, width):\n",
    "        splitted_string = np.array(list(map(int, encoded_string.split()))).reshape(-1,2)\n",
    "        mask = np.zeros((height*width), dtype=np.uint8)\n",
    "        for start_indice, run_length in splitted_string:\n",
    "            start_indice-=1\n",
    "            mask[start_indice:start_indice+run_length] = 1\n",
    "        return mask.reshape((height, width), order='F')\n",
    "    \n",
    "    def get_mask(self, image_id, resize=True):\n",
    "        query = self.TRAINING_DATA_FRAME[self.TRAINING_DATA_FRAME.ImageId==image_id]\n",
    "        encoded_pixels = query.EncodedPixels\n",
    "        class_ids = query.ClassId\n",
    "        height, width = list(query.Height)[0], list(query.Width)[0]\n",
    "        \n",
    "        if resize:\n",
    "            mask = np.zeros((self.CONFIG.OUTPUT_MASK_SIZE, self.CONFIG.OUTPUT_MASK_SIZE, self.CONFIG.NO_OF_CLASSES), \n",
    "                            dtype=np.uint8)\n",
    "        else:\n",
    "            mask = np.zeros((height, width, self.CONFIG.NO_OF_CLASSES), \n",
    "                            dtype=np.uint8)\n",
    "            \n",
    "        for _, (encoded_pixel_str, class_id) in enumerate(zip(encoded_pixels, class_ids)):\n",
    "            sub_mask = self.make_single_mask(encoded_pixel_str, height, width)\n",
    "            if resize:\n",
    "                sub_mask = cv2.resize(sub_mask, \n",
    "                                      (self.CONFIG.OUTPUT_MASK_SIZE, self.CONFIG.OUTPUT_MASK_SIZE), \n",
    "                                      interpolation=cv2.INTER_NEAREST)\n",
    "            mask[:,:,class_id] = sub_mask\n",
    "        return mask                    \n",
    "    \n",
    "    def sample_next_batch(self):\n",
    "        next_idx = self.CURRENT_IDX+self.CONFIG.BATCH_SIZE\n",
    "        if next_idx>self.DATASET_SIZE-1:\n",
    "            next_idx = self.CONFIG.BATCH_SIZE-(self.DATASET_SIZE-self.CURRENT_IDX)\n",
    "            batch_idxs = np.concatenate((self.DATASET_IDXS[self.CURRENT_IDX:], \n",
    "                                        self.DATASET_IDXS[:next_idx]))\n",
    "            self.CURRENT_IDX = next_idx\n",
    "            return batch_idxs, True\n",
    "        else:\n",
    "            batch_idxs = self.DATASET_IDXS[self.CURRENT_IDX:next_idx]\n",
    "            self.CURRENT_IDX = next_idx\n",
    "            return batch_idxs, False\n",
    "    \n",
    "    def get_next_batch(self, resize=True):\n",
    "        batch_idxs, epoch_finish = self.sample_next_batch()\n",
    "        print(batch_idxs)\n",
    "        train_item, test_item = [], []\n",
    "        for image_id in batch_idxs:\n",
    "            train_item.append(self.get_image(image_id, resize=resize))\n",
    "            test_item.append(self.get_mask(image_id, resize=resize))\n",
    "        return np.array(train_item), np.array(test_item), epoch_finish\n",
    "            \n",
    "        \n",
    "        "
   ]
  },
  {
   "cell_type": "code",
   "execution_count": 131,
   "metadata": {
    "ExecuteTime": {
     "end_time": "2020-05-01T22:09:40.764629Z",
     "start_time": "2020-05-01T22:09:21.654721Z"
    }
   },
   "outputs": [],
   "source": [
    "config = Config()\n",
    "train_df = pd.read_csv(config.DATA_PATH+'/train.csv')"
   ]
  },
  {
   "cell_type": "code",
   "execution_count": 144,
   "metadata": {
    "ExecuteTime": {
     "end_time": "2020-05-01T22:12:21.417923Z",
     "start_time": "2020-05-01T22:12:21.303959Z"
    }
   },
   "outputs": [],
   "source": [
    "d = Dataset(config, train_df)"
   ]
  },
  {
   "cell_type": "code",
   "execution_count": 150,
   "metadata": {
    "ExecuteTime": {
     "end_time": "2020-05-01T22:13:58.102315Z",
     "start_time": "2020-05-01T22:13:44.876520Z"
    }
   },
   "outputs": [
    {
     "name": "stdout",
     "output_type": "stream",
     "text": [
      "['0cc89a84a6beab91f27e74085efa2d26' 'f241d5d9463a04b5b7fb4f87f38dec19'\n",
      " '4103ae509d6d30c5c866f98c602236d4' 'c04a4c717db7bf85b66815658ec4dabb'\n",
      " 'ffe31be462c0f3fa586171f7df788887' 'c6e7163adcb5992f36d7527ae241690d'\n",
      " '22722cf5130f94811e8bfd189c435e87' '7e7d2de5af00efbd7aa00760c5369ddf']\n"
     ]
    }
   ],
   "source": [
    "a, b, c = d.get_next_batch(resize=False)"
   ]
  }
 ],
 "metadata": {
  "kernelspec": {
   "display_name": "Python 3",
   "language": "python",
   "name": "python3"
  },
  "language_info": {
   "codemirror_mode": {
    "name": "ipython",
    "version": 3
   },
   "file_extension": ".py",
   "mimetype": "text/x-python",
   "name": "python",
   "nbconvert_exporter": "python",
   "pygments_lexer": "ipython3",
   "version": "3.7.4"
  },
  "toc": {
   "base_numbering": 1,
   "nav_menu": {},
   "number_sections": true,
   "sideBar": true,
   "skip_h1_title": false,
   "title_cell": "Table of Contents",
   "title_sidebar": "Contents",
   "toc_cell": false,
   "toc_position": {},
   "toc_section_display": true,
   "toc_window_display": false
  },
  "varInspector": {
   "cols": {
    "lenName": 16,
    "lenType": 16,
    "lenVar": 40
   },
   "kernels_config": {
    "python": {
     "delete_cmd_postfix": "",
     "delete_cmd_prefix": "del ",
     "library": "var_list.py",
     "varRefreshCmd": "print(var_dic_list())"
    },
    "r": {
     "delete_cmd_postfix": ") ",
     "delete_cmd_prefix": "rm(",
     "library": "var_list.r",
     "varRefreshCmd": "cat(var_dic_list()) "
    }
   },
   "types_to_exclude": [
    "module",
    "function",
    "builtin_function_or_method",
    "instance",
    "_Feature"
   ],
   "window_display": false
  }
 },
 "nbformat": 4,
 "nbformat_minor": 2
}
