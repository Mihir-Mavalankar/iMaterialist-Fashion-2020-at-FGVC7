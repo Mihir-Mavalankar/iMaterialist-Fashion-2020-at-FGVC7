{
 "cells": [
  {
   "cell_type": "code",
   "execution_count": 1,
   "metadata": {
    "ExecuteTime": {
     "end_time": "2020-05-07T04:24:38.116780Z",
     "start_time": "2020-05-07T04:24:35.244143Z"
    }
   },
   "outputs": [],
   "source": [
    "import numpy as np\n",
    "import cv2\n",
    "import pandas as pd\n",
    "import json\n",
    "import os\n",
    "import numpy as np\n",
    "import torch\n",
    "from PIL import Image\n"
   ]
  },
  {
   "cell_type": "code",
   "execution_count": 2,
   "metadata": {
    "ExecuteTime": {
     "end_time": "2020-05-07T04:24:39.639550Z",
     "start_time": "2020-05-07T04:24:39.628552Z"
    }
   },
   "outputs": [],
   "source": [
    "class Config(object):\n",
    "    DATA_PATH = 'D:/Projects/Kaggle/iMaterialist-Fashion-2020-at-FGVC7/data/imaterialist-fashion-2020-fgvc7'\n",
    "    IMAGE_SIZE = 256\n",
    "    NO_OF_CLASSES = 46\n",
    "    BATCH_SIZE = 3\n",
    "    OUTPUT_MASK_SIZE=256\n",
    "    RESIZE=True\n",
    "    SHUFFLE=True\n",
    "    STEP_SIZE=3\n",
    "    CHECK_POINT_STEPS = 200\n"
   ]
  },
  {
   "cell_type": "code",
   "execution_count": 3,
   "metadata": {
    "ExecuteTime": {
     "end_time": "2020-05-07T04:24:40.799612Z",
     "start_time": "2020-05-07T04:24:40.744629Z"
    }
   },
   "outputs": [],
   "source": [
    "class iMetDataset(torch.utils.data.Dataset):\n",
    "    def __init__(self, config, df, random_seed=0):       # transforms,\n",
    "        self.CONFIG = config\n",
    "        self.TRAINING_DATA_PATH = self.CONFIG.DATA_PATH + '/train/'\n",
    "        self.TRAINING_DATA_FRAME = df\n",
    "        self.imgs = self.TRAINING_DATA_FRAME.ImageId.unique()\n",
    "        np.random.seed(random_seed)\n",
    "\n",
    "    def make_single_mask(self, encoded_string, height, width):\n",
    "        splitted_string = np.array(list(map(int, encoded_string.split()))).reshape(-1,2)\n",
    "        mask = np.zeros((height*width), dtype=np.uint8)\n",
    "        for start_indice, run_length in splitted_string:\n",
    "            start_indice-=1\n",
    "            mask[start_indice:start_indice+run_length] = 1\n",
    "        return mask.reshape((height, width), order='F')\n",
    "\n",
    "    def get_box(self, mask):\n",
    "        w = np.sum(mask, axis=0)\n",
    "        h = np.sum(mask, axis=1)\n",
    "        x1, x2 = 0, len(w)-1\n",
    "        y1, y2 = 0, len(h)-1\n",
    "        while w[x1]==0:\n",
    "            x1+=1\n",
    "        while w[x2]==0:\n",
    "            x2-=1\n",
    "        while h[y1]==0:\n",
    "            y1+=1\n",
    "        while h[y2]==0:\n",
    "            y2-=1\n",
    "        return np.array([x1, y1, x2, y2], dtype=np.float32)\n",
    "\n",
    "    def get_ground_truth(self, image_id):\n",
    "        query = self.TRAINING_DATA_FRAME[self.TRAINING_DATA_FRAME.ImageId==image_id]\n",
    "        encoded_pixels = query.EncodedPixels\n",
    "        class_ids = query.ClassId\n",
    "        height, width = list(query.Height)[0], list(query.Width)[0]\n",
    "\n",
    "        masks=[]\n",
    "        labels=[]\n",
    "        boxes=[]\n",
    "\n",
    "        for _, (encoded_pixel_str, class_id) in enumerate(zip(encoded_pixels, class_ids)):\n",
    "            sub_mask = self.make_single_mask(encoded_pixel_str, height, width)\n",
    "            masks.append(sub_mask)\n",
    "            boxes.append(self.get_box(sub_mask))\n",
    "            labels.append(class_id)\n",
    "            \n",
    "        return {'boxes':np.array(boxes, dtype=np.float32),\n",
    "                'labels':np.array(labels, dtype=np.int64),\n",
    "                'masks':np.array(masks, dtype=np.uint8)}\n",
    "\n",
    "\n",
    "    def __getitem__(self, idx):\n",
    "        img_path = self.TRAINING_DATA_PATH + self.imgs[idx] + '.jpg'\n",
    "        img = np.array(cv2.cvtColor( cv2.imread(img_path), cv2.COLOR_BGR2RGB)/255, dtype=np.float32)\n",
    "        img = np.moveaxis(img, -1, 0)\n",
    "        target = self.get_ground_truth(self.imgs[idx])\n",
    "        #print(img.shape, self.imgs[idx], idx)\n",
    "        return img, target\n",
    "\n",
    "    def __len__(self):\n",
    "        return len(self.imgs)"
   ]
  },
  {
   "cell_type": "code",
   "execution_count": 4,
   "metadata": {
    "ExecuteTime": {
     "end_time": "2020-05-07T04:24:41.708633Z",
     "start_time": "2020-05-07T04:24:41.700639Z"
    }
   },
   "outputs": [],
   "source": [
    "def collate_fn(batch):\n",
    "    return tuple(zip(*batch))"
   ]
  },
  {
   "cell_type": "code",
   "execution_count": 5,
   "metadata": {
    "ExecuteTime": {
     "end_time": "2020-05-07T04:24:42.420027Z",
     "start_time": "2020-05-07T04:24:42.405031Z"
    }
   },
   "outputs": [],
   "source": [
    "def get_model_instance_segmentation(num_classes):\n",
    "    # load an instance segmentation model pre-trained pre-trained on COCO\n",
    "    model = torchvision.models.detection.maskrcnn_resnet50_fpn(pretrained=True)\n",
    "\n",
    "    # get number of input features for the classifier\n",
    "    in_features = model.roi_heads.box_predictor.cls_score.in_features\n",
    "    print(in_features)\n",
    "    # replace the pre-trained head with a new one\n",
    "    model.roi_heads.box_predictor = FastRCNNPredictor(in_features, num_classes)\n",
    "\n",
    "    # now get the number of input features for the mask classifier\n",
    "    in_features_mask = model.roi_heads.mask_predictor.conv5_mask.in_channels\n",
    "    print('input fo mask classifier', in_features_mask)\n",
    "    hidden_layer = 256\n",
    "    # and replace the mask predictor with a new one\n",
    "    model.roi_heads.mask_predictor = MaskRCNNPredictor(in_features_mask,hidden_layer,num_classes)\n",
    "\n",
    "    return model"
   ]
  },
  {
   "cell_type": "code",
   "execution_count": 6,
   "metadata": {
    "ExecuteTime": {
     "end_time": "2020-05-07T04:24:43.102901Z",
     "start_time": "2020-05-07T04:24:43.092904Z"
    }
   },
   "outputs": [],
   "source": [
    "def dfs_freeze(model):\n",
    "    for name, child in model.named_children():\n",
    "        for param in child.parameters():\n",
    "            param.requires_grad = False\n",
    "        dfs_freeze(child)"
   ]
  },
  {
   "cell_type": "markdown",
   "metadata": {},
   "source": [
    "# Main"
   ]
  },
  {
   "cell_type": "code",
   "execution_count": 7,
   "metadata": {
    "ExecuteTime": {
     "end_time": "2020-05-07T04:25:03.907124Z",
     "start_time": "2020-05-07T04:24:44.739749Z"
    }
   },
   "outputs": [],
   "source": [
    "conf = Config()\n",
    "train_df = pd.read_csv(conf.DATA_PATH+'/train.csv')"
   ]
  },
  {
   "cell_type": "code",
   "execution_count": 8,
   "metadata": {
    "ExecuteTime": {
     "end_time": "2020-05-07T04:25:09.391169Z",
     "start_time": "2020-05-07T04:25:08.361756Z"
    }
   },
   "outputs": [],
   "source": [
    "from torch.utils import data\n",
    "from tqdm.notebook import tqdm_notebook\n",
    "import math\n",
    "import torchvision\n",
    "device = torch.device('cuda:1') if torch.cuda.is_available() else torch.device('cpu')\n",
    "from torchvision.models.detection.faster_rcnn import FastRCNNPredictor\n",
    "from torchvision.models.detection.mask_rcnn import MaskRCNNPredictor\n"
   ]
  },
  {
   "cell_type": "code",
   "execution_count": 9,
   "metadata": {
    "ExecuteTime": {
     "end_time": "2020-05-07T04:25:10.086635Z",
     "start_time": "2020-05-07T04:25:09.967673Z"
    }
   },
   "outputs": [],
   "source": [
    "d = iMetDataset(conf, train_df)\n",
    "torch.random.manual_seed(5)\n",
    "iMetDataloader = data.DataLoader(d, batch_size=conf.BATCH_SIZE, shuffle=conf.SHUFFLE, collate_fn=collate_fn)"
   ]
  },
  {
   "cell_type": "code",
   "execution_count": 10,
   "metadata": {
    "ExecuteTime": {
     "end_time": "2020-05-07T04:16:13.111874Z",
     "start_time": "2020-05-07T04:16:11.895769Z"
    }
   },
   "outputs": [
    {
     "name": "stdout",
     "output_type": "stream",
     "text": [
      "freezing: rpn\n",
      "freezing: roi_heads\n"
     ]
    }
   ],
   "source": [
    "saved_model = 'iMetModel_epoch_0_step_2700_loss_1.1637932062149048.model'\n",
    "__step = int(saved_model.split('_')[4])+1\n",
    "EPOCH = int(saved_model.split('_')[2])\n",
    "\n",
    "#iMetModel = torchvision.models.detection.maskrcnn_resnet50_fpn(pretrained=False, progress=True, num_classes=conf.NO_OF_CLASSES, pretrained_backbone=True)\n",
    "if saved_model != '':\n",
    "    iMetModel = torch.load('model/'+saved_model)\n",
    "else:\n",
    "    iMetModel = get_model_instance_segmentation(conf.NO_OF_CLASSES)\n",
    "    \n",
    "_ = iMetModel.to(device)\n",
    "\n",
    "for n,c in iMetModel.named_children():\n",
    "    if n==str('rpn') or n==str('roi_heads'):\n",
    "        print('freezing:', n)\n",
    "        for param in c.parameters():\n",
    "            param.requires_grad = False\n",
    "            dfs_freeze(c)\n",
    "\n",
    "params = [p for p in iMetModel.parameters() if p.requires_grad]\n",
    "optimizer = torch.optim.SGD(params, lr=0.005,momentum=0.9, weight_decay=0.0005)"
   ]
  },
  {
   "cell_type": "code",
   "execution_count": 11,
   "metadata": {
    "ExecuteTime": {
     "end_time": "2020-05-07T04:12:27.757498Z",
     "start_time": "2020-05-07T03:50:37.405754Z"
    },
    "scrolled": true
   },
   "outputs": [
    {
     "data": {
      "application/vnd.jupyter.widget-view+json": {
       "model_id": "affb1c621b8b45a3a8f23a45581fc629",
       "version_major": 2,
       "version_minor": 0
      },
      "text/plain": [
       "HBox(children=(IntProgress(value=0, max=15208), HTML(value='')))"
      ]
     },
     "metadata": {},
     "output_type": "display_data"
    },
    {
     "name": "stderr",
     "output_type": "stream",
     "text": [
      "C:\\ProgramData\\Anaconda3\\lib\\site-packages\\torch\\nn\\functional.py:2854: UserWarning: The default behavior for interpolate/upsample with float scale_factor will change in 1.6.0 to align with other frameworks/libraries, and use scale_factor directly, instead of relying on the computed output size. If you wish to keep the old behavior, please set recompute_scale_factor=True. See the documentation of nn.Upsample for details. \n",
      "  warnings.warn(\"The default behavior for interpolate/upsample with float scale_factor will change \"\n",
      "..\\torch\\csrc\\utils\\python_arg_parser.cpp:756: UserWarning: This overload of nonzero is deprecated:\n",
      "\tnonzero(Tensor input, *, Tensor out)\n",
      "Consider using one of the following signatures instead:\n",
      "\tnonzero(Tensor input, *, bool as_tuple)\n"
     ]
    },
    {
     "name": "stdout",
     "output_type": "stream",
     "text": [
      "loss_classifier: 0.244209   loss_box_reg: 0.137661   loss_mask: 0.291388   loss_objectness: 0.011261   loss_rpn_box_reg: 0.071187   \n",
      "step:  2703     Total Loss:  0.7557061910629272\n",
      "loss_classifier: 0.163963   loss_box_reg: 0.054938   loss_mask: 0.195654   loss_objectness: 0.013457   loss_rpn_box_reg: 0.06301   \n",
      "step:  2706     Total Loss:  0.4910224378108978\n",
      "loss_classifier: 0.153109   loss_box_reg: 0.05999   loss_mask: 0.16153   loss_objectness: 0.005784   loss_rpn_box_reg: 0.02299   \n",
      "step:  2709     Total Loss:  0.40340232849121094\n",
      "loss_classifier: 0.292602   loss_box_reg: 0.094986   loss_mask: 0.171624   loss_objectness: 0.024997   loss_rpn_box_reg: 0.14609   \n",
      "step:  2712     Total Loss:  0.7302983403205872\n",
      "loss_classifier: 0.129501   loss_box_reg: 0.087027   loss_mask: 0.188917   loss_objectness: 0.006817   loss_rpn_box_reg: 0.066209   \n",
      "step:  2715     Total Loss:  0.4784712791442871\n",
      "loss_classifier: 0.26875   loss_box_reg: 0.078114   loss_mask: 0.195372   loss_objectness: 0.009868   loss_rpn_box_reg: 0.026715   \n",
      "step:  2718     Total Loss:  0.5788193345069885\n",
      "loss_classifier: 0.089524   loss_box_reg: 0.061205   loss_mask: 0.157081   loss_objectness: 0.006905   loss_rpn_box_reg: 0.158796   \n",
      "step:  2721     Total Loss:  0.47351089119911194\n",
      "loss_classifier: 0.107025   loss_box_reg: 0.070299   loss_mask: 0.157014   loss_objectness: 0.008869   loss_rpn_box_reg: 0.062013   \n",
      "step:  2724     Total Loss:  0.40521878004074097\n",
      "loss_classifier: 0.171213   loss_box_reg: 0.075924   loss_mask: 0.13311   loss_objectness: 0.006136   loss_rpn_box_reg: 0.029551   \n",
      "step:  2727     Total Loss:  0.41593456268310547\n",
      "loss_classifier: 0.207494   loss_box_reg: 0.104982   loss_mask: 0.176447   loss_objectness: 0.0058   loss_rpn_box_reg: 0.269944   \n",
      "step:  2730     Total Loss:  0.7646658420562744\n",
      "loss_classifier: 0.081302   loss_box_reg: 0.03705   loss_mask: 0.124299   loss_objectness: 0.003842   loss_rpn_box_reg: 0.032379   \n",
      "step:  2733     Total Loss:  0.27887198328971863\n",
      "loss_classifier: 0.107641   loss_box_reg: 0.049205   loss_mask: 0.161575   loss_objectness: 0.010195   loss_rpn_box_reg: 0.053257   \n",
      "step:  2736     Total Loss:  0.38187330961227417\n",
      "loss_classifier: 0.248922   loss_box_reg: 0.137544   loss_mask: 0.282681   loss_objectness: 0.014964   loss_rpn_box_reg: 0.129165   \n",
      "step:  2739     Total Loss:  0.8132754564285278\n",
      "loss_classifier: 0.129034   loss_box_reg: 0.089902   loss_mask: 0.183868   loss_objectness: 0.008776   loss_rpn_box_reg: 0.108356   \n",
      "step:  2742     Total Loss:  0.5199352502822876\n",
      "loss_classifier: 0.332934   loss_box_reg: 0.131542   loss_mask: 0.235478   loss_objectness: 0.011312   loss_rpn_box_reg: 0.153405   \n",
      "step:  2745     Total Loss:  0.8646713495254517\n",
      "loss_classifier: 0.244015   loss_box_reg: 0.150115   loss_mask: 0.214198   loss_objectness: 0.006568   loss_rpn_box_reg: 0.08157   \n",
      "step:  2748     Total Loss:  0.6964662075042725\n",
      "loss_classifier: 0.213204   loss_box_reg: 0.10651   loss_mask: 0.194064   loss_objectness: 0.016522   loss_rpn_box_reg: 0.161667   \n",
      "step:  2751     Total Loss:  0.6919662952423096\n",
      "loss_classifier: 0.218946   loss_box_reg: 0.089587   loss_mask: 0.167707   loss_objectness: 0.013547   loss_rpn_box_reg: 0.115294   \n",
      "step:  2754     Total Loss:  0.60508131980896\n",
      "loss_classifier: 0.237064   loss_box_reg: 0.114857   loss_mask: 0.182852   loss_objectness: 0.006312   loss_rpn_box_reg: 0.078945   \n",
      "step:  2757     Total Loss:  0.620031476020813\n",
      "loss_classifier: 0.135394   loss_box_reg: 0.070141   loss_mask: 0.159801   loss_objectness: 0.006128   loss_rpn_box_reg: 0.021739   \n",
      "step:  2760     Total Loss:  0.3932020664215088\n",
      "loss_classifier: 0.107859   loss_box_reg: 0.06515   loss_mask: 0.128803   loss_objectness: 0.00334   loss_rpn_box_reg: 0.046172   \n",
      "step:  2763     Total Loss:  0.3513249456882477\n",
      "loss_classifier: 0.180049   loss_box_reg: 0.114767   loss_mask: 0.183816   loss_objectness: 0.006538   loss_rpn_box_reg: 0.233203   \n",
      "step:  2766     Total Loss:  0.7183734178543091\n",
      "loss_classifier: 0.228878   loss_box_reg: 0.109678   loss_mask: 0.190537   loss_objectness: 0.003577   loss_rpn_box_reg: 0.075141   \n",
      "step:  2769     Total Loss:  0.607810378074646\n",
      "loss_classifier: 0.186924   loss_box_reg: 0.083954   loss_mask: 0.150004   loss_objectness: 0.00988   loss_rpn_box_reg: 0.060889   \n",
      "step:  2772     Total Loss:  0.49165016412734985\n",
      "loss_classifier: 0.090367   loss_box_reg: 0.045692   loss_mask: 0.156639   loss_objectness: 0.002618   loss_rpn_box_reg: 0.043978   \n",
      "step:  2775     Total Loss:  0.3392946720123291\n",
      "loss_classifier: 0.257353   loss_box_reg: 0.109847   loss_mask: 0.220002   loss_objectness: 0.009497   loss_rpn_box_reg: 0.215712   \n",
      "step:  2778     Total Loss:  0.8124120235443115\n",
      "loss_classifier: 0.173646   loss_box_reg: 0.073747   loss_mask: 0.172264   loss_objectness: 0.003937   loss_rpn_box_reg: 0.146819   \n",
      "step:  2781     Total Loss:  0.5704139471054077\n",
      "loss_classifier: 0.205538   loss_box_reg: 0.107143   loss_mask: 0.189095   loss_objectness: 0.01272   loss_rpn_box_reg: 0.104369   \n",
      "step:  2784     Total Loss:  0.6188644766807556\n",
      "loss_classifier: 0.093006   loss_box_reg: 0.049761   loss_mask: 0.157741   loss_objectness: 0.007004   loss_rpn_box_reg: 0.044297   \n",
      "step:  2787     Total Loss:  0.3518102765083313\n",
      "loss_classifier: 0.123532   loss_box_reg: 0.049584   loss_mask: 0.165552   loss_objectness: 0.004236   loss_rpn_box_reg: 0.024153   \n",
      "step:  2790     Total Loss:  0.367056667804718\n",
      "loss_classifier: 0.159699   loss_box_reg: 0.086969   loss_mask: 0.163656   loss_objectness: 0.008275   loss_rpn_box_reg: 0.043596   \n",
      "step:  2793     Total Loss:  0.4621953070163727\n",
      "loss_classifier: 0.294168   loss_box_reg: 0.116471   loss_mask: 0.230474   loss_objectness: 0.012016   loss_rpn_box_reg: 0.070998   \n",
      "step:  2796     Total Loss:  0.7241268754005432\n",
      "loss_classifier: 0.225281   loss_box_reg: 0.104185   loss_mask: 0.18842   loss_objectness: 0.005415   loss_rpn_box_reg: 0.040359   \n",
      "step:  2799     Total Loss:  0.5636597871780396\n",
      "\n",
      "====================================================================================================\n",
      "\n",
      "model saved at step: 2800\n",
      "cuda cache cleared\n",
      "\n",
      "====================================================================================================\n",
      "\n",
      "loss_classifier: 0.178139   loss_box_reg: 0.091644   loss_mask: 0.187192   loss_objectness: 0.004347   loss_rpn_box_reg: 0.162375   \n",
      "step:  2802     Total Loss:  0.6236962080001831\n",
      "loss_classifier: 0.132698   loss_box_reg: 0.07214   loss_mask: 0.223157   loss_objectness: 0.020641   loss_rpn_box_reg: 0.323294   \n",
      "step:  2805     Total Loss:  0.7719296216964722\n",
      "loss_classifier: 0.33037   loss_box_reg: 0.127562   loss_mask: 0.250988   loss_objectness: 0.004838   loss_rpn_box_reg: 0.081807   \n",
      "step:  2808     Total Loss:  0.7955657243728638\n",
      "loss_classifier: 0.141632   loss_box_reg: 0.066716   loss_mask: 0.179165   loss_objectness: 0.010108   loss_rpn_box_reg: 0.089008   \n",
      "step:  2811     Total Loss:  0.48662975430488586\n",
      "loss_classifier: 0.210709   loss_box_reg: 0.121739   loss_mask: 0.173046   loss_objectness: 0.017345   loss_rpn_box_reg: 0.101299   \n",
      "step:  2814     Total Loss:  0.6241380572319031\n",
      "loss_classifier: 0.119191   loss_box_reg: 0.071105   loss_mask: 0.16368   loss_objectness: 0.008959   loss_rpn_box_reg: 0.049227   \n",
      "step:  2817     Total Loss:  0.41216108202934265\n",
      "loss_classifier: 0.266097   loss_box_reg: 0.076101   loss_mask: 0.228428   loss_objectness: 0.013587   loss_rpn_box_reg: 0.130262   \n",
      "step:  2820     Total Loss:  0.714474081993103\n",
      "loss_classifier: 0.250596   loss_box_reg: 0.106871   loss_mask: 0.1604   loss_objectness: 0.009711   loss_rpn_box_reg: 0.147565   \n",
      "step:  2823     Total Loss:  0.6751431226730347\n",
      "loss_classifier: 0.23374   loss_box_reg: 0.092603   loss_mask: 0.188711   loss_objectness: 0.011017   loss_rpn_box_reg: 0.040741   \n",
      "step:  2826     Total Loss:  0.5668113827705383\n",
      "loss_classifier: 0.111192   loss_box_reg: 0.06136   loss_mask: 0.187088   loss_objectness: 0.005077   loss_rpn_box_reg: 0.033375   \n",
      "step:  2829     Total Loss:  0.3980925381183624\n",
      "loss_classifier: 0.180305   loss_box_reg: 0.07997   loss_mask: 0.201728   loss_objectness: 0.002497   loss_rpn_box_reg: 0.043239   \n",
      "step:  2832     Total Loss:  0.5077388286590576\n"
     ]
    },
    {
     "name": "stdout",
     "output_type": "stream",
     "text": [
      "loss_classifier: 0.197676   loss_box_reg: 0.054125   loss_mask: 0.143171   loss_objectness: 0.00312   loss_rpn_box_reg: 0.04126   \n",
      "step:  2835     Total Loss:  0.43935179710388184\n",
      "loss_classifier: 0.129708   loss_box_reg: 0.061554   loss_mask: 0.134468   loss_objectness: 0.00233   loss_rpn_box_reg: 0.022003   \n",
      "step:  2838     Total Loss:  0.35006314516067505\n",
      "loss_classifier: 0.272534   loss_box_reg: 0.101324   loss_mask: 0.24104   loss_objectness: 0.01006   loss_rpn_box_reg: 0.198505   \n",
      "step:  2841     Total Loss:  0.8234623670578003\n",
      "loss_classifier: 0.10258   loss_box_reg: 0.060556   loss_mask: 0.160106   loss_objectness: 0.003015   loss_rpn_box_reg: 0.129423   \n",
      "step:  2844     Total Loss:  0.455679714679718\n",
      "loss_classifier: 0.237743   loss_box_reg: 0.121094   loss_mask: 0.198257   loss_objectness: 0.0058   loss_rpn_box_reg: 0.23061   \n",
      "step:  2847     Total Loss:  0.7935032844543457\n",
      "loss_classifier: 0.179532   loss_box_reg: 0.096837   loss_mask: 0.222531   loss_objectness: 0.011888   loss_rpn_box_reg: 0.090092   \n",
      "step:  2850     Total Loss:  0.6008811593055725\n",
      "loss_classifier: 0.291972   loss_box_reg: 0.118307   loss_mask: 0.197002   loss_objectness: 0.011864   loss_rpn_box_reg: 0.078081   \n",
      "step:  2853     Total Loss:  0.6972260475158691\n",
      "loss_classifier: 0.278396   loss_box_reg: 0.124453   loss_mask: 0.194536   loss_objectness: 0.015628   loss_rpn_box_reg: 0.080864   \n",
      "step:  2856     Total Loss:  0.6938762664794922\n",
      "loss_classifier: 0.121638   loss_box_reg: 0.058847   loss_mask: 0.143621   loss_objectness: 0.013185   loss_rpn_box_reg: 0.083151   \n",
      "step:  2859     Total Loss:  0.42044249176979065\n",
      "loss_classifier: 0.118824   loss_box_reg: 0.035317   loss_mask: 0.152091   loss_objectness: 0.004309   loss_rpn_box_reg: 0.057873   \n",
      "step:  2862     Total Loss:  0.3684134781360626\n",
      "loss_classifier: 0.102206   loss_box_reg: 0.070761   loss_mask: 0.156962   loss_objectness: 0.010726   loss_rpn_box_reg: 0.030133   \n",
      "step:  2865     Total Loss:  0.37078672647476196\n",
      "loss_classifier: 0.186657   loss_box_reg: 0.07818   loss_mask: 0.188202   loss_objectness: 0.005022   loss_rpn_box_reg: 0.039532   \n",
      "step:  2868     Total Loss:  0.4975932538509369\n",
      "loss_classifier: 0.130025   loss_box_reg: 0.062766   loss_mask: 0.119573   loss_objectness: 0.003192   loss_rpn_box_reg: 0.032065   \n",
      "step:  2871     Total Loss:  0.3476214110851288\n",
      "loss_classifier: 0.180689   loss_box_reg: 0.091636   loss_mask: 0.175261   loss_objectness: 0.007296   loss_rpn_box_reg: 0.30713   \n",
      "step:  2874     Total Loss:  0.7620121836662292\n",
      "loss_classifier: 0.183766   loss_box_reg: 0.089739   loss_mask: 0.157172   loss_objectness: 0.017363   loss_rpn_box_reg: 0.163867   \n",
      "step:  2877     Total Loss:  0.6119070053100586\n",
      "loss_classifier: 0.18053   loss_box_reg: 0.097866   loss_mask: 0.191812   loss_objectness: 0.006798   loss_rpn_box_reg: 0.126849   \n",
      "step:  2880     Total Loss:  0.6038551926612854\n",
      "loss_classifier: 0.149826   loss_box_reg: 0.03694   loss_mask: 0.167977   loss_objectness: 0.004051   loss_rpn_box_reg: 0.247851   \n",
      "step:  2883     Total Loss:  0.6066449880599976\n",
      "loss_classifier: 0.212473   loss_box_reg: 0.126452   loss_mask: 0.224195   loss_objectness: 0.007039   loss_rpn_box_reg: 0.072761   \n",
      "step:  2886     Total Loss:  0.6429196000099182\n",
      "loss_classifier: 0.226202   loss_box_reg: 0.113428   loss_mask: 0.193816   loss_objectness: 0.008807   loss_rpn_box_reg: 0.066779   \n",
      "step:  2889     Total Loss:  0.6090327501296997\n",
      "loss_classifier: 0.226523   loss_box_reg: 0.123409   loss_mask: 0.260342   loss_objectness: 0.014305   loss_rpn_box_reg: 0.120944   \n",
      "step:  2892     Total Loss:  0.7455236315727234\n",
      "loss_classifier: 0.112701   loss_box_reg: 0.075023   loss_mask: 0.131375   loss_objectness: 0.005368   loss_rpn_box_reg: 0.027511   \n",
      "step:  2895     Total Loss:  0.35197868943214417\n",
      "loss_classifier: 0.130878   loss_box_reg: 0.091229   loss_mask: 0.205419   loss_objectness: 0.004835   loss_rpn_box_reg: 0.318324   \n",
      "step:  2898     Total Loss:  0.7506849765777588\n",
      "loss_classifier: 0.138596   loss_box_reg: 0.053534   loss_mask: 0.188801   loss_objectness: 0.007175   loss_rpn_box_reg: 0.125103   \n",
      "step:  2901     Total Loss:  0.5132095813751221\n",
      "loss_classifier: 0.110813   loss_box_reg: 0.051042   loss_mask: 0.173557   loss_objectness: 0.005191   loss_rpn_box_reg: 0.043433   \n",
      "step:  2904     Total Loss:  0.3840363025665283\n",
      "loss_classifier: 0.15385   loss_box_reg: 0.086856   loss_mask: 0.173972   loss_objectness: 0.006062   loss_rpn_box_reg: 0.152449   \n",
      "step:  2907     Total Loss:  0.5731894373893738\n",
      "loss_classifier: 0.092057   loss_box_reg: 0.035579   loss_mask: 0.151087   loss_objectness: 0.00279   loss_rpn_box_reg: 0.014773   \n",
      "step:  2910     Total Loss:  0.29628580808639526\n",
      "loss_classifier: 0.134719   loss_box_reg: 0.058779   loss_mask: 0.14487   loss_objectness: 0.011427   loss_rpn_box_reg: 0.086911   \n",
      "step:  2913     Total Loss:  0.4367063343524933\n",
      "loss_classifier: 0.290456   loss_box_reg: 0.12623   loss_mask: 0.223557   loss_objectness: 0.010622   loss_rpn_box_reg: 0.04824   \n",
      "step:  2916     Total Loss:  0.699104368686676\n",
      "loss_classifier: 0.11775   loss_box_reg: 0.058085   loss_mask: 0.137188   loss_objectness: 0.003889   loss_rpn_box_reg: 0.119636   \n",
      "step:  2919     Total Loss:  0.43654757738113403\n",
      "loss_classifier: 0.231235   loss_box_reg: 0.100921   loss_mask: 0.200345   loss_objectness: 0.024178   loss_rpn_box_reg: 0.098201   \n",
      "step:  2922     Total Loss:  0.6548804640769958\n",
      "loss_classifier: 0.168973   loss_box_reg: 0.081918   loss_mask: 0.194174   loss_objectness: 0.004468   loss_rpn_box_reg: 0.316313   \n",
      "step:  2925     Total Loss:  0.7658458352088928\n",
      "loss_classifier: 0.180155   loss_box_reg: 0.100373   loss_mask: 0.239887   loss_objectness: 0.018112   loss_rpn_box_reg: 0.0663   \n",
      "step:  2928     Total Loss:  0.6048275232315063\n",
      "loss_classifier: 0.189708   loss_box_reg: 0.078895   loss_mask: 0.186811   loss_objectness: 0.00765   loss_rpn_box_reg: 0.049744   \n",
      "step:  2931     Total Loss:  0.5128084421157837\n",
      "loss_classifier: 0.221146   loss_box_reg: 0.0922   loss_mask: 0.183059   loss_objectness: 0.01338   loss_rpn_box_reg: 0.059815   \n",
      "step:  2934     Total Loss:  0.5696002244949341\n",
      "loss_classifier: 0.22489   loss_box_reg: 0.063414   loss_mask: 0.212215   loss_objectness: 0.0141   loss_rpn_box_reg: 0.068743   \n",
      "step:  2937     Total Loss:  0.583361804485321\n",
      "loss_classifier: 0.181354   loss_box_reg: 0.055615   loss_mask: 0.185662   loss_objectness: 0.00436   loss_rpn_box_reg: 0.075447   \n",
      "step:  2940     Total Loss:  0.5024376511573792\n",
      "loss_classifier: 0.124152   loss_box_reg: 0.060879   loss_mask: 0.170853   loss_objectness: 0.009746   loss_rpn_box_reg: 0.070587   \n",
      "step:  2943     Total Loss:  0.4362168610095978\n",
      "loss_classifier: 0.133413   loss_box_reg: 0.08327   loss_mask: 0.142988   loss_objectness: 0.00898   loss_rpn_box_reg: 0.047597   \n",
      "step:  2946     Total Loss:  0.41624757647514343\n",
      "loss_classifier: 0.098122   loss_box_reg: 0.046504   loss_mask: 0.147624   loss_objectness: 0.005002   loss_rpn_box_reg: 0.074512   \n",
      "step:  2949     Total Loss:  0.37176454067230225\n",
      "loss_classifier: 0.134983   loss_box_reg: 0.069702   loss_mask: 0.161125   loss_objectness: 0.006969   loss_rpn_box_reg: 0.218545   \n",
      "step:  2952     Total Loss:  0.5913242101669312\n",
      "loss_classifier: 0.24434   loss_box_reg: 0.129842   loss_mask: 0.236762   loss_objectness: 0.009323   loss_rpn_box_reg: 0.19719   \n",
      "step:  2955     Total Loss:  0.8174555897712708\n",
      "loss_classifier: 0.153335   loss_box_reg: 0.076729   loss_mask: 0.181497   loss_objectness: 0.004976   loss_rpn_box_reg: 0.133782   \n",
      "step:  2958     Total Loss:  0.5503181219100952\n",
      "loss_classifier: 0.205442   loss_box_reg: 0.088498   loss_mask: 0.179324   loss_objectness: 0.010019   loss_rpn_box_reg: 0.104381   \n",
      "step:  2961     Total Loss:  0.5876638293266296\n",
      "loss_classifier: 0.12349   loss_box_reg: 0.082415   loss_mask: 0.159596   loss_objectness: 0.012583   loss_rpn_box_reg: 0.055359   \n",
      "step:  2964     Total Loss:  0.43344253301620483\n",
      "loss_classifier: 0.08694   loss_box_reg: 0.05106   loss_mask: 0.17883   loss_objectness: 0.004353   loss_rpn_box_reg: 0.017633   \n",
      "step:  2967     Total Loss:  0.33881717920303345\n",
      "loss_classifier: 0.128668   loss_box_reg: 0.071916   loss_mask: 0.207721   loss_objectness: 0.004604   loss_rpn_box_reg: 0.040315   \n",
      "step:  2970     Total Loss:  0.453224241733551\n",
      "loss_classifier: 0.163516   loss_box_reg: 0.071896   loss_mask: 0.171739   loss_objectness: 0.003724   loss_rpn_box_reg: 0.036542   \n",
      "step:  2973     Total Loss:  0.44741737842559814\n",
      "loss_classifier: 0.230178   loss_box_reg: 0.126712   loss_mask: 0.230725   loss_objectness: 0.02651   loss_rpn_box_reg: 0.186745   \n",
      "step:  2976     Total Loss:  0.8008698225021362\n",
      "loss_classifier: 0.089461   loss_box_reg: 0.048343   loss_mask: 0.172781   loss_objectness: 0.002962   loss_rpn_box_reg: 0.075858   \n",
      "step:  2979     Total Loss:  0.389404296875\n",
      "loss_classifier: 0.227484   loss_box_reg: 0.08956   loss_mask: 0.187168   loss_objectness: 0.010142   loss_rpn_box_reg: 0.041092   \n",
      "step:  2982     Total Loss:  0.5554454326629639\n",
      "loss_classifier: 0.19121   loss_box_reg: 0.120538   loss_mask: 0.215001   loss_objectness: 0.01006   loss_rpn_box_reg: 0.338221   \n",
      "step:  2985     Total Loss:  0.8750296831130981\n",
      "loss_classifier: 0.147785   loss_box_reg: 0.058475   loss_mask: 0.184065   loss_objectness: 0.007273   loss_rpn_box_reg: 0.142582   \n",
      "step:  2988     Total Loss:  0.5401800274848938\n",
      "loss_classifier: 0.18596   loss_box_reg: 0.080415   loss_mask: 0.207718   loss_objectness: 0.009178   loss_rpn_box_reg: 0.03616   \n",
      "step:  2991     Total Loss:  0.5194305777549744\n",
      "loss_classifier: 0.231516   loss_box_reg: 0.126603   loss_mask: 0.187806   loss_objectness: 0.029035   loss_rpn_box_reg: 0.121867   \n",
      "step:  2994     Total Loss:  0.6968275308609009\n",
      "loss_classifier: 0.238383   loss_box_reg: 0.131395   loss_mask: 0.216991   loss_objectness: 0.025123   loss_rpn_box_reg: 0.025846   \n",
      "step:  2997     Total Loss:  0.6377387046813965\n",
      "loss_classifier: 0.534435   loss_box_reg: 0.201016   loss_mask: 0.270474   loss_objectness: 0.064732   loss_rpn_box_reg: 0.082625   \n",
      "step:  3000     Total Loss:  1.1532824039459229\n",
      "\n",
      "====================================================================================================\n",
      "\n",
      "model saved at step: 3000\n",
      "cuda cache cleared\n",
      "\n",
      "====================================================================================================\n",
      "\n",
      "loss_classifier: 0.387541   loss_box_reg: 0.17064   loss_mask: 0.285547   loss_objectness: 0.139218   loss_rpn_box_reg: 0.169109   \n",
      "step:  3003     Total Loss:  1.152055025100708\n",
      "loss_classifier: 0.212823   loss_box_reg: 0.13534   loss_mask: 0.219407   loss_objectness: 0.028951   loss_rpn_box_reg: 0.28468   \n",
      "step:  3006     Total Loss:  0.88120037317276\n"
     ]
    },
    {
     "ename": "RuntimeError",
     "evalue": "CUDA out of memory. Tried to allocate 2.83 GiB (GPU 1; 12.00 GiB total capacity; 5.66 GiB already allocated; 2.68 GiB free; 6.86 GiB reserved in total by PyTorch)",
     "output_type": "error",
     "traceback": [
      "\u001b[1;31m---------------------------------------------------------------------------\u001b[0m",
      "\u001b[1;31mRuntimeError\u001b[0m                              Traceback (most recent call last)",
      "\u001b[1;32m<ipython-input-11-d1834f93a33a>\u001b[0m in \u001b[0;36m<module>\u001b[1;34m\u001b[0m\n\u001b[0;32m      6\u001b[0m     \u001b[0mtargets\u001b[0m \u001b[1;33m=\u001b[0m \u001b[1;33m[\u001b[0m\u001b[1;33m{\u001b[0m\u001b[0mk\u001b[0m\u001b[1;33m:\u001b[0m \u001b[0mtorch\u001b[0m\u001b[1;33m.\u001b[0m\u001b[0mtensor\u001b[0m\u001b[1;33m(\u001b[0m\u001b[0mv\u001b[0m\u001b[1;33m)\u001b[0m\u001b[1;33m.\u001b[0m\u001b[0mto\u001b[0m\u001b[1;33m(\u001b[0m\u001b[0mdevice\u001b[0m\u001b[1;33m)\u001b[0m \u001b[1;32mfor\u001b[0m \u001b[0mk\u001b[0m\u001b[1;33m,\u001b[0m \u001b[0mv\u001b[0m \u001b[1;32min\u001b[0m \u001b[0mtarget\u001b[0m\u001b[1;33m.\u001b[0m\u001b[0mitems\u001b[0m\u001b[1;33m(\u001b[0m\u001b[1;33m)\u001b[0m\u001b[1;33m}\u001b[0m \u001b[1;32mfor\u001b[0m \u001b[0mtarget\u001b[0m \u001b[1;32min\u001b[0m \u001b[0mtargets\u001b[0m\u001b[1;33m]\u001b[0m\u001b[1;33m\u001b[0m\u001b[1;33m\u001b[0m\u001b[0m\n\u001b[0;32m      7\u001b[0m \u001b[1;33m\u001b[0m\u001b[0m\n\u001b[1;32m----> 8\u001b[1;33m     \u001b[0mloss_dictionary\u001b[0m \u001b[1;33m=\u001b[0m \u001b[0miMetModel\u001b[0m\u001b[1;33m(\u001b[0m\u001b[0mimages\u001b[0m\u001b[1;33m,\u001b[0m\u001b[0mtargets\u001b[0m\u001b[1;33m)\u001b[0m\u001b[1;33m\u001b[0m\u001b[1;33m\u001b[0m\u001b[0m\n\u001b[0m\u001b[0;32m      9\u001b[0m     \u001b[0msummed_loss\u001b[0m \u001b[1;33m=\u001b[0m \u001b[0msum\u001b[0m\u001b[1;33m(\u001b[0m\u001b[0mloss\u001b[0m \u001b[1;32mfor\u001b[0m \u001b[0mloss\u001b[0m \u001b[1;32min\u001b[0m \u001b[0mloss_dictionary\u001b[0m\u001b[1;33m.\u001b[0m\u001b[0mvalues\u001b[0m\u001b[1;33m(\u001b[0m\u001b[1;33m)\u001b[0m\u001b[1;33m)\u001b[0m\u001b[1;33m\u001b[0m\u001b[1;33m\u001b[0m\u001b[0m\n\u001b[0;32m     10\u001b[0m     \u001b[0msummed_loss_value\u001b[0m \u001b[1;33m=\u001b[0m \u001b[0msummed_loss\u001b[0m\u001b[1;33m.\u001b[0m\u001b[0mitem\u001b[0m\u001b[1;33m(\u001b[0m\u001b[1;33m)\u001b[0m\u001b[1;33m\u001b[0m\u001b[1;33m\u001b[0m\u001b[0m\n",
      "\u001b[1;32mC:\\ProgramData\\Anaconda3\\lib\\site-packages\\torch\\nn\\modules\\module.py\u001b[0m in \u001b[0;36m__call__\u001b[1;34m(self, *input, **kwargs)\u001b[0m\n\u001b[0;32m    548\u001b[0m             \u001b[0mresult\u001b[0m \u001b[1;33m=\u001b[0m \u001b[0mself\u001b[0m\u001b[1;33m.\u001b[0m\u001b[0m_slow_forward\u001b[0m\u001b[1;33m(\u001b[0m\u001b[1;33m*\u001b[0m\u001b[0minput\u001b[0m\u001b[1;33m,\u001b[0m \u001b[1;33m**\u001b[0m\u001b[0mkwargs\u001b[0m\u001b[1;33m)\u001b[0m\u001b[1;33m\u001b[0m\u001b[1;33m\u001b[0m\u001b[0m\n\u001b[0;32m    549\u001b[0m         \u001b[1;32melse\u001b[0m\u001b[1;33m:\u001b[0m\u001b[1;33m\u001b[0m\u001b[1;33m\u001b[0m\u001b[0m\n\u001b[1;32m--> 550\u001b[1;33m             \u001b[0mresult\u001b[0m \u001b[1;33m=\u001b[0m \u001b[0mself\u001b[0m\u001b[1;33m.\u001b[0m\u001b[0mforward\u001b[0m\u001b[1;33m(\u001b[0m\u001b[1;33m*\u001b[0m\u001b[0minput\u001b[0m\u001b[1;33m,\u001b[0m \u001b[1;33m**\u001b[0m\u001b[0mkwargs\u001b[0m\u001b[1;33m)\u001b[0m\u001b[1;33m\u001b[0m\u001b[1;33m\u001b[0m\u001b[0m\n\u001b[0m\u001b[0;32m    551\u001b[0m         \u001b[1;32mfor\u001b[0m \u001b[0mhook\u001b[0m \u001b[1;32min\u001b[0m \u001b[0mself\u001b[0m\u001b[1;33m.\u001b[0m\u001b[0m_forward_hooks\u001b[0m\u001b[1;33m.\u001b[0m\u001b[0mvalues\u001b[0m\u001b[1;33m(\u001b[0m\u001b[1;33m)\u001b[0m\u001b[1;33m:\u001b[0m\u001b[1;33m\u001b[0m\u001b[1;33m\u001b[0m\u001b[0m\n\u001b[0;32m    552\u001b[0m             \u001b[0mhook_result\u001b[0m \u001b[1;33m=\u001b[0m \u001b[0mhook\u001b[0m\u001b[1;33m(\u001b[0m\u001b[0mself\u001b[0m\u001b[1;33m,\u001b[0m \u001b[0minput\u001b[0m\u001b[1;33m,\u001b[0m \u001b[0mresult\u001b[0m\u001b[1;33m)\u001b[0m\u001b[1;33m\u001b[0m\u001b[1;33m\u001b[0m\u001b[0m\n",
      "\u001b[1;32mC:\\ProgramData\\Anaconda3\\lib\\site-packages\\torchvision\\models\\detection\\generalized_rcnn.py\u001b[0m in \u001b[0;36mforward\u001b[1;34m(self, images, targets)\u001b[0m\n\u001b[0;32m     64\u001b[0m             \u001b[0moriginal_image_sizes\u001b[0m\u001b[1;33m.\u001b[0m\u001b[0mappend\u001b[0m\u001b[1;33m(\u001b[0m\u001b[1;33m(\u001b[0m\u001b[0mval\u001b[0m\u001b[1;33m[\u001b[0m\u001b[1;36m0\u001b[0m\u001b[1;33m]\u001b[0m\u001b[1;33m,\u001b[0m \u001b[0mval\u001b[0m\u001b[1;33m[\u001b[0m\u001b[1;36m1\u001b[0m\u001b[1;33m]\u001b[0m\u001b[1;33m)\u001b[0m\u001b[1;33m)\u001b[0m\u001b[1;33m\u001b[0m\u001b[1;33m\u001b[0m\u001b[0m\n\u001b[0;32m     65\u001b[0m \u001b[1;33m\u001b[0m\u001b[0m\n\u001b[1;32m---> 66\u001b[1;33m         \u001b[0mimages\u001b[0m\u001b[1;33m,\u001b[0m \u001b[0mtargets\u001b[0m \u001b[1;33m=\u001b[0m \u001b[0mself\u001b[0m\u001b[1;33m.\u001b[0m\u001b[0mtransform\u001b[0m\u001b[1;33m(\u001b[0m\u001b[0mimages\u001b[0m\u001b[1;33m,\u001b[0m \u001b[0mtargets\u001b[0m\u001b[1;33m)\u001b[0m\u001b[1;33m\u001b[0m\u001b[1;33m\u001b[0m\u001b[0m\n\u001b[0m\u001b[0;32m     67\u001b[0m         \u001b[0mfeatures\u001b[0m \u001b[1;33m=\u001b[0m \u001b[0mself\u001b[0m\u001b[1;33m.\u001b[0m\u001b[0mbackbone\u001b[0m\u001b[1;33m(\u001b[0m\u001b[0mimages\u001b[0m\u001b[1;33m.\u001b[0m\u001b[0mtensors\u001b[0m\u001b[1;33m)\u001b[0m\u001b[1;33m\u001b[0m\u001b[1;33m\u001b[0m\u001b[0m\n\u001b[0;32m     68\u001b[0m         \u001b[1;32mif\u001b[0m \u001b[0misinstance\u001b[0m\u001b[1;33m(\u001b[0m\u001b[0mfeatures\u001b[0m\u001b[1;33m,\u001b[0m \u001b[0mtorch\u001b[0m\u001b[1;33m.\u001b[0m\u001b[0mTensor\u001b[0m\u001b[1;33m)\u001b[0m\u001b[1;33m:\u001b[0m\u001b[1;33m\u001b[0m\u001b[1;33m\u001b[0m\u001b[0m\n",
      "\u001b[1;32mC:\\ProgramData\\Anaconda3\\lib\\site-packages\\torch\\nn\\modules\\module.py\u001b[0m in \u001b[0;36m__call__\u001b[1;34m(self, *input, **kwargs)\u001b[0m\n\u001b[0;32m    548\u001b[0m             \u001b[0mresult\u001b[0m \u001b[1;33m=\u001b[0m \u001b[0mself\u001b[0m\u001b[1;33m.\u001b[0m\u001b[0m_slow_forward\u001b[0m\u001b[1;33m(\u001b[0m\u001b[1;33m*\u001b[0m\u001b[0minput\u001b[0m\u001b[1;33m,\u001b[0m \u001b[1;33m**\u001b[0m\u001b[0mkwargs\u001b[0m\u001b[1;33m)\u001b[0m\u001b[1;33m\u001b[0m\u001b[1;33m\u001b[0m\u001b[0m\n\u001b[0;32m    549\u001b[0m         \u001b[1;32melse\u001b[0m\u001b[1;33m:\u001b[0m\u001b[1;33m\u001b[0m\u001b[1;33m\u001b[0m\u001b[0m\n\u001b[1;32m--> 550\u001b[1;33m             \u001b[0mresult\u001b[0m \u001b[1;33m=\u001b[0m \u001b[0mself\u001b[0m\u001b[1;33m.\u001b[0m\u001b[0mforward\u001b[0m\u001b[1;33m(\u001b[0m\u001b[1;33m*\u001b[0m\u001b[0minput\u001b[0m\u001b[1;33m,\u001b[0m \u001b[1;33m**\u001b[0m\u001b[0mkwargs\u001b[0m\u001b[1;33m)\u001b[0m\u001b[1;33m\u001b[0m\u001b[1;33m\u001b[0m\u001b[0m\n\u001b[0m\u001b[0;32m    551\u001b[0m         \u001b[1;32mfor\u001b[0m \u001b[0mhook\u001b[0m \u001b[1;32min\u001b[0m \u001b[0mself\u001b[0m\u001b[1;33m.\u001b[0m\u001b[0m_forward_hooks\u001b[0m\u001b[1;33m.\u001b[0m\u001b[0mvalues\u001b[0m\u001b[1;33m(\u001b[0m\u001b[1;33m)\u001b[0m\u001b[1;33m:\u001b[0m\u001b[1;33m\u001b[0m\u001b[1;33m\u001b[0m\u001b[0m\n\u001b[0;32m    552\u001b[0m             \u001b[0mhook_result\u001b[0m \u001b[1;33m=\u001b[0m \u001b[0mhook\u001b[0m\u001b[1;33m(\u001b[0m\u001b[0mself\u001b[0m\u001b[1;33m,\u001b[0m \u001b[0minput\u001b[0m\u001b[1;33m,\u001b[0m \u001b[0mresult\u001b[0m\u001b[1;33m)\u001b[0m\u001b[1;33m\u001b[0m\u001b[1;33m\u001b[0m\u001b[0m\n",
      "\u001b[1;32mC:\\ProgramData\\Anaconda3\\lib\\site-packages\\torchvision\\models\\detection\\transform.py\u001b[0m in \u001b[0;36mforward\u001b[1;34m(self, images, targets)\u001b[0m\n\u001b[0;32m     43\u001b[0m                                  \"of shape [C, H, W], got {}\".format(image.shape))\n\u001b[0;32m     44\u001b[0m             \u001b[0mimage\u001b[0m \u001b[1;33m=\u001b[0m \u001b[0mself\u001b[0m\u001b[1;33m.\u001b[0m\u001b[0mnormalize\u001b[0m\u001b[1;33m(\u001b[0m\u001b[0mimage\u001b[0m\u001b[1;33m)\u001b[0m\u001b[1;33m\u001b[0m\u001b[1;33m\u001b[0m\u001b[0m\n\u001b[1;32m---> 45\u001b[1;33m             \u001b[0mimage\u001b[0m\u001b[1;33m,\u001b[0m \u001b[0mtarget_index\u001b[0m \u001b[1;33m=\u001b[0m \u001b[0mself\u001b[0m\u001b[1;33m.\u001b[0m\u001b[0mresize\u001b[0m\u001b[1;33m(\u001b[0m\u001b[0mimage\u001b[0m\u001b[1;33m,\u001b[0m \u001b[0mtarget_index\u001b[0m\u001b[1;33m)\u001b[0m\u001b[1;33m\u001b[0m\u001b[1;33m\u001b[0m\u001b[0m\n\u001b[0m\u001b[0;32m     46\u001b[0m             \u001b[0mimages\u001b[0m\u001b[1;33m[\u001b[0m\u001b[0mi\u001b[0m\u001b[1;33m]\u001b[0m \u001b[1;33m=\u001b[0m \u001b[0mimage\u001b[0m\u001b[1;33m\u001b[0m\u001b[1;33m\u001b[0m\u001b[0m\n\u001b[0;32m     47\u001b[0m             \u001b[1;32mif\u001b[0m \u001b[0mtargets\u001b[0m \u001b[1;32mis\u001b[0m \u001b[1;32mnot\u001b[0m \u001b[1;32mNone\u001b[0m \u001b[1;32mand\u001b[0m \u001b[0mtarget_index\u001b[0m \u001b[1;32mis\u001b[0m \u001b[1;32mnot\u001b[0m \u001b[1;32mNone\u001b[0m\u001b[1;33m:\u001b[0m\u001b[1;33m\u001b[0m\u001b[1;33m\u001b[0m\u001b[0m\n",
      "\u001b[1;32mC:\\ProgramData\\Anaconda3\\lib\\site-packages\\torchvision\\models\\detection\\transform.py\u001b[0m in \u001b[0;36mresize\u001b[1;34m(self, image, target)\u001b[0m\n\u001b[0;32m    101\u001b[0m         \u001b[1;32mif\u001b[0m \u001b[1;34m\"masks\"\u001b[0m \u001b[1;32min\u001b[0m \u001b[0mtarget\u001b[0m\u001b[1;33m:\u001b[0m\u001b[1;33m\u001b[0m\u001b[1;33m\u001b[0m\u001b[0m\n\u001b[0;32m    102\u001b[0m             \u001b[0mmask\u001b[0m \u001b[1;33m=\u001b[0m \u001b[0mtarget\u001b[0m\u001b[1;33m[\u001b[0m\u001b[1;34m\"masks\"\u001b[0m\u001b[1;33m]\u001b[0m\u001b[1;33m\u001b[0m\u001b[1;33m\u001b[0m\u001b[0m\n\u001b[1;32m--> 103\u001b[1;33m             \u001b[0mmask\u001b[0m \u001b[1;33m=\u001b[0m \u001b[0mmisc_nn_ops\u001b[0m\u001b[1;33m.\u001b[0m\u001b[0minterpolate\u001b[0m\u001b[1;33m(\u001b[0m\u001b[0mmask\u001b[0m\u001b[1;33m[\u001b[0m\u001b[1;32mNone\u001b[0m\u001b[1;33m]\u001b[0m\u001b[1;33m.\u001b[0m\u001b[0mfloat\u001b[0m\u001b[1;33m(\u001b[0m\u001b[1;33m)\u001b[0m\u001b[1;33m,\u001b[0m \u001b[0mscale_factor\u001b[0m\u001b[1;33m=\u001b[0m\u001b[0mscale_factor\u001b[0m\u001b[1;33m)\u001b[0m\u001b[1;33m[\u001b[0m\u001b[1;36m0\u001b[0m\u001b[1;33m]\u001b[0m\u001b[1;33m.\u001b[0m\u001b[0mbyte\u001b[0m\u001b[1;33m(\u001b[0m\u001b[1;33m)\u001b[0m\u001b[1;33m\u001b[0m\u001b[1;33m\u001b[0m\u001b[0m\n\u001b[0m\u001b[0;32m    104\u001b[0m             \u001b[0mtarget\u001b[0m\u001b[1;33m[\u001b[0m\u001b[1;34m\"masks\"\u001b[0m\u001b[1;33m]\u001b[0m \u001b[1;33m=\u001b[0m \u001b[0mmask\u001b[0m\u001b[1;33m\u001b[0m\u001b[1;33m\u001b[0m\u001b[0m\n\u001b[0;32m    105\u001b[0m \u001b[1;33m\u001b[0m\u001b[0m\n",
      "\u001b[1;32mC:\\ProgramData\\Anaconda3\\lib\\site-packages\\torchvision\\ops\\misc.py\u001b[0m in \u001b[0;36minterpolate\u001b[1;34m(input, size, scale_factor, mode, align_corners)\u001b[0m\n\u001b[0;32m    110\u001b[0m     \u001b[1;32mif\u001b[0m \u001b[0minput\u001b[0m\u001b[1;33m.\u001b[0m\u001b[0mnumel\u001b[0m\u001b[1;33m(\u001b[0m\u001b[1;33m)\u001b[0m \u001b[1;33m>\u001b[0m \u001b[1;36m0\u001b[0m\u001b[1;33m:\u001b[0m\u001b[1;33m\u001b[0m\u001b[1;33m\u001b[0m\u001b[0m\n\u001b[0;32m    111\u001b[0m         return torch.nn.functional.interpolate(\n\u001b[1;32m--> 112\u001b[1;33m             \u001b[0minput\u001b[0m\u001b[1;33m,\u001b[0m \u001b[0msize\u001b[0m\u001b[1;33m,\u001b[0m \u001b[0mscale_factor\u001b[0m\u001b[1;33m,\u001b[0m \u001b[0mmode\u001b[0m\u001b[1;33m,\u001b[0m \u001b[0malign_corners\u001b[0m\u001b[1;33m\u001b[0m\u001b[1;33m\u001b[0m\u001b[0m\n\u001b[0m\u001b[0;32m    113\u001b[0m         )\n\u001b[0;32m    114\u001b[0m \u001b[1;33m\u001b[0m\u001b[0m\n",
      "\u001b[1;32mC:\\ProgramData\\Anaconda3\\lib\\site-packages\\torch\\nn\\functional.py\u001b[0m in \u001b[0;36minterpolate\u001b[1;34m(input, size, scale_factor, mode, align_corners, recompute_scale_factor)\u001b[0m\n\u001b[0;32m   2989\u001b[0m     \u001b[1;32melif\u001b[0m \u001b[0minput\u001b[0m\u001b[1;33m.\u001b[0m\u001b[0mdim\u001b[0m\u001b[1;33m(\u001b[0m\u001b[1;33m)\u001b[0m \u001b[1;33m==\u001b[0m \u001b[1;36m4\u001b[0m \u001b[1;32mand\u001b[0m \u001b[0mmode\u001b[0m \u001b[1;33m==\u001b[0m \u001b[1;34m'nearest'\u001b[0m\u001b[1;33m:\u001b[0m\u001b[1;33m\u001b[0m\u001b[1;33m\u001b[0m\u001b[0m\n\u001b[0;32m   2990\u001b[0m         return torch._C._nn.upsample_nearest2d(input, _interp_output_size(2, closed_over_args), \n\u001b[1;32m-> 2991\u001b[1;33m                                                scale_factor_list[0], scale_factor_list[1])\n\u001b[0m\u001b[0;32m   2992\u001b[0m     \u001b[1;32melif\u001b[0m \u001b[0minput\u001b[0m\u001b[1;33m.\u001b[0m\u001b[0mdim\u001b[0m\u001b[1;33m(\u001b[0m\u001b[1;33m)\u001b[0m \u001b[1;33m==\u001b[0m \u001b[1;36m5\u001b[0m \u001b[1;32mand\u001b[0m \u001b[0mmode\u001b[0m \u001b[1;33m==\u001b[0m \u001b[1;34m'nearest'\u001b[0m\u001b[1;33m:\u001b[0m\u001b[1;33m\u001b[0m\u001b[1;33m\u001b[0m\u001b[0m\n\u001b[0;32m   2993\u001b[0m         return torch._C._nn.upsample_nearest3d(input, _interp_output_size(3, closed_over_args),\n",
      "\u001b[1;31mRuntimeError\u001b[0m: CUDA out of memory. Tried to allocate 2.83 GiB (GPU 1; 12.00 GiB total capacity; 5.66 GiB already allocated; 2.68 GiB free; 6.86 GiB reserved in total by PyTorch)"
     ]
    }
   ],
   "source": [
    "iMetModel.train()\n",
    "\n",
    "for images, targets in tqdm_notebook(iMetDataloader):\n",
    "\n",
    "    images = [torch.tensor(image, dtype = torch.float32).to(device) for image in images]\n",
    "    targets = [{k: torch.tensor(v).to(device) for k, v in target.items()} for target in targets]\n",
    "    \n",
    "    loss_dictionary = iMetModel(images,targets)\n",
    "    summed_loss = sum(loss for loss in loss_dictionary.values())\n",
    "    summed_loss_value = summed_loss.item()\n",
    "    \n",
    "    \n",
    "    if __step%conf.STEP_SIZE==0:\n",
    "        loss_str=''\n",
    "        for loss_type, value in loss_dictionary.items():\n",
    "            loss_str+=str(loss_type)+': '+str(round(value.item(),6))+'   '\n",
    "        print(loss_str)\n",
    "        print('step: ',__step ,'    Total Loss: ', summed_loss_value )\n",
    "        \n",
    "        \n",
    "    \n",
    "    if math.isfinite(summed_loss_value):\n",
    "        optimizer.zero_grad()\n",
    "        summed_loss.backward()\n",
    "        optimizer.step()\n",
    "        \n",
    "    else:\n",
    "        print('Loss is undefined:',summed_loss_value,'   skipping BackProp for step no:', __step)\n",
    "        print(loss_dictionary)\n",
    "        \n",
    "        \n",
    "    \n",
    "    if __step%conf.CHECK_POINT_STEPS==0:\n",
    "        print('')\n",
    "        print('====================================================================================================')\n",
    "        print('')\n",
    "        torch.save(iMetModel, 'model/iMetModel_epoch_'+str(EPOCH)+'_step_'+str(__step)+'_loss_'+str(summed_loss_value)+'.model')\n",
    "        print('model saved at step:', __step)\n",
    "        torch.cuda.empty_cache()\n",
    "        print('cuda cache cleared')\n",
    "        print('')\n",
    "        print('====================================================================================================')\n",
    "        print('')\n",
    "        \n",
    "        \n",
    "        \n",
    "    \n",
    "        \n",
    "    __step+=1\n",
    "\n"
   ]
  },
  {
   "cell_type": "code",
   "execution_count": 23,
   "metadata": {
    "ExecuteTime": {
     "end_time": "2020-05-07T03:15:31.050055Z",
     "start_time": "2020-05-07T03:15:31.040058Z"
    }
   },
   "outputs": [],
   "source": []
  },
  {
   "cell_type": "code",
   "execution_count": 24,
   "metadata": {
    "ExecuteTime": {
     "end_time": "2020-05-07T03:17:33.809473Z",
     "start_time": "2020-05-07T03:17:33.789480Z"
    }
   },
   "outputs": [
    {
     "name": "stdout",
     "output_type": "stream",
     "text": [
      "transform True\n",
      "backbone False\n",
      "rpn False\n",
      "freezing: rpn\n",
      "roi_heads False\n",
      "freezing: roi_heads\n"
     ]
    }
   ],
   "source": []
  },
  {
   "cell_type": "code",
   "execution_count": null,
   "metadata": {
    "ExecuteTime": {
     "start_time": "2020-05-07T03:18:45.441Z"
    }
   },
   "outputs": [],
   "source": [
    "iMetModel"
   ]
  },
  {
   "cell_type": "markdown",
   "metadata": {},
   "source": [
    "# Eval"
   ]
  },
  {
   "cell_type": "code",
   "execution_count": 10,
   "metadata": {
    "ExecuteTime": {
     "end_time": "2020-05-07T04:25:18.079966Z",
     "start_time": "2020-05-07T04:25:16.953096Z"
    }
   },
   "outputs": [],
   "source": [
    "M__ = torch.load('model/iMetModel_epoch_0_step_3000_loss_1.1532824039459229.model')"
   ]
  },
  {
   "cell_type": "code",
   "execution_count": 11,
   "metadata": {
    "ExecuteTime": {
     "end_time": "2020-05-07T04:25:19.064547Z",
     "start_time": "2020-05-07T04:25:19.029558Z"
    }
   },
   "outputs": [
    {
     "data": {
      "text/plain": [
       "MaskRCNN(\n",
       "  (transform): GeneralizedRCNNTransform(\n",
       "      Normalize(mean=[0.485, 0.456, 0.406], std=[0.229, 0.224, 0.225])\n",
       "      Resize(min_size=(800,), max_size=1333, mode='bilinear')\n",
       "  )\n",
       "  (backbone): BackboneWithFPN(\n",
       "    (body): IntermediateLayerGetter(\n",
       "      (conv1): Conv2d(3, 64, kernel_size=(7, 7), stride=(2, 2), padding=(3, 3), bias=False)\n",
       "      (bn1): FrozenBatchNorm2d()\n",
       "      (relu): ReLU(inplace=True)\n",
       "      (maxpool): MaxPool2d(kernel_size=3, stride=2, padding=1, dilation=1, ceil_mode=False)\n",
       "      (layer1): Sequential(\n",
       "        (0): Bottleneck(\n",
       "          (conv1): Conv2d(64, 64, kernel_size=(1, 1), stride=(1, 1), bias=False)\n",
       "          (bn1): FrozenBatchNorm2d()\n",
       "          (conv2): Conv2d(64, 64, kernel_size=(3, 3), stride=(1, 1), padding=(1, 1), bias=False)\n",
       "          (bn2): FrozenBatchNorm2d()\n",
       "          (conv3): Conv2d(64, 256, kernel_size=(1, 1), stride=(1, 1), bias=False)\n",
       "          (bn3): FrozenBatchNorm2d()\n",
       "          (relu): ReLU(inplace=True)\n",
       "          (downsample): Sequential(\n",
       "            (0): Conv2d(64, 256, kernel_size=(1, 1), stride=(1, 1), bias=False)\n",
       "            (1): FrozenBatchNorm2d()\n",
       "          )\n",
       "        )\n",
       "        (1): Bottleneck(\n",
       "          (conv1): Conv2d(256, 64, kernel_size=(1, 1), stride=(1, 1), bias=False)\n",
       "          (bn1): FrozenBatchNorm2d()\n",
       "          (conv2): Conv2d(64, 64, kernel_size=(3, 3), stride=(1, 1), padding=(1, 1), bias=False)\n",
       "          (bn2): FrozenBatchNorm2d()\n",
       "          (conv3): Conv2d(64, 256, kernel_size=(1, 1), stride=(1, 1), bias=False)\n",
       "          (bn3): FrozenBatchNorm2d()\n",
       "          (relu): ReLU(inplace=True)\n",
       "        )\n",
       "        (2): Bottleneck(\n",
       "          (conv1): Conv2d(256, 64, kernel_size=(1, 1), stride=(1, 1), bias=False)\n",
       "          (bn1): FrozenBatchNorm2d()\n",
       "          (conv2): Conv2d(64, 64, kernel_size=(3, 3), stride=(1, 1), padding=(1, 1), bias=False)\n",
       "          (bn2): FrozenBatchNorm2d()\n",
       "          (conv3): Conv2d(64, 256, kernel_size=(1, 1), stride=(1, 1), bias=False)\n",
       "          (bn3): FrozenBatchNorm2d()\n",
       "          (relu): ReLU(inplace=True)\n",
       "        )\n",
       "      )\n",
       "      (layer2): Sequential(\n",
       "        (0): Bottleneck(\n",
       "          (conv1): Conv2d(256, 128, kernel_size=(1, 1), stride=(1, 1), bias=False)\n",
       "          (bn1): FrozenBatchNorm2d()\n",
       "          (conv2): Conv2d(128, 128, kernel_size=(3, 3), stride=(2, 2), padding=(1, 1), bias=False)\n",
       "          (bn2): FrozenBatchNorm2d()\n",
       "          (conv3): Conv2d(128, 512, kernel_size=(1, 1), stride=(1, 1), bias=False)\n",
       "          (bn3): FrozenBatchNorm2d()\n",
       "          (relu): ReLU(inplace=True)\n",
       "          (downsample): Sequential(\n",
       "            (0): Conv2d(256, 512, kernel_size=(1, 1), stride=(2, 2), bias=False)\n",
       "            (1): FrozenBatchNorm2d()\n",
       "          )\n",
       "        )\n",
       "        (1): Bottleneck(\n",
       "          (conv1): Conv2d(512, 128, kernel_size=(1, 1), stride=(1, 1), bias=False)\n",
       "          (bn1): FrozenBatchNorm2d()\n",
       "          (conv2): Conv2d(128, 128, kernel_size=(3, 3), stride=(1, 1), padding=(1, 1), bias=False)\n",
       "          (bn2): FrozenBatchNorm2d()\n",
       "          (conv3): Conv2d(128, 512, kernel_size=(1, 1), stride=(1, 1), bias=False)\n",
       "          (bn3): FrozenBatchNorm2d()\n",
       "          (relu): ReLU(inplace=True)\n",
       "        )\n",
       "        (2): Bottleneck(\n",
       "          (conv1): Conv2d(512, 128, kernel_size=(1, 1), stride=(1, 1), bias=False)\n",
       "          (bn1): FrozenBatchNorm2d()\n",
       "          (conv2): Conv2d(128, 128, kernel_size=(3, 3), stride=(1, 1), padding=(1, 1), bias=False)\n",
       "          (bn2): FrozenBatchNorm2d()\n",
       "          (conv3): Conv2d(128, 512, kernel_size=(1, 1), stride=(1, 1), bias=False)\n",
       "          (bn3): FrozenBatchNorm2d()\n",
       "          (relu): ReLU(inplace=True)\n",
       "        )\n",
       "        (3): Bottleneck(\n",
       "          (conv1): Conv2d(512, 128, kernel_size=(1, 1), stride=(1, 1), bias=False)\n",
       "          (bn1): FrozenBatchNorm2d()\n",
       "          (conv2): Conv2d(128, 128, kernel_size=(3, 3), stride=(1, 1), padding=(1, 1), bias=False)\n",
       "          (bn2): FrozenBatchNorm2d()\n",
       "          (conv3): Conv2d(128, 512, kernel_size=(1, 1), stride=(1, 1), bias=False)\n",
       "          (bn3): FrozenBatchNorm2d()\n",
       "          (relu): ReLU(inplace=True)\n",
       "        )\n",
       "      )\n",
       "      (layer3): Sequential(\n",
       "        (0): Bottleneck(\n",
       "          (conv1): Conv2d(512, 256, kernel_size=(1, 1), stride=(1, 1), bias=False)\n",
       "          (bn1): FrozenBatchNorm2d()\n",
       "          (conv2): Conv2d(256, 256, kernel_size=(3, 3), stride=(2, 2), padding=(1, 1), bias=False)\n",
       "          (bn2): FrozenBatchNorm2d()\n",
       "          (conv3): Conv2d(256, 1024, kernel_size=(1, 1), stride=(1, 1), bias=False)\n",
       "          (bn3): FrozenBatchNorm2d()\n",
       "          (relu): ReLU(inplace=True)\n",
       "          (downsample): Sequential(\n",
       "            (0): Conv2d(512, 1024, kernel_size=(1, 1), stride=(2, 2), bias=False)\n",
       "            (1): FrozenBatchNorm2d()\n",
       "          )\n",
       "        )\n",
       "        (1): Bottleneck(\n",
       "          (conv1): Conv2d(1024, 256, kernel_size=(1, 1), stride=(1, 1), bias=False)\n",
       "          (bn1): FrozenBatchNorm2d()\n",
       "          (conv2): Conv2d(256, 256, kernel_size=(3, 3), stride=(1, 1), padding=(1, 1), bias=False)\n",
       "          (bn2): FrozenBatchNorm2d()\n",
       "          (conv3): Conv2d(256, 1024, kernel_size=(1, 1), stride=(1, 1), bias=False)\n",
       "          (bn3): FrozenBatchNorm2d()\n",
       "          (relu): ReLU(inplace=True)\n",
       "        )\n",
       "        (2): Bottleneck(\n",
       "          (conv1): Conv2d(1024, 256, kernel_size=(1, 1), stride=(1, 1), bias=False)\n",
       "          (bn1): FrozenBatchNorm2d()\n",
       "          (conv2): Conv2d(256, 256, kernel_size=(3, 3), stride=(1, 1), padding=(1, 1), bias=False)\n",
       "          (bn2): FrozenBatchNorm2d()\n",
       "          (conv3): Conv2d(256, 1024, kernel_size=(1, 1), stride=(1, 1), bias=False)\n",
       "          (bn3): FrozenBatchNorm2d()\n",
       "          (relu): ReLU(inplace=True)\n",
       "        )\n",
       "        (3): Bottleneck(\n",
       "          (conv1): Conv2d(1024, 256, kernel_size=(1, 1), stride=(1, 1), bias=False)\n",
       "          (bn1): FrozenBatchNorm2d()\n",
       "          (conv2): Conv2d(256, 256, kernel_size=(3, 3), stride=(1, 1), padding=(1, 1), bias=False)\n",
       "          (bn2): FrozenBatchNorm2d()\n",
       "          (conv3): Conv2d(256, 1024, kernel_size=(1, 1), stride=(1, 1), bias=False)\n",
       "          (bn3): FrozenBatchNorm2d()\n",
       "          (relu): ReLU(inplace=True)\n",
       "        )\n",
       "        (4): Bottleneck(\n",
       "          (conv1): Conv2d(1024, 256, kernel_size=(1, 1), stride=(1, 1), bias=False)\n",
       "          (bn1): FrozenBatchNorm2d()\n",
       "          (conv2): Conv2d(256, 256, kernel_size=(3, 3), stride=(1, 1), padding=(1, 1), bias=False)\n",
       "          (bn2): FrozenBatchNorm2d()\n",
       "          (conv3): Conv2d(256, 1024, kernel_size=(1, 1), stride=(1, 1), bias=False)\n",
       "          (bn3): FrozenBatchNorm2d()\n",
       "          (relu): ReLU(inplace=True)\n",
       "        )\n",
       "        (5): Bottleneck(\n",
       "          (conv1): Conv2d(1024, 256, kernel_size=(1, 1), stride=(1, 1), bias=False)\n",
       "          (bn1): FrozenBatchNorm2d()\n",
       "          (conv2): Conv2d(256, 256, kernel_size=(3, 3), stride=(1, 1), padding=(1, 1), bias=False)\n",
       "          (bn2): FrozenBatchNorm2d()\n",
       "          (conv3): Conv2d(256, 1024, kernel_size=(1, 1), stride=(1, 1), bias=False)\n",
       "          (bn3): FrozenBatchNorm2d()\n",
       "          (relu): ReLU(inplace=True)\n",
       "        )\n",
       "      )\n",
       "      (layer4): Sequential(\n",
       "        (0): Bottleneck(\n",
       "          (conv1): Conv2d(1024, 512, kernel_size=(1, 1), stride=(1, 1), bias=False)\n",
       "          (bn1): FrozenBatchNorm2d()\n",
       "          (conv2): Conv2d(512, 512, kernel_size=(3, 3), stride=(2, 2), padding=(1, 1), bias=False)\n",
       "          (bn2): FrozenBatchNorm2d()\n",
       "          (conv3): Conv2d(512, 2048, kernel_size=(1, 1), stride=(1, 1), bias=False)\n",
       "          (bn3): FrozenBatchNorm2d()\n",
       "          (relu): ReLU(inplace=True)\n",
       "          (downsample): Sequential(\n",
       "            (0): Conv2d(1024, 2048, kernel_size=(1, 1), stride=(2, 2), bias=False)\n",
       "            (1): FrozenBatchNorm2d()\n",
       "          )\n",
       "        )\n",
       "        (1): Bottleneck(\n",
       "          (conv1): Conv2d(2048, 512, kernel_size=(1, 1), stride=(1, 1), bias=False)\n",
       "          (bn1): FrozenBatchNorm2d()\n",
       "          (conv2): Conv2d(512, 512, kernel_size=(3, 3), stride=(1, 1), padding=(1, 1), bias=False)\n",
       "          (bn2): FrozenBatchNorm2d()\n",
       "          (conv3): Conv2d(512, 2048, kernel_size=(1, 1), stride=(1, 1), bias=False)\n",
       "          (bn3): FrozenBatchNorm2d()\n",
       "          (relu): ReLU(inplace=True)\n",
       "        )\n",
       "        (2): Bottleneck(\n",
       "          (conv1): Conv2d(2048, 512, kernel_size=(1, 1), stride=(1, 1), bias=False)\n",
       "          (bn1): FrozenBatchNorm2d()\n",
       "          (conv2): Conv2d(512, 512, kernel_size=(3, 3), stride=(1, 1), padding=(1, 1), bias=False)\n",
       "          (bn2): FrozenBatchNorm2d()\n",
       "          (conv3): Conv2d(512, 2048, kernel_size=(1, 1), stride=(1, 1), bias=False)\n",
       "          (bn3): FrozenBatchNorm2d()\n",
       "          (relu): ReLU(inplace=True)\n",
       "        )\n",
       "      )\n",
       "    )\n",
       "    (fpn): FeaturePyramidNetwork(\n",
       "      (inner_blocks): ModuleList(\n",
       "        (0): Conv2d(256, 256, kernel_size=(1, 1), stride=(1, 1))\n",
       "        (1): Conv2d(512, 256, kernel_size=(1, 1), stride=(1, 1))\n",
       "        (2): Conv2d(1024, 256, kernel_size=(1, 1), stride=(1, 1))\n",
       "        (3): Conv2d(2048, 256, kernel_size=(1, 1), stride=(1, 1))\n",
       "      )\n",
       "      (layer_blocks): ModuleList(\n",
       "        (0): Conv2d(256, 256, kernel_size=(3, 3), stride=(1, 1), padding=(1, 1))\n",
       "        (1): Conv2d(256, 256, kernel_size=(3, 3), stride=(1, 1), padding=(1, 1))\n",
       "        (2): Conv2d(256, 256, kernel_size=(3, 3), stride=(1, 1), padding=(1, 1))\n",
       "        (3): Conv2d(256, 256, kernel_size=(3, 3), stride=(1, 1), padding=(1, 1))\n",
       "      )\n",
       "      (extra_blocks): LastLevelMaxPool()\n",
       "    )\n",
       "  )\n",
       "  (rpn): RegionProposalNetwork(\n",
       "    (anchor_generator): AnchorGenerator()\n",
       "    (head): RPNHead(\n",
       "      (conv): Conv2d(256, 256, kernel_size=(3, 3), stride=(1, 1), padding=(1, 1))\n",
       "      (cls_logits): Conv2d(256, 3, kernel_size=(1, 1), stride=(1, 1))\n",
       "      (bbox_pred): Conv2d(256, 12, kernel_size=(1, 1), stride=(1, 1))\n",
       "    )\n",
       "  )\n",
       "  (roi_heads): RoIHeads(\n",
       "    (box_roi_pool): MultiScaleRoIAlign()\n",
       "    (box_head): TwoMLPHead(\n",
       "      (fc6): Linear(in_features=12544, out_features=1024, bias=True)\n",
       "      (fc7): Linear(in_features=1024, out_features=1024, bias=True)\n",
       "    )\n",
       "    (box_predictor): FastRCNNPredictor(\n",
       "      (cls_score): Linear(in_features=1024, out_features=46, bias=True)\n",
       "      (bbox_pred): Linear(in_features=1024, out_features=184, bias=True)\n",
       "    )\n",
       "    (mask_roi_pool): MultiScaleRoIAlign()\n",
       "    (mask_head): MaskRCNNHeads(\n",
       "      (mask_fcn1): Conv2d(256, 256, kernel_size=(3, 3), stride=(1, 1), padding=(1, 1))\n",
       "      (relu1): ReLU(inplace=True)\n",
       "      (mask_fcn2): Conv2d(256, 256, kernel_size=(3, 3), stride=(1, 1), padding=(1, 1))\n",
       "      (relu2): ReLU(inplace=True)\n",
       "      (mask_fcn3): Conv2d(256, 256, kernel_size=(3, 3), stride=(1, 1), padding=(1, 1))\n",
       "      (relu3): ReLU(inplace=True)\n",
       "      (mask_fcn4): Conv2d(256, 256, kernel_size=(3, 3), stride=(1, 1), padding=(1, 1))\n",
       "      (relu4): ReLU(inplace=True)\n",
       "    )\n",
       "    (mask_predictor): MaskRCNNPredictor(\n",
       "      (conv5_mask): ConvTranspose2d(256, 256, kernel_size=(2, 2), stride=(2, 2))\n",
       "      (relu): ReLU(inplace=True)\n",
       "      (mask_fcn_logits): Conv2d(256, 46, kernel_size=(1, 1), stride=(1, 1))\n",
       "    )\n",
       "  )\n",
       ")"
      ]
     },
     "execution_count": 11,
     "metadata": {},
     "output_type": "execute_result"
    }
   ],
   "source": [
    "M__.eval()"
   ]
  },
  {
   "cell_type": "code",
   "execution_count": 66,
   "metadata": {
    "ExecuteTime": {
     "end_time": "2020-05-07T04:40:08.591192Z",
     "start_time": "2020-05-07T04:40:07.572716Z"
    }
   },
   "outputs": [],
   "source": [
    "a,b = d[1]"
   ]
  },
  {
   "cell_type": "code",
   "execution_count": 67,
   "metadata": {
    "ExecuteTime": {
     "end_time": "2020-05-07T04:40:09.140786Z",
     "start_time": "2020-05-07T04:40:09.132794Z"
    }
   },
   "outputs": [],
   "source": [
    "device = torch.device('cpu')"
   ]
  },
  {
   "cell_type": "code",
   "execution_count": 68,
   "metadata": {
    "ExecuteTime": {
     "end_time": "2020-05-07T04:40:09.662138Z",
     "start_time": "2020-05-07T04:40:09.604146Z"
    }
   },
   "outputs": [],
   "source": [
    "b['boxes'] = torch.tensor(b['boxes'], dtype = torch.float32)\n",
    "b['labels'] = torch.tensor(b['labels'], dtype=torch.int64)\n",
    "b['masks'] = torch.tensor(b['masks'], dtype=torch.uint8)\n",
    "a = torch.tensor(a, dtype=torch.float32).to(device)"
   ]
  },
  {
   "cell_type": "code",
   "execution_count": 69,
   "metadata": {
    "ExecuteTime": {
     "end_time": "2020-05-07T04:40:10.582554Z",
     "start_time": "2020-05-07T04:40:10.557563Z"
    }
   },
   "outputs": [
    {
     "data": {
      "text/plain": [
       "MaskRCNN(\n",
       "  (transform): GeneralizedRCNNTransform(\n",
       "      Normalize(mean=[0.485, 0.456, 0.406], std=[0.229, 0.224, 0.225])\n",
       "      Resize(min_size=(800,), max_size=1333, mode='bilinear')\n",
       "  )\n",
       "  (backbone): BackboneWithFPN(\n",
       "    (body): IntermediateLayerGetter(\n",
       "      (conv1): Conv2d(3, 64, kernel_size=(7, 7), stride=(2, 2), padding=(3, 3), bias=False)\n",
       "      (bn1): FrozenBatchNorm2d()\n",
       "      (relu): ReLU(inplace=True)\n",
       "      (maxpool): MaxPool2d(kernel_size=3, stride=2, padding=1, dilation=1, ceil_mode=False)\n",
       "      (layer1): Sequential(\n",
       "        (0): Bottleneck(\n",
       "          (conv1): Conv2d(64, 64, kernel_size=(1, 1), stride=(1, 1), bias=False)\n",
       "          (bn1): FrozenBatchNorm2d()\n",
       "          (conv2): Conv2d(64, 64, kernel_size=(3, 3), stride=(1, 1), padding=(1, 1), bias=False)\n",
       "          (bn2): FrozenBatchNorm2d()\n",
       "          (conv3): Conv2d(64, 256, kernel_size=(1, 1), stride=(1, 1), bias=False)\n",
       "          (bn3): FrozenBatchNorm2d()\n",
       "          (relu): ReLU(inplace=True)\n",
       "          (downsample): Sequential(\n",
       "            (0): Conv2d(64, 256, kernel_size=(1, 1), stride=(1, 1), bias=False)\n",
       "            (1): FrozenBatchNorm2d()\n",
       "          )\n",
       "        )\n",
       "        (1): Bottleneck(\n",
       "          (conv1): Conv2d(256, 64, kernel_size=(1, 1), stride=(1, 1), bias=False)\n",
       "          (bn1): FrozenBatchNorm2d()\n",
       "          (conv2): Conv2d(64, 64, kernel_size=(3, 3), stride=(1, 1), padding=(1, 1), bias=False)\n",
       "          (bn2): FrozenBatchNorm2d()\n",
       "          (conv3): Conv2d(64, 256, kernel_size=(1, 1), stride=(1, 1), bias=False)\n",
       "          (bn3): FrozenBatchNorm2d()\n",
       "          (relu): ReLU(inplace=True)\n",
       "        )\n",
       "        (2): Bottleneck(\n",
       "          (conv1): Conv2d(256, 64, kernel_size=(1, 1), stride=(1, 1), bias=False)\n",
       "          (bn1): FrozenBatchNorm2d()\n",
       "          (conv2): Conv2d(64, 64, kernel_size=(3, 3), stride=(1, 1), padding=(1, 1), bias=False)\n",
       "          (bn2): FrozenBatchNorm2d()\n",
       "          (conv3): Conv2d(64, 256, kernel_size=(1, 1), stride=(1, 1), bias=False)\n",
       "          (bn3): FrozenBatchNorm2d()\n",
       "          (relu): ReLU(inplace=True)\n",
       "        )\n",
       "      )\n",
       "      (layer2): Sequential(\n",
       "        (0): Bottleneck(\n",
       "          (conv1): Conv2d(256, 128, kernel_size=(1, 1), stride=(1, 1), bias=False)\n",
       "          (bn1): FrozenBatchNorm2d()\n",
       "          (conv2): Conv2d(128, 128, kernel_size=(3, 3), stride=(2, 2), padding=(1, 1), bias=False)\n",
       "          (bn2): FrozenBatchNorm2d()\n",
       "          (conv3): Conv2d(128, 512, kernel_size=(1, 1), stride=(1, 1), bias=False)\n",
       "          (bn3): FrozenBatchNorm2d()\n",
       "          (relu): ReLU(inplace=True)\n",
       "          (downsample): Sequential(\n",
       "            (0): Conv2d(256, 512, kernel_size=(1, 1), stride=(2, 2), bias=False)\n",
       "            (1): FrozenBatchNorm2d()\n",
       "          )\n",
       "        )\n",
       "        (1): Bottleneck(\n",
       "          (conv1): Conv2d(512, 128, kernel_size=(1, 1), stride=(1, 1), bias=False)\n",
       "          (bn1): FrozenBatchNorm2d()\n",
       "          (conv2): Conv2d(128, 128, kernel_size=(3, 3), stride=(1, 1), padding=(1, 1), bias=False)\n",
       "          (bn2): FrozenBatchNorm2d()\n",
       "          (conv3): Conv2d(128, 512, kernel_size=(1, 1), stride=(1, 1), bias=False)\n",
       "          (bn3): FrozenBatchNorm2d()\n",
       "          (relu): ReLU(inplace=True)\n",
       "        )\n",
       "        (2): Bottleneck(\n",
       "          (conv1): Conv2d(512, 128, kernel_size=(1, 1), stride=(1, 1), bias=False)\n",
       "          (bn1): FrozenBatchNorm2d()\n",
       "          (conv2): Conv2d(128, 128, kernel_size=(3, 3), stride=(1, 1), padding=(1, 1), bias=False)\n",
       "          (bn2): FrozenBatchNorm2d()\n",
       "          (conv3): Conv2d(128, 512, kernel_size=(1, 1), stride=(1, 1), bias=False)\n",
       "          (bn3): FrozenBatchNorm2d()\n",
       "          (relu): ReLU(inplace=True)\n",
       "        )\n",
       "        (3): Bottleneck(\n",
       "          (conv1): Conv2d(512, 128, kernel_size=(1, 1), stride=(1, 1), bias=False)\n",
       "          (bn1): FrozenBatchNorm2d()\n",
       "          (conv2): Conv2d(128, 128, kernel_size=(3, 3), stride=(1, 1), padding=(1, 1), bias=False)\n",
       "          (bn2): FrozenBatchNorm2d()\n",
       "          (conv3): Conv2d(128, 512, kernel_size=(1, 1), stride=(1, 1), bias=False)\n",
       "          (bn3): FrozenBatchNorm2d()\n",
       "          (relu): ReLU(inplace=True)\n",
       "        )\n",
       "      )\n",
       "      (layer3): Sequential(\n",
       "        (0): Bottleneck(\n",
       "          (conv1): Conv2d(512, 256, kernel_size=(1, 1), stride=(1, 1), bias=False)\n",
       "          (bn1): FrozenBatchNorm2d()\n",
       "          (conv2): Conv2d(256, 256, kernel_size=(3, 3), stride=(2, 2), padding=(1, 1), bias=False)\n",
       "          (bn2): FrozenBatchNorm2d()\n",
       "          (conv3): Conv2d(256, 1024, kernel_size=(1, 1), stride=(1, 1), bias=False)\n",
       "          (bn3): FrozenBatchNorm2d()\n",
       "          (relu): ReLU(inplace=True)\n",
       "          (downsample): Sequential(\n",
       "            (0): Conv2d(512, 1024, kernel_size=(1, 1), stride=(2, 2), bias=False)\n",
       "            (1): FrozenBatchNorm2d()\n",
       "          )\n",
       "        )\n",
       "        (1): Bottleneck(\n",
       "          (conv1): Conv2d(1024, 256, kernel_size=(1, 1), stride=(1, 1), bias=False)\n",
       "          (bn1): FrozenBatchNorm2d()\n",
       "          (conv2): Conv2d(256, 256, kernel_size=(3, 3), stride=(1, 1), padding=(1, 1), bias=False)\n",
       "          (bn2): FrozenBatchNorm2d()\n",
       "          (conv3): Conv2d(256, 1024, kernel_size=(1, 1), stride=(1, 1), bias=False)\n",
       "          (bn3): FrozenBatchNorm2d()\n",
       "          (relu): ReLU(inplace=True)\n",
       "        )\n",
       "        (2): Bottleneck(\n",
       "          (conv1): Conv2d(1024, 256, kernel_size=(1, 1), stride=(1, 1), bias=False)\n",
       "          (bn1): FrozenBatchNorm2d()\n",
       "          (conv2): Conv2d(256, 256, kernel_size=(3, 3), stride=(1, 1), padding=(1, 1), bias=False)\n",
       "          (bn2): FrozenBatchNorm2d()\n",
       "          (conv3): Conv2d(256, 1024, kernel_size=(1, 1), stride=(1, 1), bias=False)\n",
       "          (bn3): FrozenBatchNorm2d()\n",
       "          (relu): ReLU(inplace=True)\n",
       "        )\n",
       "        (3): Bottleneck(\n",
       "          (conv1): Conv2d(1024, 256, kernel_size=(1, 1), stride=(1, 1), bias=False)\n",
       "          (bn1): FrozenBatchNorm2d()\n",
       "          (conv2): Conv2d(256, 256, kernel_size=(3, 3), stride=(1, 1), padding=(1, 1), bias=False)\n",
       "          (bn2): FrozenBatchNorm2d()\n",
       "          (conv3): Conv2d(256, 1024, kernel_size=(1, 1), stride=(1, 1), bias=False)\n",
       "          (bn3): FrozenBatchNorm2d()\n",
       "          (relu): ReLU(inplace=True)\n",
       "        )\n",
       "        (4): Bottleneck(\n",
       "          (conv1): Conv2d(1024, 256, kernel_size=(1, 1), stride=(1, 1), bias=False)\n",
       "          (bn1): FrozenBatchNorm2d()\n",
       "          (conv2): Conv2d(256, 256, kernel_size=(3, 3), stride=(1, 1), padding=(1, 1), bias=False)\n",
       "          (bn2): FrozenBatchNorm2d()\n",
       "          (conv3): Conv2d(256, 1024, kernel_size=(1, 1), stride=(1, 1), bias=False)\n",
       "          (bn3): FrozenBatchNorm2d()\n",
       "          (relu): ReLU(inplace=True)\n",
       "        )\n",
       "        (5): Bottleneck(\n",
       "          (conv1): Conv2d(1024, 256, kernel_size=(1, 1), stride=(1, 1), bias=False)\n",
       "          (bn1): FrozenBatchNorm2d()\n",
       "          (conv2): Conv2d(256, 256, kernel_size=(3, 3), stride=(1, 1), padding=(1, 1), bias=False)\n",
       "          (bn2): FrozenBatchNorm2d()\n",
       "          (conv3): Conv2d(256, 1024, kernel_size=(1, 1), stride=(1, 1), bias=False)\n",
       "          (bn3): FrozenBatchNorm2d()\n",
       "          (relu): ReLU(inplace=True)\n",
       "        )\n",
       "      )\n",
       "      (layer4): Sequential(\n",
       "        (0): Bottleneck(\n",
       "          (conv1): Conv2d(1024, 512, kernel_size=(1, 1), stride=(1, 1), bias=False)\n",
       "          (bn1): FrozenBatchNorm2d()\n",
       "          (conv2): Conv2d(512, 512, kernel_size=(3, 3), stride=(2, 2), padding=(1, 1), bias=False)\n",
       "          (bn2): FrozenBatchNorm2d()\n",
       "          (conv3): Conv2d(512, 2048, kernel_size=(1, 1), stride=(1, 1), bias=False)\n",
       "          (bn3): FrozenBatchNorm2d()\n",
       "          (relu): ReLU(inplace=True)\n",
       "          (downsample): Sequential(\n",
       "            (0): Conv2d(1024, 2048, kernel_size=(1, 1), stride=(2, 2), bias=False)\n",
       "            (1): FrozenBatchNorm2d()\n",
       "          )\n",
       "        )\n",
       "        (1): Bottleneck(\n",
       "          (conv1): Conv2d(2048, 512, kernel_size=(1, 1), stride=(1, 1), bias=False)\n",
       "          (bn1): FrozenBatchNorm2d()\n",
       "          (conv2): Conv2d(512, 512, kernel_size=(3, 3), stride=(1, 1), padding=(1, 1), bias=False)\n",
       "          (bn2): FrozenBatchNorm2d()\n",
       "          (conv3): Conv2d(512, 2048, kernel_size=(1, 1), stride=(1, 1), bias=False)\n",
       "          (bn3): FrozenBatchNorm2d()\n",
       "          (relu): ReLU(inplace=True)\n",
       "        )\n",
       "        (2): Bottleneck(\n",
       "          (conv1): Conv2d(2048, 512, kernel_size=(1, 1), stride=(1, 1), bias=False)\n",
       "          (bn1): FrozenBatchNorm2d()\n",
       "          (conv2): Conv2d(512, 512, kernel_size=(3, 3), stride=(1, 1), padding=(1, 1), bias=False)\n",
       "          (bn2): FrozenBatchNorm2d()\n",
       "          (conv3): Conv2d(512, 2048, kernel_size=(1, 1), stride=(1, 1), bias=False)\n",
       "          (bn3): FrozenBatchNorm2d()\n",
       "          (relu): ReLU(inplace=True)\n",
       "        )\n",
       "      )\n",
       "    )\n",
       "    (fpn): FeaturePyramidNetwork(\n",
       "      (inner_blocks): ModuleList(\n",
       "        (0): Conv2d(256, 256, kernel_size=(1, 1), stride=(1, 1))\n",
       "        (1): Conv2d(512, 256, kernel_size=(1, 1), stride=(1, 1))\n",
       "        (2): Conv2d(1024, 256, kernel_size=(1, 1), stride=(1, 1))\n",
       "        (3): Conv2d(2048, 256, kernel_size=(1, 1), stride=(1, 1))\n",
       "      )\n",
       "      (layer_blocks): ModuleList(\n",
       "        (0): Conv2d(256, 256, kernel_size=(3, 3), stride=(1, 1), padding=(1, 1))\n",
       "        (1): Conv2d(256, 256, kernel_size=(3, 3), stride=(1, 1), padding=(1, 1))\n",
       "        (2): Conv2d(256, 256, kernel_size=(3, 3), stride=(1, 1), padding=(1, 1))\n",
       "        (3): Conv2d(256, 256, kernel_size=(3, 3), stride=(1, 1), padding=(1, 1))\n",
       "      )\n",
       "      (extra_blocks): LastLevelMaxPool()\n",
       "    )\n",
       "  )\n",
       "  (rpn): RegionProposalNetwork(\n",
       "    (anchor_generator): AnchorGenerator()\n",
       "    (head): RPNHead(\n",
       "      (conv): Conv2d(256, 256, kernel_size=(3, 3), stride=(1, 1), padding=(1, 1))\n",
       "      (cls_logits): Conv2d(256, 3, kernel_size=(1, 1), stride=(1, 1))\n",
       "      (bbox_pred): Conv2d(256, 12, kernel_size=(1, 1), stride=(1, 1))\n",
       "    )\n",
       "  )\n",
       "  (roi_heads): RoIHeads(\n",
       "    (box_roi_pool): MultiScaleRoIAlign()\n",
       "    (box_head): TwoMLPHead(\n",
       "      (fc6): Linear(in_features=12544, out_features=1024, bias=True)\n",
       "      (fc7): Linear(in_features=1024, out_features=1024, bias=True)\n",
       "    )\n",
       "    (box_predictor): FastRCNNPredictor(\n",
       "      (cls_score): Linear(in_features=1024, out_features=46, bias=True)\n",
       "      (bbox_pred): Linear(in_features=1024, out_features=184, bias=True)\n",
       "    )\n",
       "    (mask_roi_pool): MultiScaleRoIAlign()\n",
       "    (mask_head): MaskRCNNHeads(\n",
       "      (mask_fcn1): Conv2d(256, 256, kernel_size=(3, 3), stride=(1, 1), padding=(1, 1))\n",
       "      (relu1): ReLU(inplace=True)\n",
       "      (mask_fcn2): Conv2d(256, 256, kernel_size=(3, 3), stride=(1, 1), padding=(1, 1))\n",
       "      (relu2): ReLU(inplace=True)\n",
       "      (mask_fcn3): Conv2d(256, 256, kernel_size=(3, 3), stride=(1, 1), padding=(1, 1))\n",
       "      (relu3): ReLU(inplace=True)\n",
       "      (mask_fcn4): Conv2d(256, 256, kernel_size=(3, 3), stride=(1, 1), padding=(1, 1))\n",
       "      (relu4): ReLU(inplace=True)\n",
       "    )\n",
       "    (mask_predictor): MaskRCNNPredictor(\n",
       "      (conv5_mask): ConvTranspose2d(256, 256, kernel_size=(2, 2), stride=(2, 2))\n",
       "      (relu): ReLU(inplace=True)\n",
       "      (mask_fcn_logits): Conv2d(256, 46, kernel_size=(1, 1), stride=(1, 1))\n",
       "    )\n",
       "  )\n",
       ")"
      ]
     },
     "execution_count": 69,
     "metadata": {},
     "output_type": "execute_result"
    }
   ],
   "source": [
    "M__.to(device)"
   ]
  },
  {
   "cell_type": "code",
   "execution_count": 70,
   "metadata": {
    "ExecuteTime": {
     "end_time": "2020-05-07T04:40:15.065400Z",
     "start_time": "2020-05-07T04:40:11.712461Z"
    }
   },
   "outputs": [],
   "source": [
    "r = M__([a])"
   ]
  },
  {
   "cell_type": "code",
   "execution_count": 71,
   "metadata": {
    "ExecuteTime": {
     "end_time": "2020-05-07T04:40:17.725447Z",
     "start_time": "2020-05-07T04:40:17.714454Z"
    }
   },
   "outputs": [
    {
     "data": {
      "text/plain": [
       "tensor([33,  1])"
      ]
     },
     "execution_count": 71,
     "metadata": {},
     "output_type": "execute_result"
    }
   ],
   "source": [
    "b['labels']"
   ]
  },
  {
   "cell_type": "code",
   "execution_count": 72,
   "metadata": {
    "ExecuteTime": {
     "end_time": "2020-05-07T04:40:19.038587Z",
     "start_time": "2020-05-07T04:40:19.008597Z"
    },
    "scrolled": true
   },
   "outputs": [
    {
     "data": {
      "text/plain": [
       "[{'boxes': tensor([[ 888.7122,  387.5417, 1523.1628,  662.2922],\n",
       "          [ 500.5925,  336.3864, 1826.4224, 2289.2073],\n",
       "          [ 506.6111,  299.9686, 2073.4028, 2213.1248],\n",
       "          [ 902.9332,  374.8637, 1489.8585,  537.7057],\n",
       "          [1755.7552,  988.3752, 1905.9825, 2067.6350],\n",
       "          [ 566.0560,  382.9998, 1766.4264, 2231.0781],\n",
       "          [ 586.8345,  512.6924,  720.2310,  653.4162],\n",
       "          [ 601.2071,  495.6941,  768.7727,  691.5023],\n",
       "          [1657.0020,  550.8086, 1932.9948, 2167.5281]], grad_fn=<StackBackward>),\n",
       "  'labels': tensor([33, 10,  1, 33, 31,  8, 31, 31, 31]),\n",
       "  'scores': tensor([0.9989, 0.6159, 0.5684, 0.2277, 0.1456, 0.0697, 0.0694, 0.0640, 0.0585],\n",
       "         grad_fn=<IndexBackward>),\n",
       "  'masks': tensor([[[[0., 0., 0.,  ..., 0., 0., 0.],\n",
       "            [0., 0., 0.,  ..., 0., 0., 0.],\n",
       "            [0., 0., 0.,  ..., 0., 0., 0.],\n",
       "            ...,\n",
       "            [0., 0., 0.,  ..., 0., 0., 0.],\n",
       "            [0., 0., 0.,  ..., 0., 0., 0.],\n",
       "            [0., 0., 0.,  ..., 0., 0., 0.]]],\n",
       "  \n",
       "  \n",
       "          [[[0., 0., 0.,  ..., 0., 0., 0.],\n",
       "            [0., 0., 0.,  ..., 0., 0., 0.],\n",
       "            [0., 0., 0.,  ..., 0., 0., 0.],\n",
       "            ...,\n",
       "            [0., 0., 0.,  ..., 0., 0., 0.],\n",
       "            [0., 0., 0.,  ..., 0., 0., 0.],\n",
       "            [0., 0., 0.,  ..., 0., 0., 0.]]],\n",
       "  \n",
       "  \n",
       "          [[[0., 0., 0.,  ..., 0., 0., 0.],\n",
       "            [0., 0., 0.,  ..., 0., 0., 0.],\n",
       "            [0., 0., 0.,  ..., 0., 0., 0.],\n",
       "            ...,\n",
       "            [0., 0., 0.,  ..., 0., 0., 0.],\n",
       "            [0., 0., 0.,  ..., 0., 0., 0.],\n",
       "            [0., 0., 0.,  ..., 0., 0., 0.]]],\n",
       "  \n",
       "  \n",
       "          ...,\n",
       "  \n",
       "  \n",
       "          [[[0., 0., 0.,  ..., 0., 0., 0.],\n",
       "            [0., 0., 0.,  ..., 0., 0., 0.],\n",
       "            [0., 0., 0.,  ..., 0., 0., 0.],\n",
       "            ...,\n",
       "            [0., 0., 0.,  ..., 0., 0., 0.],\n",
       "            [0., 0., 0.,  ..., 0., 0., 0.],\n",
       "            [0., 0., 0.,  ..., 0., 0., 0.]]],\n",
       "  \n",
       "  \n",
       "          [[[0., 0., 0.,  ..., 0., 0., 0.],\n",
       "            [0., 0., 0.,  ..., 0., 0., 0.],\n",
       "            [0., 0., 0.,  ..., 0., 0., 0.],\n",
       "            ...,\n",
       "            [0., 0., 0.,  ..., 0., 0., 0.],\n",
       "            [0., 0., 0.,  ..., 0., 0., 0.],\n",
       "            [0., 0., 0.,  ..., 0., 0., 0.]]],\n",
       "  \n",
       "  \n",
       "          [[[0., 0., 0.,  ..., 0., 0., 0.],\n",
       "            [0., 0., 0.,  ..., 0., 0., 0.],\n",
       "            [0., 0., 0.,  ..., 0., 0., 0.],\n",
       "            ...,\n",
       "            [0., 0., 0.,  ..., 0., 0., 0.],\n",
       "            [0., 0., 0.,  ..., 0., 0., 0.],\n",
       "            [0., 0., 0.,  ..., 0., 0., 0.]]]], grad_fn=<UnsqueezeBackward0>)}]"
      ]
     },
     "execution_count": 72,
     "metadata": {},
     "output_type": "execute_result"
    }
   ],
   "source": [
    "r"
   ]
  },
  {
   "cell_type": "code",
   "execution_count": 50,
   "metadata": {
    "ExecuteTime": {
     "end_time": "2020-05-07T04:38:15.295236Z",
     "start_time": "2020-05-07T04:38:15.265247Z"
    }
   },
   "outputs": [],
   "source": [
    "b_masks = r[0]['masks'].detach().numpy()\n",
    "img = a.detach().numpy()\n",
    "img = np.moveaxis(img, 0,-1)"
   ]
  },
  {
   "cell_type": "code",
   "execution_count": 51,
   "metadata": {
    "ExecuteTime": {
     "end_time": "2020-05-07T04:38:21.827371Z",
     "start_time": "2020-05-07T04:38:20.480804Z"
    }
   },
   "outputs": [
    {
     "data": {
      "text/plain": [
       "<matplotlib.image.AxesImage at 0x21123f68688>"
      ]
     },
     "execution_count": 51,
     "metadata": {},
     "output_type": "execute_result"
    },
    {
     "data": {
      "image/png": "[encoded data removed]",
      "text/plain": [
       "<Figure size 432x288 with 1 Axes>"
      ]
     },
     "metadata": {
      "needs_background": "light"
     },
     "output_type": "display_data"
    }
   ],
   "source": [
    "import matplotlib.pyplot as plt\n",
    "plt.imshow(img)"
   ]
  },
  {
   "cell_type": "code",
   "execution_count": 65,
   "metadata": {
    "ExecuteTime": {
     "end_time": "2020-05-07T04:39:54.121245Z",
     "start_time": "2020-05-07T04:39:53.359135Z"
    }
   },
   "outputs": [
    {
     "data": {
      "text/plain": [
       "<matplotlib.image.AxesImage at 0x2126576ea08>"
      ]
     },
     "execution_count": 65,
     "metadata": {},
     "output_type": "execute_result"
    },
    {
     "data": {
      "image/png": "[encoded data removed]",
      "text/plain": [
       "<Figure size 432x288 with 1 Axes>"
      ]
     },
     "metadata": {
      "needs_background": "light"
     },
     "output_type": "display_data"
    }
   ],
   "source": [
    "import matplotlib.pyplot as plt\n",
    "plt.imshow(b_masks[5][0])"
   ]
  },
  {
   "cell_type": "code",
   "execution_count": 62,
   "metadata": {
    "ExecuteTime": {
     "end_time": "2020-05-07T04:39:24.964739Z",
     "start_time": "2020-05-07T04:39:24.207981Z"
    }
   },
   "outputs": [
    {
     "data": {
      "text/plain": [
       "<matplotlib.image.AxesImage at 0x21207c80fc8>"
      ]
     },
     "execution_count": 62,
     "metadata": {},
     "output_type": "execute_result"
    },
    {
     "data": {
      "image/png": "[encoded data removed]",
      "text/plain": [
       "<Figure size 432x288 with 1 Axes>"
      ]
     },
     "metadata": {
      "needs_background": "light"
     },
     "output_type": "display_data"
    }
   ],
   "source": [
    "plt.imshow(b['masks'][3])"
   ]
  },
  {
   "cell_type": "code",
   "execution_count": 100,
   "metadata": {
    "ExecuteTime": {
     "end_time": "2020-05-06T17:28:32.138964Z",
     "start_time": "2020-05-06T17:28:32.124973Z"
    }
   },
   "outputs": [],
   "source": [
    "\n",
    "\n",
    "import torch\n",
    "import torchvision\n",
    "import torch.nn as nn\n",
    "import copy\n",
    "\n",
    "\n",
    "import torchvision\n",
    "from torchvision.models.detection.faster_rcnn import FastRCNNPredictor\n",
    "from torchvision.models.detection.mask_rcnn import MaskRCNNPredictor"
   ]
  },
  {
   "cell_type": "code",
   "execution_count": 60,
   "metadata": {
    "ExecuteTime": {
     "end_time": "2020-05-06T16:41:27.292091Z",
     "start_time": "2020-05-06T16:41:23.897980Z"
    }
   },
   "outputs": [],
   "source": []
  },
  {
   "cell_type": "code",
   "execution_count": 7,
   "metadata": {
    "ExecuteTime": {
     "end_time": "2020-05-06T04:58:39.431759Z",
     "start_time": "2020-05-06T04:58:39.416764Z"
    }
   },
   "outputs": [],
   "source": [
    "def get_model_instance_segmentation(num_classes):\n",
    "    # load an instance segmentation model pre-trained pre-trained on COCO\n",
    "    model = torchvision.models.detection.maskrcnn_resnet50_fpn(pretrained=True)\n",
    "\n",
    "    # get number of input features for the classifier\n",
    "    in_features = model.roi_heads.box_predictor.cls_score.in_features\n",
    "    print(in_features)\n",
    "    # replace the pre-trained head with a new one\n",
    "    model.roi_heads.box_predictor = FastRCNNPredictor(in_features, num_classes)\n",
    "\n",
    "    # now get the number of input features for the mask classifier\n",
    "    in_features_mask = model.roi_heads.mask_predictor.conv5_mask.in_channels\n",
    "    print('input fo mask classifier', in_features_mask)\n",
    "    hidden_layer = 256\n",
    "    # and replace the mask predictor with a new one\n",
    "    model.roi_heads.mask_predictor = MaskRCNNPredictor(in_features_mask,hidden_layer,num_classes)\n",
    "\n",
    "    return model\n",
    "\n"
   ]
  },
  {
   "cell_type": "code",
   "execution_count": 11,
   "metadata": {
    "ExecuteTime": {
     "end_time": "2020-05-06T04:43:32.692786Z",
     "start_time": "2020-05-06T04:43:13.590874Z"
    }
   },
   "outputs": [
    {
     "name": "stdout",
     "output_type": "stream",
     "text": [
      "Loaded train_df!\n",
      "                            ImageId  \\\n",
      "0  00000663ed1ff0c4e0132b9b9ac53f6e   \n",
      "1  00000663ed1ff0c4e0132b9b9ac53f6e   \n",
      "2  00000663ed1ff0c4e0132b9b9ac53f6e   \n",
      "3  00000663ed1ff0c4e0132b9b9ac53f6e   \n",
      "4  00000663ed1ff0c4e0132b9b9ac53f6e   \n",
      "\n",
      "                                       EncodedPixels  Height  Width  ClassId  \\\n",
      "0  6068157 7 6073371 20 6078584 34 6083797 48 608...    5214   3676        6   \n",
      "1  6323163 11 6328356 32 6333549 53 6338742 75 63...    5214   3676        0   \n",
      "2  8521389 10 8526585 30 8531789 42 8537002 46 85...    5214   3676       28   \n",
      "3  12903854 2 12909064 7 12914275 10 12919485 15 ...    5214   3676       31   \n",
      "4  10837337 5 10842542 14 10847746 24 10852951 33...    5214   3676       32   \n",
      "\n",
      "                     AttributesIds  \n",
      "0  115,136,143,154,230,295,316,317  \n",
      "1  115,136,142,146,225,295,316,317  \n",
      "2                              163  \n",
      "3                          160,204  \n",
      "4                              219  \n"
     ]
    }
   ],
   "source": [
    "device = torch.device('cuda') if torch.cuda.is_available() else torch.device('cpu')\n",
    "\n",
    "conf = config.Config()\n",
    "train_df = pd.read_csv(conf.DATA_PATH+'/train.csv')\n",
    "print('Loaded train_df!')\n",
    "print(train_df.head())"
   ]
  },
  {
   "cell_type": "code",
   "execution_count": 12,
   "metadata": {
    "ExecuteTime": {
     "end_time": "2020-05-06T04:43:44.860145Z",
     "start_time": "2020-05-06T04:43:41.207310Z"
    }
   },
   "outputs": [
    {
     "name": "stdout",
     "output_type": "stream",
     "text": [
      "Initialized data loader\n",
      "1024\n",
      "input fo mask classifier 256\n",
      "Loaded model!\n"
     ]
    }
   ],
   "source": [
    "torch.random.manual_seed(0)\n",
    "d = iMetDataset(conf, train_df, get_transform(train=True))\n",
    "data_loader = torch.utils.data.DataLoader(d, batch_size=conf.BATCH_SIZE, shuffle=True, num_workers=2,collate_fn=utils.collate_fn)\n",
    "print('Initialized data loader')\n",
    "\n",
    "# get the model using our helper function\n",
    "model = get_model_instance_segmentation(conf.NO_OF_CLASSES)\n",
    "print('Loaded model!')\n",
    "# move model to the right device\n",
    "model.to(device)\n",
    "\n",
    "# construct an optimizer\n",
    "params = [p for p in model.parameters() if p.requires_grad]\n",
    "optimizer = torch.optim.SGD(params, lr=0.005,momentum=0.9, weight_decay=0.0005)\n",
    "\n",
    "# and a learning rate scheduler\n",
    "lr_scheduler = torch.optim.lr_scheduler.StepLR(optimizer,step_size=3, gamma=0.1)\n",
    "\n",
    "# let's train it for 10 epochs\n",
    "num_epochs = 10\n",
    "\n"
   ]
  },
  {
   "cell_type": "code",
   "execution_count": 13,
   "metadata": {
    "ExecuteTime": {
     "end_time": "2020-05-06T04:45:07.314599Z",
     "start_time": "2020-05-06T04:44:30.249685Z"
    },
    "scrolled": false
   },
   "outputs": [
    {
     "name": "stdout",
     "output_type": "stream",
     "text": [
      "Epoch 0\n"
     ]
    },
    {
     "ename": "AttributeError",
     "evalue": "'numpy.ndarray' object has no attribute 'to'",
     "output_type": "error",
     "traceback": [
      "\u001b[1;31m---------------------------------------------------------------------------\u001b[0m",
      "\u001b[1;31mAttributeError\u001b[0m                            Traceback (most recent call last)",
      "\u001b[1;32m<ipython-input-13-22b3c927711b>\u001b[0m in \u001b[0;36m<module>\u001b[1;34m\u001b[0m\n\u001b[0;32m      2\u001b[0m     \u001b[0mprint\u001b[0m\u001b[1;33m(\u001b[0m\u001b[1;34m'Epoch '\u001b[0m\u001b[1;33m+\u001b[0m\u001b[0mstr\u001b[0m\u001b[1;33m(\u001b[0m\u001b[0mepoch\u001b[0m\u001b[1;33m)\u001b[0m\u001b[1;33m)\u001b[0m\u001b[1;33m\u001b[0m\u001b[1;33m\u001b[0m\u001b[0m\n\u001b[0;32m      3\u001b[0m     \u001b[1;31m# train for one epoch, printing every 10 iterations\u001b[0m\u001b[1;33m\u001b[0m\u001b[1;33m\u001b[0m\u001b[1;33m\u001b[0m\u001b[0m\n\u001b[1;32m----> 4\u001b[1;33m     \u001b[0mtrain_one_epoch\u001b[0m\u001b[1;33m(\u001b[0m\u001b[0mmodel\u001b[0m\u001b[1;33m,\u001b[0m \u001b[0moptimizer\u001b[0m\u001b[1;33m,\u001b[0m \u001b[0mdata_loader\u001b[0m\u001b[1;33m,\u001b[0m \u001b[0mdevice\u001b[0m\u001b[1;33m,\u001b[0m \u001b[0mepoch\u001b[0m\u001b[1;33m,\u001b[0m \u001b[0mprint_freq\u001b[0m\u001b[1;33m=\u001b[0m\u001b[1;36m10\u001b[0m\u001b[1;33m)\u001b[0m\u001b[1;33m\u001b[0m\u001b[1;33m\u001b[0m\u001b[0m\n\u001b[0m\u001b[0;32m      5\u001b[0m     \u001b[1;31m# update the learning rate\u001b[0m\u001b[1;33m\u001b[0m\u001b[1;33m\u001b[0m\u001b[1;33m\u001b[0m\u001b[0m\n\u001b[0;32m      6\u001b[0m     \u001b[0mlr_scheduler\u001b[0m\u001b[1;33m.\u001b[0m\u001b[0mstep\u001b[0m\u001b[1;33m(\u001b[0m\u001b[1;33m)\u001b[0m\u001b[1;33m\u001b[0m\u001b[1;33m\u001b[0m\u001b[0m\n",
      "\u001b[1;32mD:\\Projects\\Kaggle\\iMaterialist-Fashion-2020-at-FGVC7\\engine.py\u001b[0m in \u001b[0;36mtrain_one_epoch\u001b[1;34m(model, optimizer, data_loader, device, epoch, print_freq)\u001b[0m\n\u001b[0;32m     25\u001b[0m \u001b[1;33m\u001b[0m\u001b[0m\n\u001b[0;32m     26\u001b[0m     \u001b[1;32mfor\u001b[0m \u001b[0mimages\u001b[0m\u001b[1;33m,\u001b[0m \u001b[0mtargets\u001b[0m \u001b[1;32min\u001b[0m \u001b[0mmetric_logger\u001b[0m\u001b[1;33m.\u001b[0m\u001b[0mlog_every\u001b[0m\u001b[1;33m(\u001b[0m\u001b[0mdata_loader\u001b[0m\u001b[1;33m,\u001b[0m \u001b[0mprint_freq\u001b[0m\u001b[1;33m,\u001b[0m \u001b[0mheader\u001b[0m\u001b[1;33m)\u001b[0m\u001b[1;33m:\u001b[0m\u001b[1;33m\u001b[0m\u001b[1;33m\u001b[0m\u001b[0m\n\u001b[1;32m---> 27\u001b[1;33m         \u001b[0mimages\u001b[0m \u001b[1;33m=\u001b[0m \u001b[0mlist\u001b[0m\u001b[1;33m(\u001b[0m\u001b[0mimage\u001b[0m\u001b[1;33m.\u001b[0m\u001b[0mto\u001b[0m\u001b[1;33m(\u001b[0m\u001b[0mdevice\u001b[0m\u001b[1;33m)\u001b[0m \u001b[1;32mfor\u001b[0m \u001b[0mimage\u001b[0m \u001b[1;32min\u001b[0m \u001b[0mimages\u001b[0m\u001b[1;33m)\u001b[0m\u001b[1;33m\u001b[0m\u001b[1;33m\u001b[0m\u001b[0m\n\u001b[0m\u001b[0;32m     28\u001b[0m         \u001b[0mtargets\u001b[0m \u001b[1;33m=\u001b[0m \u001b[1;33m[\u001b[0m\u001b[1;33m{\u001b[0m\u001b[0mk\u001b[0m\u001b[1;33m:\u001b[0m \u001b[0mv\u001b[0m\u001b[1;33m.\u001b[0m\u001b[0mto\u001b[0m\u001b[1;33m(\u001b[0m\u001b[0mdevice\u001b[0m\u001b[1;33m)\u001b[0m \u001b[1;32mfor\u001b[0m \u001b[0mk\u001b[0m\u001b[1;33m,\u001b[0m \u001b[0mv\u001b[0m \u001b[1;32min\u001b[0m \u001b[0mt\u001b[0m\u001b[1;33m.\u001b[0m\u001b[0mitems\u001b[0m\u001b[1;33m(\u001b[0m\u001b[1;33m)\u001b[0m\u001b[1;33m}\u001b[0m \u001b[1;32mfor\u001b[0m \u001b[0mt\u001b[0m \u001b[1;32min\u001b[0m \u001b[0mtargets\u001b[0m\u001b[1;33m]\u001b[0m\u001b[1;33m\u001b[0m\u001b[1;33m\u001b[0m\u001b[0m\n\u001b[0;32m     29\u001b[0m \u001b[1;33m\u001b[0m\u001b[0m\n",
      "\u001b[1;32mD:\\Projects\\Kaggle\\iMaterialist-Fashion-2020-at-FGVC7\\engine.py\u001b[0m in \u001b[0;36m<genexpr>\u001b[1;34m(.0)\u001b[0m\n\u001b[0;32m     25\u001b[0m \u001b[1;33m\u001b[0m\u001b[0m\n\u001b[0;32m     26\u001b[0m     \u001b[1;32mfor\u001b[0m \u001b[0mimages\u001b[0m\u001b[1;33m,\u001b[0m \u001b[0mtargets\u001b[0m \u001b[1;32min\u001b[0m \u001b[0mmetric_logger\u001b[0m\u001b[1;33m.\u001b[0m\u001b[0mlog_every\u001b[0m\u001b[1;33m(\u001b[0m\u001b[0mdata_loader\u001b[0m\u001b[1;33m,\u001b[0m \u001b[0mprint_freq\u001b[0m\u001b[1;33m,\u001b[0m \u001b[0mheader\u001b[0m\u001b[1;33m)\u001b[0m\u001b[1;33m:\u001b[0m\u001b[1;33m\u001b[0m\u001b[1;33m\u001b[0m\u001b[0m\n\u001b[1;32m---> 27\u001b[1;33m         \u001b[0mimages\u001b[0m \u001b[1;33m=\u001b[0m \u001b[0mlist\u001b[0m\u001b[1;33m(\u001b[0m\u001b[0mimage\u001b[0m\u001b[1;33m.\u001b[0m\u001b[0mto\u001b[0m\u001b[1;33m(\u001b[0m\u001b[0mdevice\u001b[0m\u001b[1;33m)\u001b[0m \u001b[1;32mfor\u001b[0m \u001b[0mimage\u001b[0m \u001b[1;32min\u001b[0m \u001b[0mimages\u001b[0m\u001b[1;33m)\u001b[0m\u001b[1;33m\u001b[0m\u001b[1;33m\u001b[0m\u001b[0m\n\u001b[0m\u001b[0;32m     28\u001b[0m         \u001b[0mtargets\u001b[0m \u001b[1;33m=\u001b[0m \u001b[1;33m[\u001b[0m\u001b[1;33m{\u001b[0m\u001b[0mk\u001b[0m\u001b[1;33m:\u001b[0m \u001b[0mv\u001b[0m\u001b[1;33m.\u001b[0m\u001b[0mto\u001b[0m\u001b[1;33m(\u001b[0m\u001b[0mdevice\u001b[0m\u001b[1;33m)\u001b[0m \u001b[1;32mfor\u001b[0m \u001b[0mk\u001b[0m\u001b[1;33m,\u001b[0m \u001b[0mv\u001b[0m \u001b[1;32min\u001b[0m \u001b[0mt\u001b[0m\u001b[1;33m.\u001b[0m\u001b[0mitems\u001b[0m\u001b[1;33m(\u001b[0m\u001b[1;33m)\u001b[0m\u001b[1;33m}\u001b[0m \u001b[1;32mfor\u001b[0m \u001b[0mt\u001b[0m \u001b[1;32min\u001b[0m \u001b[0mtargets\u001b[0m\u001b[1;33m]\u001b[0m\u001b[1;33m\u001b[0m\u001b[1;33m\u001b[0m\u001b[0m\n\u001b[0;32m     29\u001b[0m \u001b[1;33m\u001b[0m\u001b[0m\n",
      "\u001b[1;31mAttributeError\u001b[0m: 'numpy.ndarray' object has no attribute 'to'"
     ]
    }
   ],
   "source": [
    "for epoch in range(num_epochs):\n",
    "    print('Epoch '+str(epoch))\n",
    "    # train for one epoch, printing every 10 iterations\n",
    "    train_one_epoch(model, optimizer, data_loader, device, epoch, print_freq=10)\n",
    "    # update the learning rate\n",
    "    lr_scheduler.step()\n",
    "    # evaluate on the test dataset\n",
    "    print(\"Evaluating at end of epoch\")\n",
    "    evaluate(model, data_loader_test, device=device)\n",
    "\n",
    "print(\"That's it!\")\n"
   ]
  },
  {
   "cell_type": "code",
   "execution_count": null,
   "metadata": {},
   "outputs": [],
   "source": []
  }
 ],
 "metadata": {
  "kernelspec": {
   "display_name": "Python 3",
   "language": "python",
   "name": "python3"
  },
  "language_info": {
   "codemirror_mode": {
    "name": "ipython",
    "version": 3
   },
   "file_extension": ".py",
   "mimetype": "text/x-python",
   "name": "python",
   "nbconvert_exporter": "python",
   "pygments_lexer": "ipython3",
   "version": "3.7.4"
  },
  "toc": {
   "base_numbering": 1,
   "nav_menu": {},
   "number_sections": true,
   "sideBar": true,
   "skip_h1_title": false,
   "title_cell": "Table of Contents",
   "title_sidebar": "Contents",
   "toc_cell": false,
   "toc_position": {},
   "toc_section_display": true,
   "toc_window_display": false
  },
  "varInspector": {
   "cols": {
    "lenName": 16,
    "lenType": 16,
    "lenVar": 40
   },
   "kernels_config": {
    "python": {
     "delete_cmd_postfix": "",
     "delete_cmd_prefix": "del ",
     "library": "var_list.py",
     "varRefreshCmd": "print(var_dic_list())"
    },
    "r": {
     "delete_cmd_postfix": ") ",
     "delete_cmd_prefix": "rm(",
     "library": "var_list.r",
     "varRefreshCmd": "cat(var_dic_list()) "
    }
   },
   "position": {
    "height": "1087.86px",
    "left": "2157px",
    "right": "20px",
    "top": "114px",
    "width": "337px"
   },
   "types_to_exclude": [
    "module",
    "function",
    "builtin_function_or_method",
    "instance",
    "_Feature"
   ],
   "window_display": false
  }
 },
 "nbformat": 4,
 "nbformat_minor": 2
}
