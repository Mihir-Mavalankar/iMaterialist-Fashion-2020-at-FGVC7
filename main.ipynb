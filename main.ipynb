{
 "cells": [
  {
   "cell_type": "code",
   "execution_count": 347,
   "metadata": {
    "ExecuteTime": {
     "end_time": "2020-05-01T07:43:09.860954Z",
     "start_time": "2020-05-01T07:43:09.845959Z"
    }
   },
   "outputs": [],
   "source": [
    "import pandas as pd\n",
    "import numpy as np\n",
    "import json\n",
    "import os\n",
    "from multiprocessing import Pool\n",
    "from tqdm.notebook import tqdm\n",
    "import gc\n",
    "import pickle\n",
    "import joblib\n",
    "import cv2\n",
    "#import bz2\n",
    "from PIL import Image\n",
    "import matplotlib.pyplot as plt\n",
    "import matplotlib.image as mpimg\n",
    "#import config\n"
   ]
  },
  {
   "cell_type": "code",
   "execution_count": 177,
   "metadata": {
    "ExecuteTime": {
     "end_time": "2020-05-01T04:49:19.801025Z",
     "start_time": "2020-05-01T04:49:19.790028Z"
    }
   },
   "outputs": [],
   "source": [
    "class Config():\n",
    "    def __init__ (self):\n",
    "        self.DATA_PATH = 'data/imaterialist-fashion-2020-fgvc7'\n",
    "        self.IMAGE_SIZE = 256\n",
    "        self.NO_OF_CLASSES = 46\n",
    "        self.BATCH_SIZE = 8\n",
    "        "
   ]
  },
  {
   "cell_type": "code",
   "execution_count": 360,
   "metadata": {
    "ExecuteTime": {
     "end_time": "2020-05-01T07:46:46.636785Z",
     "start_time": "2020-05-01T07:46:46.613792Z"
    }
   },
   "outputs": [],
   "source": [
    "class Dataset():\n",
    "    def __init__ (self, config):\n",
    "        self.config = config\n",
    "        self.train_data_path = self.config.DATA_PATH + '/train/'\n",
    "        self.training_data_frame = pd.read_csv(self.config.DATA_PATH+'/train.csv')\n",
    "        \n",
    "    def get_image(self, image_id, resize=True):\n",
    "        img = cv2.cvtColor( cv2.imread(self.train_data_path+image_id+'.jpg'), cv2.COLOR_BGR2RGB)\n",
    "        if resize:\n",
    "            return cv2.resize(img, (self.config.IMAGE_SIZE, self.config.IMAGE_SIZE), interpolation = cv2.INTER_NEAREST)\n",
    "        else:\n",
    "            return img\n",
    "    \n",
    "    def get_org_mask(self, image_id):\n",
    "    \n",
    "        query = self.training_data_frame[self.training_data_frame.ImageId==image_id]\n",
    "        encoded_pixels = query.EncodedPixels\n",
    "        class_ids = query.ClassId\n",
    "        height, width = query.Height[0], query.Width[0]\n",
    "        mask = np.zeros((self.config.NO_OF_CLASSES, height*width), dtype=np.uint8)\n",
    "\n",
    "\n",
    "        for class_indice, (encoded_pixel_str, class_id) in enumerate(zip(encoded_pixels, class_ids)):\n",
    "            splitted_pixels = np.array(list(map(int, encoded_pixel_str.split()))).reshape(-1, 2)\n",
    "\n",
    "            for start_indice, run_length in splitted_pixels:\n",
    "                start_indice -= 1\n",
    "                mask[class_id][start_indice:start_indice + run_length] = 255\n",
    "\n",
    "        return mask.reshape((self.config.NO_OF_CLASSES, height, width), order='F')\n",
    "\n",
    "\n",
    "    def get_mask(self, image_id):\n",
    "        query = self.training_data_frame[self.training_data_frame.ImageId==image_id]\n",
    "        encoded_pixels = query.EncodedPixels\n",
    "        class_ids = query.ClassId\n",
    "        height, width = query.Height[0], query.Width[0]\n",
    "        mask = np.zeros((self.config.NO_OF_CLASSES, self.config.IMAGE_SIZE,self.config.IMAGE_SIZE), dtype=np.uint8)\n",
    "\n",
    "        for class_indice, (encoded_pixel_str, class_id) in enumerate(zip(encoded_pixels, class_ids)):\n",
    "            sub_mask = np.zeros((height*width))\n",
    "            splitted_pixels = np.array(list(map(int, encoded_pixel_str.split()))).reshape(-1, 2)\n",
    "\n",
    "            for start_indice, run_length in splitted_pixels:\n",
    "                start_indice -= 1\n",
    "                sub_mask[start_indice:start_indice + run_length] = 255\n",
    "            sub_mask = sub_mask.reshape((height, width), order='F')\n",
    "            sub_mask = cv2.resize(sub_mask, (self.config.IMAGE_SIZE, self.config.IMAGE_SIZE), interpolation=cv2.INTER_NEAREST)\n",
    "            #sub_mask = scipy.misc.imresize(sub_mask, (self.config.IMAGE_SIZE, self.config.IMAGE_SIZE), interp='nearest')\n",
    "            mask[class_id,:,:] = sub_mask \n",
    "\n",
    "        return mask\n",
    "                    \n",
    "            \n",
    "    def make_batch()\n",
    "        "
   ]
  },
  {
   "cell_type": "code",
   "execution_count": 361,
   "metadata": {
    "ExecuteTime": {
     "end_time": "2020-05-01T07:47:13.534915Z",
     "start_time": "2020-05-01T07:46:47.866593Z"
    }
   },
   "outputs": [],
   "source": [
    "d = Dataset(Config())"
   ]
  },
  {
   "cell_type": "code",
   "execution_count": 362,
   "metadata": {
    "ExecuteTime": {
     "end_time": "2020-05-01T07:47:22.118683Z",
     "start_time": "2020-05-01T07:47:21.453893Z"
    }
   },
   "outputs": [],
   "source": [
    "t_ = d.get_image('00000663ed1ff0c4e0132b9b9ac53f6e', resize=False)"
   ]
  },
  {
   "cell_type": "code",
   "execution_count": 363,
   "metadata": {
    "ExecuteTime": {
     "end_time": "2020-05-01T07:47:23.678126Z",
     "start_time": "2020-05-01T07:47:22.999341Z"
    }
   },
   "outputs": [],
   "source": [
    "t_ = d.get_image('00000663ed1ff0c4e0132b9b9ac53f6e', resize=True)"
   ]
  },
  {
   "cell_type": "code",
   "execution_count": 365,
   "metadata": {
    "ExecuteTime": {
     "end_time": "2020-05-01T07:48:17.680416Z",
     "start_time": "2020-05-01T07:48:10.810623Z"
    }
   },
   "outputs": [],
   "source": [
    "t = d.get_mask('00000663ed1ff0c4e0132b9b9ac53f6e')"
   ]
  },
  {
   "cell_type": "code",
   "execution_count": 338,
   "metadata": {
    "ExecuteTime": {
     "end_time": "2020-05-01T07:29:27.483171Z",
     "start_time": "2020-05-01T07:29:17.595997Z"
    }
   },
   "outputs": [
    {
     "ename": "error",
     "evalue": "OpenCV(4.2.0) C:\\projects\\opencv-python\\opencv\\modules\\imgproc\\src\\resize.cpp:3688: error: (-215:Assertion failed) !dsize.empty() in function 'cv::hal::resize'\n",
     "output_type": "error",
     "traceback": [
      "\u001b[1;31m---------------------------------------------------------------------------\u001b[0m",
      "\u001b[1;31merror\u001b[0m                                     Traceback (most recent call last)",
      "\u001b[1;32m<ipython-input-338-a8d21a1be686>\u001b[0m in \u001b[0;36m<module>\u001b[1;34m\u001b[0m\n\u001b[0;32m      1\u001b[0m \u001b[0mt\u001b[0m \u001b[1;33m=\u001b[0m \u001b[0md\u001b[0m\u001b[1;33m.\u001b[0m\u001b[0mget_org_mask\u001b[0m\u001b[1;33m(\u001b[0m\u001b[1;34m'00000663ed1ff0c4e0132b9b9ac53f6e'\u001b[0m\u001b[1;33m)\u001b[0m\u001b[1;33m\u001b[0m\u001b[1;33m\u001b[0m\u001b[0m\n\u001b[1;32m----> 2\u001b[1;33m \u001b[0mt\u001b[0m \u001b[1;33m=\u001b[0m \u001b[0mcv2\u001b[0m\u001b[1;33m.\u001b[0m\u001b[0mresize\u001b[0m\u001b[1;33m(\u001b[0m\u001b[0mt\u001b[0m\u001b[1;33m,\u001b[0m \u001b[1;33m(\u001b[0m\u001b[1;36m256\u001b[0m\u001b[1;33m,\u001b[0m \u001b[1;36m256\u001b[0m\u001b[1;33m)\u001b[0m\u001b[1;33m,\u001b[0m \u001b[0minterpolation\u001b[0m\u001b[1;33m=\u001b[0m\u001b[0mcv2\u001b[0m\u001b[1;33m.\u001b[0m\u001b[0mINTER_NEAREST\u001b[0m\u001b[1;33m)\u001b[0m\u001b[1;33m\u001b[0m\u001b[1;33m\u001b[0m\u001b[0m\n\u001b[0m",
      "\u001b[1;31merror\u001b[0m: OpenCV(4.2.0) C:\\projects\\opencv-python\\opencv\\modules\\imgproc\\src\\resize.cpp:3688: error: (-215:Assertion failed) !dsize.empty() in function 'cv::hal::resize'\n"
     ]
    }
   ],
   "source": [
    "t = d.get_org_mask('00000663ed1ff0c4e0132b9b9ac53f6e')\n",
    "t = cv2.resize(t, (256, 256), interpolation=cv2.INTER_NEAREST)"
   ]
  },
  {
   "cell_type": "code",
   "execution_count": 3,
   "metadata": {
    "ExecuteTime": {
     "end_time": "2020-04-30T20:53:18.243597Z",
     "start_time": "2020-04-30T20:52:58.172868Z"
    }
   },
   "outputs": [],
   "source": [
    "train_df = pd.read_csv(data_path+'/train.csv')"
   ]
  },
  {
   "cell_type": "code",
   "execution_count": 46,
   "metadata": {
    "ExecuteTime": {
     "end_time": "2020-04-30T23:35:36.099013Z",
     "start_time": "2020-04-30T23:35:35.783756Z"
    }
   },
   "outputs": [
    {
     "name": "stdout",
     "output_type": "stream",
     "text": [
      "<class 'pandas.core.frame.DataFrame'>\n",
      "RangeIndex: 333401 entries, 0 to 333400\n",
      "Data columns (total 6 columns):\n",
      "ImageId          333401 non-null object\n",
      "EncodedPixels    333401 non-null object\n",
      "Height           333401 non-null int64\n",
      "Width            333401 non-null int64\n",
      "ClassId          333401 non-null int64\n",
      "AttributesIds    206410 non-null object\n",
      "dtypes: int64(3), object(3)\n",
      "memory usage: 15.3+ MB\n"
     ]
    }
   ],
   "source": [
    "train_df.info()"
   ]
  },
  {
   "cell_type": "code",
   "execution_count": 368,
   "metadata": {
    "ExecuteTime": {
     "end_time": "2020-05-01T07:55:57.292426Z",
     "start_time": "2020-05-01T07:55:57.143473Z"
    }
   },
   "outputs": [
    {
     "data": {
      "text/plain": [
       "45623"
      ]
     },
     "execution_count": 368,
     "metadata": {},
     "output_type": "execute_result"
    }
   ],
   "source": [
    "train_df.ImageId.nunique()"
   ]
  },
  {
   "cell_type": "code",
   "execution_count": 22,
   "metadata": {
    "ExecuteTime": {
     "end_time": "2020-04-30T21:11:13.611553Z",
     "start_time": "2020-04-30T21:11:13.579568Z"
    }
   },
   "outputs": [
    {
     "data": {
      "text/plain": [
       "0      6161\n",
       "1     16548\n",
       "2      1494\n",
       "3      1107\n",
       "4      7833\n",
       "5       719\n",
       "6     12414\n",
       "7      2756\n",
       "8      5046\n",
       "9      3124\n",
       "10    18739\n",
       "11      922\n",
       "12      152\n",
       "13     4855\n",
       "14     2518\n",
       "15     3470\n",
       "16     1457\n",
       "17     1385\n",
       "18     3389\n",
       "19     6851\n",
       "20      112\n",
       "21     4326\n",
       "22     2582\n",
       "23    46374\n",
       "24     7217\n",
       "25     1374\n",
       "26      135\n",
       "27     1226\n",
       "28    10159\n",
       "29     5972\n",
       "30      874\n",
       "31    59448\n",
       "32    27179\n",
       "33    34258\n",
       "34     3300\n",
       "35     7991\n",
       "36     3529\n",
       "37     5084\n",
       "38      528\n",
       "39     1367\n",
       "40      588\n",
       "41      274\n",
       "42     4893\n",
       "43     2407\n",
       "44      929\n",
       "45      335\n",
       "Name: ClassId, dtype: int64"
      ]
     },
     "execution_count": 22,
     "metadata": {},
     "output_type": "execute_result"
    }
   ],
   "source": [
    "train_df['ClassId'].value_counts().sort_index()"
   ]
  },
  {
   "cell_type": "code",
   "execution_count": 67,
   "metadata": {
    "ExecuteTime": {
     "end_time": "2020-04-30T23:48:23.332101Z",
     "start_time": "2020-04-30T23:48:14.820010Z"
    }
   },
   "outputs": [],
   "source": [
    "for i in range(100):\n",
    "    a = create_mask('00000663ed1ff0c4e0132b9b9ac53f6e', train_df)"
   ]
  },
  {
   "cell_type": "code",
   "execution_count": 23,
   "metadata": {
    "ExecuteTime": {
     "end_time": "2020-04-30T22:39:10.501636Z",
     "start_time": "2020-04-30T22:39:10.331391Z"
    }
   },
   "outputs": [],
   "source": [
    "encoded_pixels = train_df[train_df['ImageId']=='00000663ed1ff0c4e0132b9b9ac53f6e']['EncodedPixels']\n",
    "class_ids = train_df[train_df['ImageId']=='00000663ed1ff0c4e0132b9b9ac53f6e']['ClassId']"
   ]
  },
  {
   "cell_type": "code",
   "execution_count": 46,
   "metadata": {
    "ExecuteTime": {
     "end_time": "2020-04-30T04:51:09.673585Z",
     "start_time": "2020-04-30T04:51:09.648593Z"
    }
   },
   "outputs": [],
   "source": [
    "for indice, (encoded_pixel_str, class_id) in enumerate(zip(encoded_pixels, class_ids)):\n",
    "    splitted_pixels = list(map(int, encoded_pixel_str.split()))\n",
    "    pixel_starts = splitted_pixels[::2]"
   ]
  },
  {
   "cell_type": "code",
   "execution_count": 107,
   "metadata": {
    "ExecuteTime": {
     "end_time": "2020-05-01T03:12:45.693654Z",
     "start_time": "2020-05-01T03:12:45.673661Z"
    }
   },
   "outputs": [],
   "source": []
  },
  {
   "cell_type": "code",
   "execution_count": 113,
   "metadata": {
    "ExecuteTime": {
     "end_time": "2020-05-01T03:13:59.496402Z",
     "start_time": "2020-05-01T03:13:59.188502Z"
    }
   },
   "outputs": [],
   "source": [
    "a= create_mask('00000663ed1ff0c4e0132b9b9ac53f6e', train_df, 46)"
   ]
  },
  {
   "cell_type": "code",
   "execution_count": 121,
   "metadata": {
    "ExecuteTime": {
     "end_time": "2020-05-01T03:16:05.674512Z",
     "start_time": "2020-05-01T03:16:05.662517Z"
    }
   },
   "outputs": [
    {
     "data": {
      "text/plain": [
       "(5214, 3676, 46)"
      ]
     },
     "execution_count": 121,
     "metadata": {},
     "output_type": "execute_result"
    }
   ],
   "source": [
    "b = np.moveaxis(a, 0, 2)\n",
    "b.shape"
   ]
  },
  {
   "cell_type": "code",
   "execution_count": 120,
   "metadata": {
    "ExecuteTime": {
     "end_time": "2020-05-01T03:15:50.173754Z",
     "start_time": "2020-05-01T03:15:50.162757Z"
    }
   },
   "outputs": [
    {
     "data": {
      "text/plain": [
       "(46, 5214, 3676)"
      ]
     },
     "execution_count": 120,
     "metadata": {},
     "output_type": "execute_result"
    }
   ],
   "source": [
    "a.shape"
   ]
  },
  {
   "cell_type": "code",
   "execution_count": 122,
   "metadata": {
    "ExecuteTime": {
     "end_time": "2020-05-01T03:16:20.362049Z",
     "start_time": "2020-05-01T03:16:18.029804Z"
    }
   },
   "outputs": [
    {
     "data": {
      "text/plain": [
       "<matplotlib.image.AxesImage at 0x1ee031fd108>"
      ]
     },
     "execution_count": 122,
     "metadata": {},
     "output_type": "execute_result"
    },
    {
     "data": {
      "image/png": "[encoded data removed]",
      "text/plain": [
       "<Figure size 432x288 with 1 Axes>"
      ]
     },
     "metadata": {
      "needs_background": "light"
     },
     "output_type": "display_data"
    }
   ],
   "source": [
    "plt.imshow(b[:,:,0])"
   ]
  },
  {
   "cell_type": "code",
   "execution_count": 91,
   "metadata": {
    "ExecuteTime": {
     "end_time": "2020-05-01T01:19:51.980955Z",
     "start_time": "2020-05-01T01:19:51.945947Z"
    }
   },
   "outputs": [],
   "source": [
    "b = np.array(a[0])\n",
    "b.resize((256, 256))"
   ]
  },
  {
   "cell_type": "code",
   "execution_count": 93,
   "metadata": {
    "ExecuteTime": {
     "end_time": "2020-05-01T01:20:04.988139Z",
     "start_time": "2020-05-01T01:20:04.433962Z"
    }
   },
   "outputs": [
    {
     "data": {
      "text/plain": [
       "<matplotlib.image.AxesImage at 0x1eded6d30c8>"
      ]
     },
     "execution_count": 93,
     "metadata": {},
     "output_type": "execute_result"
    },
    {
     "data": {
      "image/png": "[encoded data removed]",
      "text/plain": [
       "<Figure size 432x288 with 1 Axes>"
      ]
     },
     "metadata": {
      "needs_background": "light"
     },
     "output_type": "display_data"
    }
   ],
   "source": [
    "plt.imshow(b)"
   ]
  },
  {
   "cell_type": "code",
   "execution_count": 94,
   "metadata": {
    "ExecuteTime": {
     "end_time": "2020-05-01T01:20:16.613933Z",
     "start_time": "2020-05-01T01:20:14.057550Z"
    }
   },
   "outputs": [
    {
     "data": {
      "text/plain": [
       "<matplotlib.image.AxesImage at 0x1eded674588>"
      ]
     },
     "execution_count": 94,
     "metadata": {},
     "output_type": "execute_result"
    },
    {
     "data": {
      "image/png": "[encoded data removed]",
      "text/plain": [
       "<Figure size 432x288 with 1 Axes>"
      ]
     },
     "metadata": {
      "needs_background": "light"
     },
     "output_type": "display_data"
    }
   ],
   "source": [
    "plt.imshow(a[0])"
   ]
  },
  {
   "cell_type": "code",
   "execution_count": 97,
   "metadata": {
    "ExecuteTime": {
     "end_time": "2020-05-01T03:08:51.498374Z",
     "start_time": "2020-05-01T03:08:50.835587Z"
    }
   },
   "outputs": [],
   "source": [
    "img = mpimg.imread(data_path+'/train/'+'00000663ed1ff0c4e0132b9b9ac53f6e.jpg')"
   ]
  },
  {
   "cell_type": "code",
   "execution_count": 98,
   "metadata": {
    "ExecuteTime": {
     "end_time": "2020-05-01T03:09:03.070470Z",
     "start_time": "2020-05-01T03:08:57.547244Z"
    }
   },
   "outputs": [
    {
     "data": {
      "text/plain": [
       "<matplotlib.image.AxesImage at 0x1eded53ab88>"
      ]
     },
     "execution_count": 98,
     "metadata": {},
     "output_type": "execute_result"
    },
    {
     "data": {
      "image/png": "[encoded data removed]",
      "text/plain": [
       "<Figure size 432x288 with 1 Axes>"
      ]
     },
     "metadata": {
      "needs_background": "light"
     },
     "output_type": "display_data"
    }
   ],
   "source": [
    "plt.imshow(img)"
   ]
  },
  {
   "cell_type": "code",
   "execution_count": 100,
   "metadata": {
    "ExecuteTime": {
     "end_time": "2020-05-01T03:10:08.939327Z",
     "start_time": "2020-05-01T03:09:50.602207Z"
    }
   },
   "outputs": [],
   "source": [
    "from skimage.transform import rescale, resize, downscale_local_mean\n"
   ]
  }
 ],
 "metadata": {
  "kernelspec": {
   "display_name": "Python 3",
   "language": "python",
   "name": "python3"
  },
  "language_info": {
   "codemirror_mode": {
    "name": "ipython",
    "version": 3
   },
   "file_extension": ".py",
   "mimetype": "text/x-python",
   "name": "python",
   "nbconvert_exporter": "python",
   "pygments_lexer": "ipython3",
   "version": "3.7.4"
  },
  "toc": {
   "base_numbering": 1,
   "nav_menu": {},
   "number_sections": true,
   "sideBar": true,
   "skip_h1_title": false,
   "title_cell": "Table of Contents",
   "title_sidebar": "Contents",
   "toc_cell": false,
   "toc_position": {},
   "toc_section_display": true,
   "toc_window_display": false
  },
  "varInspector": {
   "cols": {
    "lenName": 16,
    "lenType": 16,
    "lenVar": 40
   },
   "kernels_config": {
    "python": {
     "delete_cmd_postfix": "",
     "delete_cmd_prefix": "del ",
     "library": "var_list.py",
     "varRefreshCmd": "print(var_dic_list())"
    },
    "r": {
     "delete_cmd_postfix": ") ",
     "delete_cmd_prefix": "rm(",
     "library": "var_list.r",
     "varRefreshCmd": "cat(var_dic_list()) "
    }
   },
   "types_to_exclude": [
    "module",
    "function",
    "builtin_function_or_method",
    "instance",
    "_Feature"
   ],
   "window_display": false
  }
 },
 "nbformat": 4,
 "nbformat_minor": 2
}
