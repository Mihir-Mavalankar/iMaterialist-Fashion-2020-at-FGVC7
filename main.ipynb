{
 "cells": [
  {
   "cell_type": "code",
   "execution_count": 3,
   "metadata": {
    "ExecuteTime": {
     "end_time": "2020-05-01T22:52:58.001366Z",
     "start_time": "2020-05-01T22:52:56.146949Z"
    }
   },
   "outputs": [],
   "source": [
    "import config\n",
    "import dataloader\n",
    "\n",
    "import pandas as pd"
   ]
  },
  {
   "cell_type": "code",
   "execution_count": 5,
   "metadata": {
    "ExecuteTime": {
     "end_time": "2020-05-01T22:54:28.239740Z",
     "start_time": "2020-05-01T22:53:51.945304Z"
    }
   },
   "outputs": [],
   "source": [
    "\n",
    "c = config.Config()\n",
    "train_df = pd.read_csv(c.DATA_PATH+'/train.csv')"
   ]
  },
  {
   "cell_type": "code",
   "execution_count": 6,
   "metadata": {
    "ExecuteTime": {
     "end_time": "2020-05-01T22:54:32.698649Z",
     "start_time": "2020-05-01T22:54:32.585689Z"
    }
   },
   "outputs": [],
   "source": [
    "d = dataloader.Dataset(c, train_df)"
   ]
  },
  {
   "cell_type": "code",
   "execution_count": 8,
   "metadata": {
    "ExecuteTime": {
     "end_time": "2020-05-01T22:55:14.772866Z",
     "start_time": "2020-05-01T22:55:10.057613Z"
    }
   },
   "outputs": [
    {
     "name": "stdout",
     "output_type": "stream",
     "text": [
      "['217a3f82eddc3c2b5e8163baac78c6d5' 'ecb43b14c86bc8aa394d028c0f4a8ff4'\n",
      " '565d2031ea14228235c10de9cef8578d' 'd476303ff53356238a1452cca0ed2419'\n",
      " '7951541b77c37b5fb1b7c8b2155e1251' '12772b7b70cc37b05b2b2c67b7e96f20'\n",
      " 'd1a94ba85bf1b0cc915348db656a7017' 'fc1cad584430981822507562677fabf4']\n"
     ]
    }
   ],
   "source": [
    "a,b,c = d.get_next_batch()"
   ]
  },
  {
   "cell_type": "code",
   "execution_count": null,
   "metadata": {},
   "outputs": [],
   "source": []
  }
 ],
 "metadata": {
  "kernelspec": {
   "display_name": "Python 3",
   "language": "python",
   "name": "python3"
  },
  "language_info": {
   "codemirror_mode": {
    "name": "ipython",
    "version": 3
   },
   "file_extension": ".py",
   "mimetype": "text/x-python",
   "name": "python",
   "nbconvert_exporter": "python",
   "pygments_lexer": "ipython3",
   "version": "3.7.4"
  },
  "toc": {
   "base_numbering": 1,
   "nav_menu": {},
   "number_sections": true,
   "sideBar": true,
   "skip_h1_title": false,
   "title_cell": "Table of Contents",
   "title_sidebar": "Contents",
   "toc_cell": false,
   "toc_position": {},
   "toc_section_display": true,
   "toc_window_display": false
  },
  "varInspector": {
   "cols": {
    "lenName": 16,
    "lenType": 16,
    "lenVar": 40
   },
   "kernels_config": {
    "python": {
     "delete_cmd_postfix": "",
     "delete_cmd_prefix": "del ",
     "library": "var_list.py",
     "varRefreshCmd": "print(var_dic_list())"
    },
    "r": {
     "delete_cmd_postfix": ") ",
     "delete_cmd_prefix": "rm(",
     "library": "var_list.r",
     "varRefreshCmd": "cat(var_dic_list()) "
    }
   },
   "types_to_exclude": [
    "module",
    "function",
    "builtin_function_or_method",
    "instance",
    "_Feature"
   ],
   "window_display": false
  }
 },
 "nbformat": 4,
 "nbformat_minor": 2
}
