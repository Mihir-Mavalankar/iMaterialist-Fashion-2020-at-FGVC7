{
 "cells": [
  {
   "cell_type": "code",
   "execution_count": 41,
   "metadata": {
    "ExecuteTime": {
     "end_time": "2020-05-01T21:04:33.898704Z",
     "start_time": "2020-05-01T21:04:33.886703Z"
    }
   },
   "outputs": [],
   "source": [
    "import pandas as pd\n",
    "import numpy as np\n",
    "import json\n",
    "import os\n",
    "from multiprocessing import Pool\n",
    "from tqdm.notebook import tqdm\n",
    "import gc\n",
    "import pickle\n",
    "import joblib\n",
    "import cv2\n",
    "#import bz2\n",
    "from PIL import Image\n",
    "import matplotlib.pyplot as plt\n",
    "import matplotlib.image as mpimg\n",
    "#import config\n"
   ]
  },
  {
   "cell_type": "code",
   "execution_count": 104,
   "metadata": {
    "ExecuteTime": {
     "end_time": "2020-05-01T22:01:18.608095Z",
     "start_time": "2020-05-01T22:01:18.598098Z"
    }
   },
   "outputs": [],
   "source": [
    "class Config(object):\n",
    "    DATA_PATH = 'data/imaterialist-fashion-2020-fgvc7'\n",
    "    IMAGE_SIZE = 256\n",
    "    NO_OF_CLASSES = 46\n",
    "    BATCH_SIZE = 8\n",
    "    OUTPUT_MASK_SIZE=256\n",
    "    RESIZE=True\n",
    "    \n",
    "        "
   ]
  },
  {
   "cell_type": "code",
   "execution_count": 143,
   "metadata": {
    "ExecuteTime": {
     "end_time": "2020-05-01T22:12:19.109132Z",
     "start_time": "2020-05-01T22:12:19.045153Z"
    }
   },
   "outputs": [],
   "source": [
    "class Dataset():\n",
    "    def __init__ (self, config, df, random_seed=0):\n",
    "        self.CONFIG = config\n",
    "        self.TRAINING_DATA_PATH = self.CONFIG.DATA_PATH + '/train/'\n",
    "        self.TRAINING_DATA_FRAME = df\n",
    "        self.DATASET_IDXS = self.TRAINING_DATA_FRAME.ImageId.unique()\n",
    "        self.DATASET_SIZE = self.DATASET_IDXS.shape[0]\n",
    "        \n",
    "        np.random.seed(random_seed)\n",
    "        np.random.shuffle(self.DATASET_IDXS)\n",
    "        self.CURRENT_IDX=0\n",
    "        \n",
    "    def get_image(self, image_id, resize=True):\n",
    "        img = cv2.cvtColor( cv2.imread(self.TRAINING_DATA_PATH+image_id+'.jpg'), cv2.COLOR_BGR2RGB)\n",
    "        if resize:\n",
    "            return cv2.resize(img, \n",
    "                              (self.CONFIG.IMAGE_SIZE, self.CONFIG.IMAGE_SIZE), \n",
    "                              interpolation = cv2.INTER_NEAREST)\n",
    "        else:\n",
    "            return img\n",
    "        \n",
    "    def make_single_mask(self, encoded_string, height, width):\n",
    "        splitted_string = np.array(list(map(int, encoded_string.split()))).reshape(-1,2)\n",
    "        mask = np.zeros((height*width), dtype=np.uint8)\n",
    "        for start_indice, run_length in splitted_string:\n",
    "            start_indice-=1\n",
    "            mask[start_indice:start_indice+run_length] = 1\n",
    "        return mask.reshape((height, width), order='F')\n",
    "    \n",
    "    def get_mask(self, image_id, resize=True):\n",
    "        query = self.TRAINING_DATA_FRAME[self.TRAINING_DATA_FRAME.ImageId==image_id]\n",
    "        encoded_pixels = query.EncodedPixels\n",
    "        class_ids = query.ClassId\n",
    "        height, width = list(query.Height)[0], list(query.Width)[0]\n",
    "        \n",
    "        if resize:\n",
    "            mask = np.zeros((self.CONFIG.OUTPUT_MASK_SIZE, self.CONFIG.OUTPUT_MASK_SIZE, self.CONFIG.NO_OF_CLASSES), \n",
    "                            dtype=np.uint8)\n",
    "        else:\n",
    "            mask = np.zeros((height, width, self.CONFIG.NO_OF_CLASSES), \n",
    "                            dtype=np.uint8)\n",
    "            \n",
    "        for _, (encoded_pixel_str, class_id) in enumerate(zip(encoded_pixels, class_ids)):\n",
    "            sub_mask = self.make_single_mask(encoded_pixel_str, height, width)\n",
    "            if resize:\n",
    "                sub_mask = cv2.resize(sub_mask, \n",
    "                                      (self.CONFIG.OUTPUT_MASK_SIZE, self.CONFIG.OUTPUT_MASK_SIZE), \n",
    "                                      interpolation=cv2.INTER_NEAREST)\n",
    "            mask[:,:,class_id] = sub_mask\n",
    "        return mask                    \n",
    "    \n",
    "    def sample_next_batch(self):\n",
    "        next_idx = self.CURRENT_IDX+self.CONFIG.BATCH_SIZE\n",
    "        if next_idx>self.DATASET_SIZE-1:\n",
    "            next_idx = self.CONFIG.BATCH_SIZE-(self.DATASET_SIZE-self.CURRENT_IDX)\n",
    "            batch_idxs = np.concatenate((self.DATASET_IDXS[self.CURRENT_IDX:], \n",
    "                                        self.DATASET_IDXS[:next_idx]))\n",
    "            self.CURRENT_IDX = next_idx\n",
    "            return batch_idxs, True\n",
    "        else:\n",
    "            batch_idxs = self.DATASET_IDXS[self.CURRENT_IDX:next_idx]\n",
    "            self.CURRENT_IDX = next_idx\n",
    "            return batch_idxs, False\n",
    "    \n",
    "    def get_next_batch(self, resize=True):\n",
    "        batch_idxs, epoch_finish = self.sample_next_batch()\n",
    "        print(batch_idxs)\n",
    "        train_item, test_item = [], []\n",
    "        for image_id in batch_idxs:\n",
    "            train_item.append(self.get_image(image_id, resize=resize))\n",
    "            test_item.append(self.get_mask(image_id, resize=resize))\n",
    "        return np.array(train_item), np.array(test_item), epoch_finish\n",
    "            \n",
    "        \n",
    "        "
   ]
  },
  {
   "cell_type": "markdown",
   "metadata": {},
   "source": [
    "# Model"
   ]
  },
  {
   "cell_type": "code",
   "execution_count": 153,
   "metadata": {
    "ExecuteTime": {
     "end_time": "2020-05-01T23:15:39.665816Z",
     "start_time": "2020-05-01T23:15:32.125230Z"
    }
   },
   "outputs": [],
   "source": [
    "import torchvision"
   ]
  },
  {
   "cell_type": "code",
   "execution_count": 156,
   "metadata": {
    "ExecuteTime": {
     "end_time": "2020-05-01T23:18:04.608661Z",
     "start_time": "2020-05-01T23:18:02.449993Z"
    },
    "scrolled": false
   },
   "outputs": [
    {
     "data": {
      "text/plain": [
       "MaskRCNN(\n",
       "  (transform): GeneralizedRCNNTransform(\n",
       "      Normalize(mean=[0.485, 0.456, 0.406], std=[0.229, 0.224, 0.225])\n",
       "      Resize(min_size=(800,), max_size=1333, mode='bilinear')\n",
       "  )\n",
       "  (backbone): BackboneWithFPN(\n",
       "    (body): IntermediateLayerGetter(\n",
       "      (conv1): Conv2d(3, 64, kernel_size=(7, 7), stride=(2, 2), padding=(3, 3), bias=False)\n",
       "      (bn1): FrozenBatchNorm2d()\n",
       "      (relu): ReLU(inplace=True)\n",
       "      (maxpool): MaxPool2d(kernel_size=3, stride=2, padding=1, dilation=1, ceil_mode=False)\n",
       "      (layer1): Sequential(\n",
       "        (0): Bottleneck(\n",
       "          (conv1): Conv2d(64, 64, kernel_size=(1, 1), stride=(1, 1), bias=False)\n",
       "          (bn1): FrozenBatchNorm2d()\n",
       "          (conv2): Conv2d(64, 64, kernel_size=(3, 3), stride=(1, 1), padding=(1, 1), bias=False)\n",
       "          (bn2): FrozenBatchNorm2d()\n",
       "          (conv3): Conv2d(64, 256, kernel_size=(1, 1), stride=(1, 1), bias=False)\n",
       "          (bn3): FrozenBatchNorm2d()\n",
       "          (relu): ReLU(inplace=True)\n",
       "          (downsample): Sequential(\n",
       "            (0): Conv2d(64, 256, kernel_size=(1, 1), stride=(1, 1), bias=False)\n",
       "            (1): FrozenBatchNorm2d()\n",
       "          )\n",
       "        )\n",
       "        (1): Bottleneck(\n",
       "          (conv1): Conv2d(256, 64, kernel_size=(1, 1), stride=(1, 1), bias=False)\n",
       "          (bn1): FrozenBatchNorm2d()\n",
       "          (conv2): Conv2d(64, 64, kernel_size=(3, 3), stride=(1, 1), padding=(1, 1), bias=False)\n",
       "          (bn2): FrozenBatchNorm2d()\n",
       "          (conv3): Conv2d(64, 256, kernel_size=(1, 1), stride=(1, 1), bias=False)\n",
       "          (bn3): FrozenBatchNorm2d()\n",
       "          (relu): ReLU(inplace=True)\n",
       "        )\n",
       "        (2): Bottleneck(\n",
       "          (conv1): Conv2d(256, 64, kernel_size=(1, 1), stride=(1, 1), bias=False)\n",
       "          (bn1): FrozenBatchNorm2d()\n",
       "          (conv2): Conv2d(64, 64, kernel_size=(3, 3), stride=(1, 1), padding=(1, 1), bias=False)\n",
       "          (bn2): FrozenBatchNorm2d()\n",
       "          (conv3): Conv2d(64, 256, kernel_size=(1, 1), stride=(1, 1), bias=False)\n",
       "          (bn3): FrozenBatchNorm2d()\n",
       "          (relu): ReLU(inplace=True)\n",
       "        )\n",
       "      )\n",
       "      (layer2): Sequential(\n",
       "        (0): Bottleneck(\n",
       "          (conv1): Conv2d(256, 128, kernel_size=(1, 1), stride=(1, 1), bias=False)\n",
       "          (bn1): FrozenBatchNorm2d()\n",
       "          (conv2): Conv2d(128, 128, kernel_size=(3, 3), stride=(2, 2), padding=(1, 1), bias=False)\n",
       "          (bn2): FrozenBatchNorm2d()\n",
       "          (conv3): Conv2d(128, 512, kernel_size=(1, 1), stride=(1, 1), bias=False)\n",
       "          (bn3): FrozenBatchNorm2d()\n",
       "          (relu): ReLU(inplace=True)\n",
       "          (downsample): Sequential(\n",
       "            (0): Conv2d(256, 512, kernel_size=(1, 1), stride=(2, 2), bias=False)\n",
       "            (1): FrozenBatchNorm2d()\n",
       "          )\n",
       "        )\n",
       "        (1): Bottleneck(\n",
       "          (conv1): Conv2d(512, 128, kernel_size=(1, 1), stride=(1, 1), bias=False)\n",
       "          (bn1): FrozenBatchNorm2d()\n",
       "          (conv2): Conv2d(128, 128, kernel_size=(3, 3), stride=(1, 1), padding=(1, 1), bias=False)\n",
       "          (bn2): FrozenBatchNorm2d()\n",
       "          (conv3): Conv2d(128, 512, kernel_size=(1, 1), stride=(1, 1), bias=False)\n",
       "          (bn3): FrozenBatchNorm2d()\n",
       "          (relu): ReLU(inplace=True)\n",
       "        )\n",
       "        (2): Bottleneck(\n",
       "          (conv1): Conv2d(512, 128, kernel_size=(1, 1), stride=(1, 1), bias=False)\n",
       "          (bn1): FrozenBatchNorm2d()\n",
       "          (conv2): Conv2d(128, 128, kernel_size=(3, 3), stride=(1, 1), padding=(1, 1), bias=False)\n",
       "          (bn2): FrozenBatchNorm2d()\n",
       "          (conv3): Conv2d(128, 512, kernel_size=(1, 1), stride=(1, 1), bias=False)\n",
       "          (bn3): FrozenBatchNorm2d()\n",
       "          (relu): ReLU(inplace=True)\n",
       "        )\n",
       "        (3): Bottleneck(\n",
       "          (conv1): Conv2d(512, 128, kernel_size=(1, 1), stride=(1, 1), bias=False)\n",
       "          (bn1): FrozenBatchNorm2d()\n",
       "          (conv2): Conv2d(128, 128, kernel_size=(3, 3), stride=(1, 1), padding=(1, 1), bias=False)\n",
       "          (bn2): FrozenBatchNorm2d()\n",
       "          (conv3): Conv2d(128, 512, kernel_size=(1, 1), stride=(1, 1), bias=False)\n",
       "          (bn3): FrozenBatchNorm2d()\n",
       "          (relu): ReLU(inplace=True)\n",
       "        )\n",
       "      )\n",
       "      (layer3): Sequential(\n",
       "        (0): Bottleneck(\n",
       "          (conv1): Conv2d(512, 256, kernel_size=(1, 1), stride=(1, 1), bias=False)\n",
       "          (bn1): FrozenBatchNorm2d()\n",
       "          (conv2): Conv2d(256, 256, kernel_size=(3, 3), stride=(2, 2), padding=(1, 1), bias=False)\n",
       "          (bn2): FrozenBatchNorm2d()\n",
       "          (conv3): Conv2d(256, 1024, kernel_size=(1, 1), stride=(1, 1), bias=False)\n",
       "          (bn3): FrozenBatchNorm2d()\n",
       "          (relu): ReLU(inplace=True)\n",
       "          (downsample): Sequential(\n",
       "            (0): Conv2d(512, 1024, kernel_size=(1, 1), stride=(2, 2), bias=False)\n",
       "            (1): FrozenBatchNorm2d()\n",
       "          )\n",
       "        )\n",
       "        (1): Bottleneck(\n",
       "          (conv1): Conv2d(1024, 256, kernel_size=(1, 1), stride=(1, 1), bias=False)\n",
       "          (bn1): FrozenBatchNorm2d()\n",
       "          (conv2): Conv2d(256, 256, kernel_size=(3, 3), stride=(1, 1), padding=(1, 1), bias=False)\n",
       "          (bn2): FrozenBatchNorm2d()\n",
       "          (conv3): Conv2d(256, 1024, kernel_size=(1, 1), stride=(1, 1), bias=False)\n",
       "          (bn3): FrozenBatchNorm2d()\n",
       "          (relu): ReLU(inplace=True)\n",
       "        )\n",
       "        (2): Bottleneck(\n",
       "          (conv1): Conv2d(1024, 256, kernel_size=(1, 1), stride=(1, 1), bias=False)\n",
       "          (bn1): FrozenBatchNorm2d()\n",
       "          (conv2): Conv2d(256, 256, kernel_size=(3, 3), stride=(1, 1), padding=(1, 1), bias=False)\n",
       "          (bn2): FrozenBatchNorm2d()\n",
       "          (conv3): Conv2d(256, 1024, kernel_size=(1, 1), stride=(1, 1), bias=False)\n",
       "          (bn3): FrozenBatchNorm2d()\n",
       "          (relu): ReLU(inplace=True)\n",
       "        )\n",
       "        (3): Bottleneck(\n",
       "          (conv1): Conv2d(1024, 256, kernel_size=(1, 1), stride=(1, 1), bias=False)\n",
       "          (bn1): FrozenBatchNorm2d()\n",
       "          (conv2): Conv2d(256, 256, kernel_size=(3, 3), stride=(1, 1), padding=(1, 1), bias=False)\n",
       "          (bn2): FrozenBatchNorm2d()\n",
       "          (conv3): Conv2d(256, 1024, kernel_size=(1, 1), stride=(1, 1), bias=False)\n",
       "          (bn3): FrozenBatchNorm2d()\n",
       "          (relu): ReLU(inplace=True)\n",
       "        )\n",
       "        (4): Bottleneck(\n",
       "          (conv1): Conv2d(1024, 256, kernel_size=(1, 1), stride=(1, 1), bias=False)\n",
       "          (bn1): FrozenBatchNorm2d()\n",
       "          (conv2): Conv2d(256, 256, kernel_size=(3, 3), stride=(1, 1), padding=(1, 1), bias=False)\n",
       "          (bn2): FrozenBatchNorm2d()\n",
       "          (conv3): Conv2d(256, 1024, kernel_size=(1, 1), stride=(1, 1), bias=False)\n",
       "          (bn3): FrozenBatchNorm2d()\n",
       "          (relu): ReLU(inplace=True)\n",
       "        )\n",
       "        (5): Bottleneck(\n",
       "          (conv1): Conv2d(1024, 256, kernel_size=(1, 1), stride=(1, 1), bias=False)\n",
       "          (bn1): FrozenBatchNorm2d()\n",
       "          (conv2): Conv2d(256, 256, kernel_size=(3, 3), stride=(1, 1), padding=(1, 1), bias=False)\n",
       "          (bn2): FrozenBatchNorm2d()\n",
       "          (conv3): Conv2d(256, 1024, kernel_size=(1, 1), stride=(1, 1), bias=False)\n",
       "          (bn3): FrozenBatchNorm2d()\n",
       "          (relu): ReLU(inplace=True)\n",
       "        )\n",
       "      )\n",
       "      (layer4): Sequential(\n",
       "        (0): Bottleneck(\n",
       "          (conv1): Conv2d(1024, 512, kernel_size=(1, 1), stride=(1, 1), bias=False)\n",
       "          (bn1): FrozenBatchNorm2d()\n",
       "          (conv2): Conv2d(512, 512, kernel_size=(3, 3), stride=(2, 2), padding=(1, 1), bias=False)\n",
       "          (bn2): FrozenBatchNorm2d()\n",
       "          (conv3): Conv2d(512, 2048, kernel_size=(1, 1), stride=(1, 1), bias=False)\n",
       "          (bn3): FrozenBatchNorm2d()\n",
       "          (relu): ReLU(inplace=True)\n",
       "          (downsample): Sequential(\n",
       "            (0): Conv2d(1024, 2048, kernel_size=(1, 1), stride=(2, 2), bias=False)\n",
       "            (1): FrozenBatchNorm2d()\n",
       "          )\n",
       "        )\n",
       "        (1): Bottleneck(\n",
       "          (conv1): Conv2d(2048, 512, kernel_size=(1, 1), stride=(1, 1), bias=False)\n",
       "          (bn1): FrozenBatchNorm2d()\n",
       "          (conv2): Conv2d(512, 512, kernel_size=(3, 3), stride=(1, 1), padding=(1, 1), bias=False)\n",
       "          (bn2): FrozenBatchNorm2d()\n",
       "          (conv3): Conv2d(512, 2048, kernel_size=(1, 1), stride=(1, 1), bias=False)\n",
       "          (bn3): FrozenBatchNorm2d()\n",
       "          (relu): ReLU(inplace=True)\n",
       "        )\n",
       "        (2): Bottleneck(\n",
       "          (conv1): Conv2d(2048, 512, kernel_size=(1, 1), stride=(1, 1), bias=False)\n",
       "          (bn1): FrozenBatchNorm2d()\n",
       "          (conv2): Conv2d(512, 512, kernel_size=(3, 3), stride=(1, 1), padding=(1, 1), bias=False)\n",
       "          (bn2): FrozenBatchNorm2d()\n",
       "          (conv3): Conv2d(512, 2048, kernel_size=(1, 1), stride=(1, 1), bias=False)\n",
       "          (bn3): FrozenBatchNorm2d()\n",
       "          (relu): ReLU(inplace=True)\n",
       "        )\n",
       "      )\n",
       "    )\n",
       "    (fpn): FeaturePyramidNetwork(\n",
       "      (inner_blocks): ModuleList(\n",
       "        (0): Conv2d(256, 256, kernel_size=(1, 1), stride=(1, 1))\n",
       "        (1): Conv2d(512, 256, kernel_size=(1, 1), stride=(1, 1))\n",
       "        (2): Conv2d(1024, 256, kernel_size=(1, 1), stride=(1, 1))\n",
       "        (3): Conv2d(2048, 256, kernel_size=(1, 1), stride=(1, 1))\n",
       "      )\n",
       "      (layer_blocks): ModuleList(\n",
       "        (0): Conv2d(256, 256, kernel_size=(3, 3), stride=(1, 1), padding=(1, 1))\n",
       "        (1): Conv2d(256, 256, kernel_size=(3, 3), stride=(1, 1), padding=(1, 1))\n",
       "        (2): Conv2d(256, 256, kernel_size=(3, 3), stride=(1, 1), padding=(1, 1))\n",
       "        (3): Conv2d(256, 256, kernel_size=(3, 3), stride=(1, 1), padding=(1, 1))\n",
       "      )\n",
       "      (extra_blocks): LastLevelMaxPool()\n",
       "    )\n",
       "  )\n",
       "  (rpn): RegionProposalNetwork(\n",
       "    (anchor_generator): AnchorGenerator()\n",
       "    (head): RPNHead(\n",
       "      (conv): Conv2d(256, 256, kernel_size=(3, 3), stride=(1, 1), padding=(1, 1))\n",
       "      (cls_logits): Conv2d(256, 3, kernel_size=(1, 1), stride=(1, 1))\n",
       "      (bbox_pred): Conv2d(256, 12, kernel_size=(1, 1), stride=(1, 1))\n",
       "    )\n",
       "  )\n",
       "  (roi_heads): RoIHeads(\n",
       "    (box_roi_pool): MultiScaleRoIAlign()\n",
       "    (box_head): TwoMLPHead(\n",
       "      (fc6): Linear(in_features=12544, out_features=1024, bias=True)\n",
       "      (fc7): Linear(in_features=1024, out_features=1024, bias=True)\n",
       "    )\n",
       "    (box_predictor): FastRCNNPredictor(\n",
       "      (cls_score): Linear(in_features=1024, out_features=91, bias=True)\n",
       "      (bbox_pred): Linear(in_features=1024, out_features=364, bias=True)\n",
       "    )\n",
       "    (mask_roi_pool): MultiScaleRoIAlign()\n",
       "    (mask_head): MaskRCNNHeads(\n",
       "      (mask_fcn1): Conv2d(256, 256, kernel_size=(3, 3), stride=(1, 1), padding=(1, 1))\n",
       "      (relu1): ReLU(inplace=True)\n",
       "      (mask_fcn2): Conv2d(256, 256, kernel_size=(3, 3), stride=(1, 1), padding=(1, 1))\n",
       "      (relu2): ReLU(inplace=True)\n",
       "      (mask_fcn3): Conv2d(256, 256, kernel_size=(3, 3), stride=(1, 1), padding=(1, 1))\n",
       "      (relu3): ReLU(inplace=True)\n",
       "      (mask_fcn4): Conv2d(256, 256, kernel_size=(3, 3), stride=(1, 1), padding=(1, 1))\n",
       "      (relu4): ReLU(inplace=True)\n",
       "    )\n",
       "    (mask_predictor): MaskRCNNPredictor(\n",
       "      (conv5_mask): ConvTranspose2d(256, 256, kernel_size=(2, 2), stride=(2, 2))\n",
       "      (relu): ReLU(inplace=True)\n",
       "      (mask_fcn_logits): Conv2d(256, 91, kernel_size=(1, 1), stride=(1, 1))\n",
       "    )\n",
       "  )\n",
       ")"
      ]
     },
     "execution_count": 156,
     "metadata": {},
     "output_type": "execute_result"
    }
   ],
   "source": [
    "model = torchvision.models.detection.maskrcnn_resnet50_fpn(pretrained=True)\n",
    "model.eval()"
   ]
  },
  {
   "cell_type": "code",
   "execution_count": 158,
   "metadata": {
    "ExecuteTime": {
     "end_time": "2020-05-01T23:21:15.231918Z",
     "start_time": "2020-05-01T23:21:15.216295Z"
    }
   },
   "outputs": [],
   "source": [
    "from PIL import Image"
   ]
  },
  {
   "cell_type": "code",
   "execution_count": 182,
   "metadata": {
    "ExecuteTime": {
     "end_time": "2020-05-02T00:46:36.749488Z",
     "start_time": "2020-05-02T00:46:36.740491Z"
    }
   },
   "outputs": [
    {
     "data": {
      "text/plain": [
       "91"
      ]
     },
     "execution_count": 182,
     "metadata": {},
     "output_type": "execute_result"
    }
   ],
   "source": [
    "len(COCO_INSTANCE_CATEGORY_NAMES)"
   ]
  },
  {
   "cell_type": "code",
   "execution_count": 159,
   "metadata": {
    "ExecuteTime": {
     "end_time": "2020-05-01T23:21:16.626264Z",
     "start_time": "2020-05-01T23:21:16.586531Z"
    }
   },
   "outputs": [],
   "source": [
    "COCO_INSTANCE_CATEGORY_NAMES = [\n",
    "    '__background__', 'person', 'bicycle', 'car', 'motorcycle', 'airplane', 'bus',\n",
    "    'train', 'truck', 'boat', 'traffic light', 'fire hydrant', 'N/A', 'stop sign',\n",
    "    'parking meter', 'bench', 'bird', 'cat', 'dog', 'horse', 'sheep', 'cow',\n",
    "    'elephant', 'bear', 'zebra', 'giraffe', 'N/A', 'backpack', 'umbrella', 'N/A', 'N/A',\n",
    "    'handbag', 'tie', 'suitcase', 'frisbee', 'skis', 'snowboard', 'sports ball',\n",
    "    'kite', 'baseball bat', 'baseball glove', 'skateboard', 'surfboard', 'tennis racket',\n",
    "    'bottle', 'N/A', 'wine glass', 'cup', 'fork', 'knife', 'spoon', 'bowl',\n",
    "    'banana', 'apple', 'sandwich', 'orange', 'broccoli', 'carrot', 'hot dog', 'pizza',\n",
    "    'donut', 'cake', 'chair', 'couch', 'potted plant', 'bed', 'N/A', 'dining table',\n",
    "    'N/A', 'N/A', 'toilet', 'N/A', 'tv', 'laptop', 'mouse', 'remote', 'keyboard', 'cell phone',\n",
    "    'microwave', 'oven', 'toaster', 'sink', 'refrigerator', 'N/A', 'book',\n",
    "    'clock', 'vase', 'scissors', 'teddy bear', 'hair drier', 'toothbrush'\n",
    "]\n",
    "\n",
    "def get_prediction(img_path, threshold):\n",
    "    img = Image.open(img_path)\n",
    "    transform = T.Compose([T.ToTensor()])\n",
    "    img = transform(img)\n",
    "    pred = model([img])\n",
    "    pred_score = list(pred[0]['scores'].detach().numpy())\n",
    "    pred_t = [pred_score.index(x) for x in pred_score if x>threshold][-1]\n",
    "    masks = (pred[0]['masks']>0.5).squeeze().detach().cpu().numpy()\n",
    "    pred_class = [COCO_INSTANCE_CATEGORY_NAMES[i] for i in list(pred[0]['labels'].numpy())]\n",
    "    pred_boxes = [[(i[0], i[1]), (i[2], i[3])] for i in list(pred[0]['boxes'].detach().numpy())]\n",
    "    masks = masks[:pred_t+1]\n",
    "    pred_boxes = pred_boxes[:pred_t+1]\n",
    "    pred_class = pred_class[:pred_t+1]\n",
    "    return masks, pred_boxes, pred_class\n"
   ]
  },
  {
   "cell_type": "code",
   "execution_count": 173,
   "metadata": {
    "ExecuteTime": {
     "end_time": "2020-05-02T00:38:33.596646Z",
     "start_time": "2020-05-02T00:38:27.165867Z"
    }
   },
   "outputs": [
    {
     "name": "stderr",
     "output_type": "stream",
     "text": [
      "C:\\ProgramData\\Anaconda3\\lib\\site-packages\\torch\\nn\\functional.py:2854: UserWarning: The default behavior for interpolate/upsample with float scale_factor will change in 1.6.0 to align with other frameworks/libraries, and use scale_factor directly, instead of relying on the computed output size. If you wish to keep the old behavior, please set recompute_scale_factor=True. See the documentation of nn.Upsample for details. \n",
      "  warnings.warn(\"The default behavior for interpolate/upsample with float scale_factor will change \"\n"
     ]
    }
   ],
   "source": [
    "from torchvision import transforms as T\n",
    "a,b,c = get_prediction(config.DATA_PATH+'/train/'+train_df[train_df.columns[0]][0]+'.jpg', .5)"
   ]
  },
  {
   "cell_type": "code",
   "execution_count": 179,
   "metadata": {
    "ExecuteTime": {
     "end_time": "2020-05-02T00:43:17.351611Z",
     "start_time": "2020-05-02T00:43:17.341620Z"
    }
   },
   "outputs": [
    {
     "data": {
      "text/plain": [
       "['person', 'tie', 'tie']"
      ]
     },
     "execution_count": 179,
     "metadata": {},
     "output_type": "execute_result"
    }
   ],
   "source": [
    "c"
   ]
  },
  {
   "cell_type": "code",
   "execution_count": 181,
   "metadata": {
    "ExecuteTime": {
     "end_time": "2020-05-02T00:43:49.302959Z",
     "start_time": "2020-05-02T00:43:47.098789Z"
    }
   },
   "outputs": [
    {
     "data": {
      "text/plain": [
       "<matplotlib.image.AxesImage at 0x1d4802eedc8>"
      ]
     },
     "execution_count": 181,
     "metadata": {},
     "output_type": "execute_result"
    },
    {
     "data": {
      "image/png": "[encoded data removed]",
      "text/plain": [
       "<Figure size 432x288 with 1 Axes>"
      ]
     },
     "metadata": {
      "needs_background": "light"
     },
     "output_type": "display_data"
    }
   ],
   "source": [
    "plt.imshow(a[2])"
   ]
  },
  {
   "cell_type": "code",
   "execution_count": 180,
   "metadata": {
    "ExecuteTime": {
     "end_time": "2020-05-02T00:43:35.137450Z",
     "start_time": "2020-05-02T00:43:32.900516Z"
    }
   },
   "outputs": [
    {
     "data": {
      "text/plain": [
       "<matplotlib.image.AxesImage at 0x1d4802984c8>"
      ]
     },
     "execution_count": 180,
     "metadata": {},
     "output_type": "execute_result"
    },
    {
     "data": {
      "image/png": "[encoded data removed]",
      "text/plain": [
       "<Figure size 432x288 with 1 Axes>"
      ]
     },
     "metadata": {
      "needs_background": "light"
     },
     "output_type": "display_data"
    }
   ],
   "source": [
    "plt.imshow(a[1])"
   ]
  },
  {
   "cell_type": "code",
   "execution_count": 178,
   "metadata": {
    "ExecuteTime": {
     "end_time": "2020-05-02T00:43:02.468374Z",
     "start_time": "2020-05-02T00:43:00.163501Z"
    }
   },
   "outputs": [
    {
     "data": {
      "text/plain": [
       "<matplotlib.image.AxesImage at 0x1d513f2d508>"
      ]
     },
     "execution_count": 178,
     "metadata": {},
     "output_type": "execute_result"
    },
    {
     "data": {
      "image/png": "[encoded data removed]",
      "text/plain": [
       "<Figure size 432x288 with 1 Axes>"
      ]
     },
     "metadata": {
      "needs_background": "light"
     },
     "output_type": "display_data"
    }
   ],
   "source": [
    "plt.imshow(a[0])"
   ]
  },
  {
   "cell_type": "code",
   "execution_count": 176,
   "metadata": {
    "ExecuteTime": {
     "end_time": "2020-05-02T00:41:09.658333Z",
     "start_time": "2020-05-02T00:41:06.681486Z"
    }
   },
   "outputs": [
    {
     "data": {
      "text/plain": [
       "<matplotlib.image.AxesImage at 0x1d4801cdd08>"
      ]
     },
     "execution_count": 176,
     "metadata": {},
     "output_type": "execute_result"
    },
    {
     "data": {
      "image/png": "[encoded data removed]",
      "text/plain": [
       "<Figure size 432x288 with 1 Axes>"
      ]
     },
     "metadata": {
      "needs_background": "light"
     },
     "output_type": "display_data"
    }
   ],
   "source": [
    "plt.imshow(cv2.imread(config.DATA_PATH+'/train/'+train_df[train_df.columns[0]][0]+'.jpg'))"
   ]
  },
  {
   "cell_type": "markdown",
   "metadata": {},
   "source": [
    "# Main"
   ]
  },
  {
   "cell_type": "code",
   "execution_count": 177,
   "metadata": {
    "ExecuteTime": {
     "end_time": "2020-05-02T00:41:35.890906Z",
     "start_time": "2020-05-02T00:41:09.660332Z"
    }
   },
   "outputs": [],
   "source": [
    "config = Config()\n",
    "train_df = pd.read_csv(config.DATA_PATH+'/train.csv')"
   ]
  },
  {
   "cell_type": "code",
   "execution_count": 144,
   "metadata": {
    "ExecuteTime": {
     "end_time": "2020-05-01T22:12:21.417923Z",
     "start_time": "2020-05-01T22:12:21.303959Z"
    }
   },
   "outputs": [],
   "source": [
    "d = Dataset(config, train_df)"
   ]
  },
  {
   "cell_type": "code",
   "execution_count": 150,
   "metadata": {
    "ExecuteTime": {
     "end_time": "2020-05-01T22:13:58.102315Z",
     "start_time": "2020-05-01T22:13:44.876520Z"
    }
   },
   "outputs": [
    {
     "name": "stdout",
     "output_type": "stream",
     "text": [
      "['0cc89a84a6beab91f27e74085efa2d26' 'f241d5d9463a04b5b7fb4f87f38dec19'\n",
      " '4103ae509d6d30c5c866f98c602236d4' 'c04a4c717db7bf85b66815658ec4dabb'\n",
      " 'ffe31be462c0f3fa586171f7df788887' 'c6e7163adcb5992f36d7527ae241690d'\n",
      " '22722cf5130f94811e8bfd189c435e87' '7e7d2de5af00efbd7aa00760c5369ddf']\n"
     ]
    }
   ],
   "source": [
    "a, b, c = d.get_next_batch(resize=False)"
   ]
  },
  {
   "cell_type": "code",
   "execution_count": 184,
   "metadata": {
    "ExecuteTime": {
     "end_time": "2020-05-02T00:50:23.265283Z",
     "start_time": "2020-05-02T00:50:23.221299Z"
    }
   },
   "outputs": [
    {
     "data": {
      "text/plain": [
       "'6068157 7 6073371 20 6078584 34 6083797 48 6089010 62 6094223 72 6099436 76 6104649 80 6109862 85 6115075 89 6120288 93 6125501 98 6130714 102 6135927 106 6141140 111 6146354 114 6151567 118 6156780 123 6161993 127 6167206 131 6172419 136 6177632 140 6182845 144 6188058 149 6193271 153 6198484 157 6203697 162 6208910 166 6214124 169 6219337 174 6224550 178 6229763 182 6234976 187 6240189 191 6245402 195 6250615 200 6255828 204 6261041 208 6266254 213 6271467 218 6276680 224 6281893 229 6287107 233 6292320 238 6297533 244 6302746 249 6307959 254 6313172 259 6318385 265 6323598 270 6328811 275 6334024 280 6339237 286 6344450 291 6349663 296 6354877 300 6360090 306 6365303 311 6370516 316 6375729 322 6380942 327 6386155 332 6391368 337 6396581 343 6401794 348 6407007 353 6412220 358 6417433 364 6422647 368 6427860 373 6433073 378 6438286 384 6443499 389 6448712 394 6453925 399 6459138 405 6464351 410 6469564 415 6474777 420 6479990 426 6485203 431 6490416 436 6495630 441 6500843 446 6506056 451 6511269 456 6516482 462 6521695 467 6526908 472 6532121 477 6537334 483 6542547 488 6547760 493 6552973 498 6558186 504 6563398 510 6568610 516 6573822 522 6579034 529 6584246 535 6589458 541 6594670 548 6599882 554 6605094 572 6610306 602 6615518 621 6620730 628 6625942 635 6631154 643 6636366 650 6641578 657 6646790 665 6652003 671 6657215 679 6662427 686 6667639 693 6672851 701 6678063 708 6683275 715 6688487 723 6693699 730 6698911 737 6704123 745 6709335 752 6714547 760 6719759 767 6724971 774 6730183 782 6735395 789 6740607 796 6745819 804 6751031 811 6756243 818 6761455 826 6766667 833 6771879 841 6777091 848 6782303 855 6787515 863 6792727 870 6797939 877 6803151 885 6808363 892 6813576 898 6818788 906 6824000 913 6829212 920 6834424 926 6839636 932 6844848 938 6850060 944 6855272 950 6860484 956 6865696 962 6870908 968 6876120 975 6881331 982 6886542 989 6891754 995 6896965 1002 6902176 1009 6907388 1015 6912599 1022 6917810 1029 6923022 1035 6928233 1042 6933444 1049 6938656 1055 6943867 1062 6949078 1069 6954290 1076 6959501 1083 6964712 1090 6969924 1096 6975135 1103 6980346 1110 6985558 1117 6990769 1125 6995981 1133 7001192 1141 7006403 1150 7011615 1157 7016826 1166 7022037 1174 7027249 1182 7032460 1190 7037671 1199 7042883 1206 7048094 1215 7053305 1223 7058517 1231 7063728 1239 7068939 1245 7074151 1247 7079362 1250 7084573 1253 7089785 1255 7094996 1258 7100207 1261 7105419 1263 7110630 1266 7115841 1269 7121053 1271 7126264 1274 7131476 1276 7136687 1279 7141898 1282 7147110 1284 7152321 1287 7157532 1290 7162746 1290 7167961 1289 7173176 1288 7178392 1286 7183607 1285 7188823 1283 7194038 1282 7199254 1280 7204469 1279 7209684 1278 7214900 1276 7220115 1275 7225331 1273 7230546 1272 7235761 1271 7240975 1271 7246190 1270 7251404 1270 7256618 1270 7261833 1269 7267047 1269 7272261 1269 7277476 1268 7282690 1268 7287904 1268 7293119 1267 7298333 1267 7303547 1267 7308762 1266 7313976 1266 7319190 1266 7324404 1266 7329619 1265 7334833 1265 7340047 1265 7345262 1264 7350476 1264 7355690 1264 7360905 1263 7366119 1263 7371333 1263 7376548 1262 7381762 1262 7386976 1262 7392191 1261 7397405 1261 7402619 1261 7407833 1261 7413048 1260 7418262 1260 7423476 1260 7428691 1259 7433905 1259 7439119 1259 7444334 1258 7449548 1258 7454762 1258 7459977 1257 7465191 1257 7470405 1257 7475620 1256 7480834 1256 7486048 1256 7491262 1256 7496477 1255 7501691 1255 7506905 1255 7512120 1254 7517334 1254 7522548 1254 7527763 1253 7532977 1253 7538191 1253 7543406 1252 7548620 1252 7553834 1252 7559049 1251 7564263 1251 7569477 1251 7574691 1251 7579906 1250 7585120 1250 7590334 1250 7595549 1249 7600763 1249 7605977 1249 7611192 1248 7616406 1248 7621620 1248 7626835 1247 7632049 1247 7637263 1247 7642478 1246 7647692 1246 7652906 1246 7658120 1246 7663335 1245 7668549 1245 7673763 1245 7678978 1244 7684192 1244 7689406 1244 7694621 1243 7699835 1243 7705049 1243 7710264 1242 7715478 1242 7720692 1242 7725907 1241 7731121 1241 7736335 1241 7741549 1241 7746764 1240 7751978 1240 7757192 1240 7762407 1239 7767621 1239 7772835 1239 7778050 1238 7783264 1238 7788478 1238 7793693 1237 7798907 1237 7804121 1237 7809336 1236 7814550 1236 7819764 1236 7824978 1236 7830193 1235 7835407 1235 7840621 1235 7845835 1235 7851049 1235 7856263 1235 7861477 1235 7866691 1235 7871905 1235 7877118 1236 7882332 1236 7887546 1236 7892760 1236 7897974 1236 7903188 1236 7908402 1236 7913616 1236 7918830 1236 7924044 1236 7929258 1236 7934472 1236 7939686 1236 7944900 1236 7950114 1236 7955328 1236 7960542 1236 7965755 1237 7970969 1237 7976183 1237 7981397 1237 7986611 1237 7991825 1237 7997039 1237 8002253 1237 8007467 1237 8012681 1237 8017895 1237 8023109 1237 8028323 1237 8033537 1237 8038751 1237 8043965 1237 8049178 1238 8054392 1238 8059606 1238 8064820 1238 8070034 1238 8075248 1238 8080462 1238 8085676 1238 8090890 1238 8096104 1238 8101318 1238 8106532 1238 8111746 1238 8116960 1238 8122174 1238 8127388 1238 8132602 1238 8137815 1239 8143029 1239 8148243 1239 8153457 1239 8158671 1239 8163885 1239 8169099 1239 8174313 1239 8179527 1239 8184741 1239 8189955 1239 8195169 1239 8200383 1239 8205597 1239 8210811 1239 8216025 1239 8221239 1239 8226452 1240 8231666 1240 8236880 1240 8242094 1240 8247308 1240 8252522 1240 8257736 1240 8262950 1240 8268173 1231 8273405 1213 8278636 1196 8283868 1178 8289100 1160 8294332 1142 8299563 1125 8304795 1107 8310027 1089 8315259 1071 8320490 1054 8325722 1036 8330950 1022 8336173 1013 8341396 1004 8346620 994 8351843 985 8357066 976 8362290 966 8367513 957 8372736 948 8377960 938 8383183 929 8388406 920 8393630 910 8398853 901 8404076 892 8409300 882 8414523 873 8419746 864 8424970 854 8430193 845 8435416 836 8440640 826 8445863 817 8451086 808 8456308 800 8461528 794 8466747 789 8471967 783 8477187 777 8482407 771 8487626 766 8492846 760 8498066 754 8503286 748 8508506 742 8513725 737 8518945 731 8524165 725 8529385 719 8534604 714 8539824 708 8545044 702 8550264 696 8555484 690 8560703 685 8565923 679 8571143 673 8576363 667 8581582 662 8586802 656 8592022 650 8597242 644 8602461 639 8607681 633 8612901 627 8618121 621 8623341 615 8628560 610 8633780 604 8639000 598 8644220 592 8649439 587 8654659 581 8659879 575 8665098 570 8670315 567 8675532 564 8680749 561 8685966 558 8691184 554 8696401 551 8701618 548 8706835 545 8712052 542 8717270 538 8722487 535 8727704 532 8732921 529 8738138 526 8743356 522 8748573 519 8753790 516 8759007 513 8764224 510 8769442 506 8774659 503 8779876 500 8785093 497 8790310 494 8795528 490 8800745 487 8805962 484 8811179 481 8816396 478 8821614 474 8826831 471 8832048 468 8837265 465 8842482 462 8847700 458 8852917 455 8858134 452 8863351 449 8868568 446 8873783 445 8878998 444 8884213 443 8889428 442 8894644 440 8899859 439 8905074 438 8910289 437 8915505 435 8920720 434 8925935 433 8931150 432 8936366 430 8941581 429 8946796 428 8952011 427 8957227 425 8962442 424 8967657 423 8972872 422 8978088 420 8983303 419 8988518 418 8993733 417 8998949 415 9004164 414 9009379 413 9014594 412 9019810 410 9025025 409 9030240 408 9035455 407 9040671 405 9045886 404 9051101 403 9056316 402 9061531 401 9066747 399 9071962 398 9077177 397 9082392 396 9087608 394 9092823 393 9098038 392 9103253 391 9108469 389 9113684 388 9118899 387 9124114 386 9129330 384 9134545 383 9139760 382 9144975 381 9150191 379 9155406 378 9160621 377 9165836 376 9171052 374 9176267 373 9181482 372 9186697 371 9191913 369 9197128 368 9202343 367 9207558 366 9212773 365 9217988 364 9223202 364 9228416 364 9233631 363 9238845 363 9244059 363 9249274 362 9254488 362 9259702 362 9264917 361 9270131 361 9275346 360 9280560 360 9285774 360 9290989 359 9296203 359 9301417 359 9306632 358 9311846 358 9317061 357 9322275 357 9327489 357 9332704 356 9337918 356 9343132 356 9348347 355 9353561 355 9358775 355 9363990 354 9369204 354 9374419 353 9379633 353 9384847 353 9390062 352 9395276 352 9400490 352 9405705 351 9410919 351 9416134 350 9421348 350 9426562 350 9431777 349 9436991 349 9442205 349 9447420 348 9452634 348 9457849 347 9463063 347 9468277 347 9473492 346 9478706 346 9483920 346 9489135 345 9494349 345 9499563 345 9504778 344 9509992 344 9515207 343 9520421 343 9525635 343 9530850 342 9536064 342 9541278 342 9546493 341 9551707 341 9556921 341 9562135 341 9567349 341 9572563 341 9577777 341 9582990 342 9588204 342 9593418 342 9598632 342 9603846 342 9609060 342 9614274 342 9619488 342 9624702 342 9629916 342 9635130 342 9640344 342 9645558 342 9650771 343 9655985 343 9661199 343 9666413 343 9671627 343 9676841 343 9682055 343 9687269 343 9692483 343 9697697 343 9702911 343 9708125 343 9713339 343 9718552 344 9723766 344 9728980 344 9734194 344 9739408 344 9744622 344 9749836 344 9755050 344 9760264 344 9765478 344 9770692 344 9775906 344 9781119 345 9786333 345 9791547 345 9796761 345 9801975 345 9807189 345 9812403 345 9817617 345 9822831 345 9828045 345 9833259 345 9838473 345 9843687 345 9848900 346 9854114 346 9859328 346 9864542 346 9869756 346 9874970 346 9880184 346 9885398 346 9890612 346 9895826 346 9901040 346 9906254 346 9911468 346 9916681 347 9921895 347 9927109 347 9932323 347 9937537 347 9942751 347 9947965 347 9953179 347 9958393 347 9963607 347 9968821 347 9974035 347 9979249 347 9984462 348 9989676 348 9994890 348 10000104 348 10005318 348 10010532 348 10015746 348 10020960 348 10026174 348 10031388 348 10036602 348 10041816 348 10047029 349 10052243 349 10057457 349 10062671 349 10067885 349 10073099 349 10078313 349 10083527 349 10088741 349 10093955 349 10099169 349 10104383 349 10109597 349 10114810 350 10120024 350 10125238 350 10130452 350 10135666 350 10140880 350 10146094 350 10151308 350 10156522 350 10161736 350 10166950 350 10172164 350 10177378 350 10182591 351 10187805 351 10193019 351 10198233 351 10203447 351 10208661 351 10213875 351 10219089 351 10224303 351 10229517 351 10234731 351 10239945 351 10245159 351 10250372 352 10255586 352 10260800 352 10266014 352 10271228 352 10276442 352 10281656 352 10286870 352 10292084 352 10297298 352 10302512 352 10307726 352 10312940 352 10318153 353 10323367 353 10328581 353 10333795 353 10339009 353 10344223 353 10349437 353 10354651 353 10359865 353 10365079 353 10370293 353 10375507 353 10380721 353 10385935 353 10391149 353 10396362 354 10401576 354 10406790 354 10412004 354 10417218 354 10422432 354 10427646 354 10432860 354 10438074 354 10443288 354 10448502 354 10453716 354 10458930 354 10464144 354 10469358 354 10474571 355 10479785 355 10484999 355 10490213 355 10495427 355 10500641 355 10505855 355 10511069 355 10516283 355 10521497 355 10526711 355 10531925 355 10537139 355 10542353 355 10547566 356 10552780 356 10557994 356 10563208 356 10568422 356 10573636 356 10578850 356 10584064 356 10589278 356 10594492 356 10599706 356 10604920 356 10610134 356 10615348 356 10620562 356 10625775 357 10630989 357 10636203 357 10641417 357 10646631 357 10651845 357 10657059 357 10662273 357 10667487 357 10672701 357 10677915 357 10683129 357 10688343 357 10693557 357 10698771 357 10703984 358 10709198 358 10714412 358 10719626 358 10724840 358 10730054 358 10735268 358 10740482 358 10745696 358 10750910 358 10756124 358 10761338 358 10766552 358 10771766 358 10776980 358 10782193 359 10787407 359 10792621 359 10797835 359 10803049 359 10808263 359 10813477 359 10818691 359 10823905 359 10829119 359 10834333 359 10839547 359 10844761 359 10849975 359 10855188 360 10860402 360 10865616 360 10870830 360 10876044 360 10881258 360 10886472 360 10891686 360 10896900 360 10902114 360 10907328 360 10912542 360 10917756 360 10922970 360 10928184 360 10933397 361 10938611 361 10943825 361 10949039 361 10954253 361 10959467 361 10964681 361 10969895 361 10975109 361 10980323 361 10985537 361 10990751 361 10995965 361 11001179 361 11006393 361 11011606 362 11016820 362 11022034 362 11027248 362 11032462 362 11037676 362 11042890 362 11048104 362 11053318 362 11058532 362 11063746 362 11068960 362 11074174 362 11079388 362 11084602 362 11089815 363 11095029 363 11100243 363 11105457 363 11110671 363 11115885 363 11121099 363 11126313 363 11131527 363 11136741 363 11141955 363 11147169 363 11152383 363 11157596 364 11162810 364 11168024 364 11173238 364 11178452 364 11183666 364 11188880 364 11194094 364 11199308 364 11204522 364 11209736 364 11214950 364 11220163 365 11225377 365 11230591 365 11235805 365 11241019 365 11246233 365 11251447 365 11256661 365 11261875 365 11267089 365 11272303 365 11277517 365 11282730 366 11287944 366 11293158 366 11298372 366 11303586 366 11308800 366 11314014 366 11319228 366 11324442 366 11329656 366 11334870 366 11340084 366 11345297 367 11350511 367 11355725 367 11360939 367 11366153 367 11371367 367 11376581 367 11381795 367 11387009 367 11392223 367 11397437 367 11402651 367 11407864 368 11413078 368 11418292 368 11423506 368 11428720 368 11433934 368 11439148 368 11444362 368 11449576 368 11454790 368 11460004 368 11465218 368 11470431 369 11475645 369 11480859 369 11486073 369 11491287 369 11496501 369 11501715 369 11506929 369 11512143 369 11517357 369 11522571 369 11527785 369 11532998 370 11538212 370 11543426 370 11548640 370 11553854 370 11559068 370 11564282 370 11569496 370 11574710 370 11579924 370 11585138 370 11590352 370 11595565 371 11600779 371 11605993 371 11611207 371 11616421 371 11621635 371 11626849 371 11632063 371 11637277 371 11642491 371 11647705 371 11652919 371 11658132 372 11663346 372 11668560 372 11673774 372 11678988 372 11684202 372 11689416 372 11694630 372 11699844 372 11705058 372 11710272 372 11715486 372 11720699 373 11725913 373 11731127 373 11736341 373 11741555 373 11746769 373 11751983 373 11757197 373 11762411 373 11767625 373 11772839 373 11778053 373 11783266 374 11788480 374 11793694 374 11798908 374 11804122 374 11809336 374 11814550 374 11819764 374 11824978 374 11830192 374 11835406 374 11840620 374 11845833 375 11851047 375 11856261 375 11861475 375 11866689 375 11871903 375 11877117 375 11882331 375 11887545 375 11892759 375 11897973 375 11903187 375 11908400 376 11913614 376 11918828 376 11924042 376 11929256 376 11934470 376 11939684 376 11944898 376 11950112 376 11955326 376 11960540 376 11965754 376 11970967 377 11976181 377 11981395 377 11986609 377 11991823 377 11997037 377 12002251 377 12007465 377 12012679 377 12017893 377 12023107 377 12028321 377 12033534 378 12038748 378 12043962 378 12049176 378 12054390 378 12059604 378 12064818 378 12070032 378 12075246 378 12080460 378 12085674 378 12090888 378 12096101 379 12101315 379 12106529 379 12111743 379 12116957 379 12122171 379 12127385 379 12132599 379 12137813 379 12143027 379 12148241 379 12153455 379 12158668 380 12163882 380 12169096 380 12174310 380 12179524 380 12184738 380 12189952 380 12195166 380 12200380 380 12205594 380 12210808 380 12216022 380 12221235 381 12226449 381 12231663 381 12236877 381 12242091 381 12247305 381 12252519 381 12257733 381 12262947 381 12268161 381 12273375 381 12278589 381 12283802 382 12289016 382 12294230 382 12299444 382 12304658 382 12309872 382 12315086 382 12320300 382 12325514 382 12330728 382 12335942 382 12341156 382 12346369 383 12351583 383 12356797 383 12362011 383 12367225 383 12372439 383 12377654 382 12382870 380 12388086 378 12393301 377 12398517 375 12403733 373 12408949 371 12414165 369 12419381 367 12424597 365 12429813 363 12435028 362 12440244 360 12445460 358 12450676 356 12455892 354 12461107 353 12466322 352 12471536 352 12476750 352 12481965 351 12487179 351 12492394 350 12497608 350 12502822 350 12508037 349 12513251 349 12518466 348 12523680 348 12528894 348 12534109 347 12539323 347 12544537 347 12549752 346 12554966 346 12560181 345 12565395 345 12570609 345 12575824 344 12581038 344 12586253 343 12591467 343 12596681 343 12601896 342 12607110 342 12612325 341 12617539 341 12622753 341 12627968 340 12633182 340 12638397 339 12643611 339 12648825 339 12654040 338 12659254 338 12664469 337 12669683 337 12674897 337 12680112 336 12685326 336 12690541 335 12695755 335 12700969 335 12706184 334 12711398 334 12716612 334 12721826 334 12727040 334 12732254 334 12737468 334 12742682 334 12747896 334 12753110 334 12758324 334 12763538 334 12768751 335 12773965 335 12779179 335 12784393 335 12789607 335 12794821 335 12800035 335 12805249 335 12810463 335 12815677 335 12820891 335 12826105 335 12831319 335 12836533 335 12841747 335 12846961 335 12852175 335 12857389 335 12862603 335 12867817 335 12873031 335 12878245 335 12883458 336 12888672 336 12893886 336 12899100 336 12904314 336 12909528 336 12914742 336 12919956 336 12925170 336 12930384 336 12935598 336 12940812 336 12946028 334 12951243 333 12956458 332 12961673 331 12966888 330 12972104 328 12977319 327 12982534 326 12987749 325 12992964 324 12998180 322 13003395 321 13008610 320 13013825 319 13019040 318 13024255 317 13029471 315 13034686 314 13039901 313 13045116 312 13050331 311 13055547 309 13060762 308 13065977 307 13071192 306 13076407 305 13081622 304 13086836 304 13092050 304 13097264 304 13102478 304 13107692 304 13112906 304 13118120 304 13123334 304 13128548 304 13133762 304 13138976 304 13144190 304 13149404 304 13154618 304 13159832 304 13165046 304 13170260 304 13175474 304 13180688 304 13185902 304 13191116 304 13196330 304 13201544 304 13206758 304 13211972 304 13217186 304 13222400 304 13227614 304 13232828 304 13238042 304 13243256 304 13248471 303 13253685 303 13258899 303 13264113 303 13269327 303 13274541 303 13279755 303 13284969 303 13290183 303 13295397 303 13300611 303 13305825 303 13311039 303 13316253 303 13321467 303 13326681 303 13331895 303 13337109 303 13342323 303 13347537 303 13352751 303 13357965 303 13363179 303 13368393 303 13373607 303 13378821 303 13384035 303 13389249 303 13394463 303 13399677 303 13404891 303 13410105 303 13415318 304 13420531 305 13425744 306 13430957 307 13436169 309 13441382 310 13446595 311 13451808 312 13457021 313 13462233 315 13467446 316 13472659 317 13477872 318 13483085 319 13488297 321 13493510 322 13498723 323 13503936 324 13509148 326 13514361 327 13519574 328 13524787 329 13530000 330 13535212 332 13540425 333 13545638 334 13550851 335 13556064 336 13561277 337 13566491 337 13571706 336 13576920 336 13582134 336 13587349 335 13592563 335 13597777 335 13602992 334 13608206 334 13613420 334 13618634 334 13623849 333 13629063 333 13634277 333 13639492 332 13644706 332 13649920 332 13655134 332 13660349 331 13665563 331 13670777 331 13675992 330 13681206 330 13686420 330 13691635 329 13696849 329 13702063 329 13707277 329 13712492 328 13717706 328 13722920 328 13728135 327 13733349 327 13738563 327 13743778 326 13748992 326 13754206 326 13759420 326 13764635 325 13769849 325 13775063 325 13780278 324 13785492 324 13790706 324 13795921 323 13801135 323 13806349 323 13811563 323 13816776 324 13821990 324 13827204 324 13832418 324 13837631 325 13842845 325 13848059 325 13853272 326 13858486 326 13863700 326 13868914 326 13874127 327 13879341 327 13884555 327 13889769 327 13894982 328 13900196 328 13905410 328 13910624 328 13915837 329 13921051 329 13926265 329 13931478 330 13936692 330 13941906 330 13947120 330 13952333 331 13957547 331 13962761 331 13967975 331 13973188 332 13978402 332 13983616 332 13988830 332 13994043 333 13999257 333 14004471 333 14009684 334 14014898 334 14020112 334 14025326 334 14030539 335 14035753 335 14040967 335 14046181 335 14051394 336 14056608 336 14061820 338 14067030 342 14072239 347 14077449 351 14082659 355 14087869 359 14093079 363 14098288 368 14103498 372 14108708 376 14113920 378 14119135 377 14124349 377 14129563 377 14134778 376 14139992 376 14145207 375 14150421 375 14155636 374 14160850 374 14166065 373 14171279 373 14176493 373 14181708 372 14186922 372 14192137 371 14197351 371 14202566 370 14207780 370 14212994 370 14218209 369 14223423 369 14228638 368 14233852 368 14239067 367 14244281 367 14249495 367 14254710 366 14259924 366 14265139 365 14270353 365 14275568 364 14280782 364 14285997 363 14291211 363 14296425 363 14301640 362 14306854 362 14312069 361 14317283 361 14322498 360 14327712 360 14332926 360 14338141 359 14343355 359 14348570 358 14353784 358 14358997 359 14364210 360 14369424 360 14374637 361 14379850 362 14385064 362 14390277 363 14395490 364 14400704 364 14405917 365 14411131 365 14416344 366 14421557 367 14426771 367 14431984 368 14437197 369 14442411 369 14447624 370 14452837 371 14458051 371 14463264 372 14468477 373 14473691 373 14478904 374 14484118 374 14489331 375 14494544 376 14499758 376 14504971 377 14510184 378 14515398 378 14520611 379 14525824 380 14531038 380 14536251 381 14541464 382 14546678 382 14551891 383 14557105 383 14562318 384 14567531 385 14572742 388 14577949 395 14583156 402 14588364 408 14593571 415 14598779 421 14603986 428 14609194 434 14614401 441 14619608 448 14624816 454 14630023 461 14635231 467 14640438 474 14645649 477 14650862 478 14656075 479 14661289 479 14666502 468 14671716 445 14676929 423 14682142 401 14687356 378 14692569 356 14697782 334 14702996 311 14708209 289 14713423 266 14718636 244 14723849 227 14729063 212 14734276 199 14739489 186 14744703 171 14749916 158 14755130 144 14760343 130 14765556 117 14770770 103 14775983 89 14781196 76 14786410 61 14791623 48 14796837 34 14802050 20 14807263 7'"
      ]
     },
     "execution_count": 184,
     "metadata": {},
     "output_type": "execute_result"
    }
   ],
   "source": [
    "train_df[train_df.columns[1]][0]"
   ]
  },
  {
   "cell_type": "code",
   "execution_count": null,
   "metadata": {},
   "outputs": [],
   "source": []
  }
 ],
 "metadata": {
  "kernelspec": {
   "display_name": "Python 3",
   "language": "python",
   "name": "python3"
  },
  "language_info": {
   "codemirror_mode": {
    "name": "ipython",
    "version": 3
   },
   "file_extension": ".py",
   "mimetype": "text/x-python",
   "name": "python",
   "nbconvert_exporter": "python",
   "pygments_lexer": "ipython3",
   "version": "3.7.4"
  },
  "toc": {
   "base_numbering": 1,
   "nav_menu": {},
   "number_sections": true,
   "sideBar": true,
   "skip_h1_title": false,
   "title_cell": "Table of Contents",
   "title_sidebar": "Contents",
   "toc_cell": false,
   "toc_position": {},
   "toc_section_display": true,
   "toc_window_display": false
  },
  "varInspector": {
   "cols": {
    "lenName": 16,
    "lenType": 16,
    "lenVar": 40
   },
   "kernels_config": {
    "python": {
     "delete_cmd_postfix": "",
     "delete_cmd_prefix": "del ",
     "library": "var_list.py",
     "varRefreshCmd": "print(var_dic_list())"
    },
    "r": {
     "delete_cmd_postfix": ") ",
     "delete_cmd_prefix": "rm(",
     "library": "var_list.r",
     "varRefreshCmd": "cat(var_dic_list()) "
    }
   },
   "types_to_exclude": [
    "module",
    "function",
    "builtin_function_or_method",
    "instance",
    "_Feature"
   ],
   "window_display": false
  }
 },
 "nbformat": 4,
 "nbformat_minor": 2
}
